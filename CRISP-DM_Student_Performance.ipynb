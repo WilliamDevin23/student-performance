{
 "cells": [
  {
   "cell_type": "markdown",
   "metadata": {
    "id": "Qyx1GSBJ_gzJ"
   },
   "source": [
    "# **Laporan Project Kursus LSP Data Science**\n",
    "Nama  : William Devin Septianus Pranggono  \n",
    "Kelas : 4IA06  \n",
    "NPM   : 51421517"
   ]
  },
  {
   "cell_type": "markdown",
   "metadata": {
    "id": "GdnewwqQC749"
   },
   "source": [
    "## **Import Libraries**"
   ]
  },
  {
   "cell_type": "code",
   "execution_count": 1,
   "metadata": {
    "id": "tNRXcrZrVLsB"
   },
   "outputs": [
    {
     "name": "stdout",
     "output_type": "stream",
     "text": [
      "WARNING:tensorflow:From C:\\Users\\User\\anaconda3\\envs\\trileven\\Lib\\site-packages\\keras\\src\\losses.py:2976: The name tf.losses.sparse_softmax_cross_entropy is deprecated. Please use tf.compat.v1.losses.sparse_softmax_cross_entropy instead.\n",
      "\n"
     ]
    }
   ],
   "source": [
    "import matplotlib.pyplot as plt\n",
    "import pandas as pd\n",
    "import seaborn as sns\n",
    "import numpy as np\n",
    "import tensorflow as tf\n",
    "from sklearn.model_selection import train_test_split\n",
    "from sklearn.preprocessing import MinMaxScaler\n",
    "from sklearn.dummy import DummyClassifier\n",
    "from sklearn.metrics import confusion_matrix, classification_report\n",
    "from sklearn.model_selection import GridSearchCV\n",
    "from sklearn.neighbors import KNeighborsClassifier\n",
    "from sklearn.ensemble import RandomForestClassifier\n",
    "from xgboost import XGBClassifier"
   ]
  },
  {
   "cell_type": "markdown",
   "metadata": {
    "id": "ot5U1UNfAsDS"
   },
   "source": [
    "## **Business Understanding**"
   ]
  },
  {
   "cell_type": "markdown",
   "metadata": {
    "id": "3I2KqTw0Av8e"
   },
   "source": [
    "### **Latar Belakang**"
   ]
  },
  {
   "cell_type": "markdown",
   "metadata": {
    "id": "WYUb6sFbKEZc"
   },
   "source": [
    "Pendidikan merupakan hal yang penting bagi manusia untuk meningkatkan mutu kehidupan dan mendapatkan kemampuan yang dapat bermanfaat bagi kelangsungan hidup pribadi maupun orang lain. Oleh karena itu, mutu pendidikan harus ditingkatkan untuk menjamin bahwa siswa mendapatkan keterampilan sehingga dapat berkontribusi dan berkarya dalam lingkungan masyarakat.\n",
    "\n",
    "Tingkat sekolah menengah atas (SMA) merupakan tingkat yang krusial, karena performa belajar siswa turut menentukan langkah selanjutnya dalam dunia pendidikan, yaitu universitas, yang akan menentukan profesi dan jalan hidup mereka. Oleh karena itu, diperlukan penelitian untuk menentukan faktor yang paling berpengaruh terhadap kinerja belajar siswa."
   ]
  },
  {
   "cell_type": "markdown",
   "metadata": {
    "id": "IA3OAquyLhd1"
   },
   "source": [
    "Menurut Yandi *et al.* (2023), mutu pendidikan yang baik dapat dilihat dari hasil belajar yang telah dicapai siswa, dan dapat dikatakan tercapai apabila siswa telah mendapatkan perkembangan yang diharapkan pada tujuan pembelajaran, yang dapat dibuktikan dengan nilai ujian yang ditempuh.\n",
    "\n",
    "Performa siswa dapat dipengaruhi oleh berbagai faktor, seperti motivasi belajar siswa dan lingkungan keluarga. Menurut Mawarsih *et al*. (2013), motivasi belajar yang kuat dalam diri siswa dapat mendorong siswa untuk lebih bersemangat dalam belajar dan meraih prestasi belajar yang optimal. Sedangkan, peran keluarga khususnya orang tua dalam mendukung proses belajar siswa juga sangat penting, seperti menyediakan fasilitas atau lingkungan belajar yang nyaman dan pendekatan orang tua dalam mendidik dan membimbing siswa.\n",
    "\n",
    "Pendidikan yang maju turut serta meningkatkan kualitas SDM manusia, yang dapat memberi dampak yang besar bagi masyarakat dan negara. Peran orang tua dan tenaga pendidik sangat penting untuk memastikan performa belajar siswa."
   ]
  },
  {
   "cell_type": "markdown",
   "metadata": {
    "id": "LMZnttiuBsdz"
   },
   "source": [
    "### **Problem Statements**"
   ]
  },
  {
   "cell_type": "markdown",
   "metadata": {
    "id": "-2U2OqRelIt3"
   },
   "source": [
    "* Faktor apa yang paling berpengaruh terhadap prestasi belajar siswa?\n",
    "* Apa grade yang mungkin didapatkan siswa berdasarkan nilai variabel tertentu?"
   ]
  },
  {
   "cell_type": "markdown",
   "metadata": {
    "id": "9i2ueeZOBv1L"
   },
   "source": [
    "### **Goals**"
   ]
  },
  {
   "cell_type": "markdown",
   "metadata": {
    "id": "RJpMPI-roEMI"
   },
   "source": [
    "* Mengetahui fitur yang paling berpengaruh terhadap GPA atau Grade siswa.\n",
    "* Membuat model yang dapat memprediksi Grade siswa berdasarkan fitur-fitur yang ada."
   ]
  },
  {
   "cell_type": "markdown",
   "metadata": {
    "id": "KbvRc__cCGDt"
   },
   "source": [
    "### **Solution Statements**"
   ]
  },
  {
   "cell_type": "markdown",
   "metadata": {
    "id": "OYqR_Pc1pz5s"
   },
   "source": [
    "* Menggunakan Dummy Classifier pada library Scikit-Learn sebagai model baseline.\n",
    "* Menggunakan algoritma KNN, XGBoost, Random Forest Classifier, dan Neural Network untuk mencari model dengan metrik optimal.\n",
    "* Mencari parameter terbaik dengan algoritma Grid Search.\n",
    "* Melakukan percobaan struktur model Neural Network dengan satu dan dua layer."
   ]
  },
  {
   "cell_type": "markdown",
   "metadata": {
    "id": "gfQE8ceBCJ4s"
   },
   "source": [
    "## **Data Understanding**"
   ]
  },
  {
   "cell_type": "markdown",
   "metadata": {
    "id": "8Fc9794eCOmq"
   },
   "source": [
    "### **Tentang Dataset**"
   ]
  },
  {
   "cell_type": "markdown",
   "metadata": {
    "id": "r-VHnZsQ-JQs"
   },
   "source": [
    "Dataset ini mengandung informasi komprehensif dari 2,392 siswa menengah atas, berisi detil dari demografi, kebiasaan belajar, keterlibatan orang tua, aktivitas ekstrakurikuler, dan performa akademik. Variabel target, GradeClass, mengklasifikasikan nilai siswa menjadi beberapa kategori, menyediakan dataset yang solid untuk penelitian edukasional, permodelan prediktif, dan analisis statistik.\n",
    "\n",
    "[Dataset](https://www.kaggle.com/datasets/rabieelkharoua/students-performance-dataset?resource=download) diambil dari Kaggle."
   ]
  },
  {
   "cell_type": "markdown",
   "metadata": {
    "id": "Y38IT7sCFbD2"
   },
   "source": [
    "### **Variabel-Variabel yang Digunakan pada Dataset**"
   ]
  },
  {
   "cell_type": "markdown",
   "metadata": {
    "id": "HsV_l95vFZrw"
   },
   "source": [
    "1. Student ID  \n",
    "StudentID: ID unik untuk tiap siswa (1001 to 3392).\n",
    "\n",
    "2. Age : Usia siswa dengan rentang 15 hingga 18 tahun.\n",
    "\n",
    "3. Gender: Gender siswa, 0 untuk pria dan 1 untuk wanita.\n",
    "\n",
    "4. Ethnicity: Etnis siswa dengan detil seperti berikut.  \n",
    "0: Caucasian  \n",
    "1: African American  \n",
    "2: Asian  \n",
    "3: Other  \n",
    "\n",
    "5. ParentalEducation: tingkat pendidikan orang tua dengan detil seperti berikut.  \n",
    "0: None  \n",
    "1: High School  \n",
    "2: Some College  \n",
    "3: Bachelor's  \n",
    "4: Higher  \n",
    "\n",
    "6. StudyTimeWeekly: Jam belajar siswa per minggu (dalam satuan jam), dengan rentang 0 hingga 20.\n",
    "\n",
    "7. Absences: Jumlah absensi siswa selama 1 tahun pembelajaran, dengan rentang 0 hingga 30.\n",
    "\n",
    "8. Tutoring: Partisipasi pada program tutoring, 0 untuk \"Tidak\" dan 1 untuk \"Ya\".\n",
    "\n",
    "9. ParentalSupport: Level dukungan orang tua, dengan detil seperti berikut.  \n",
    "0: None  \n",
    "1: Low  \n",
    "2: Moderate  \n",
    "3: High  \n",
    "4: Very High  \n",
    "\n",
    "10. Extracurricular: Partisipasi pada aktivitas ekstrakurikuler, 0 untuk \"Tidak\" dan 1 untuk \"Ya\".\n",
    "\n",
    "11. Sports: Partisipasi pada aktivitas olah raga, 0 untuk \"Tidak\" dan 1 untuk \"Ya\".\n",
    "\n",
    "12. Music: Partisipasi pada aktivitas musik, 0 untuk \"Tidak\" dan 1 untuk \"Ya\".\n",
    "\n",
    "13. Volunteering: Partisipasi pada aktivitas sukarelawan, 0 untuk \"Tidak\" dan 1 untuk \"Ya\".\n",
    "\n",
    "14. GPA: Grade Point Average dengan skala maksimum 4.0.\n",
    "\n",
    "15. GradeClass: Klasifikasi tingkat nilai siswa berdasarkan GPA, dengan detil seperti berikut.  \n",
    "0: 'A' (GPA >= 3.5)  \n",
    "1: 'B' (3.0 <= GPA < 3.5)  \n",
    "2: 'C' (2.5 <= GPA < 3.0)  \n",
    "3: 'D' (2.0 <= GPA < 2.5)  \n",
    "4: 'E' (GPA < 2.0)"
   ]
  },
  {
   "cell_type": "markdown",
   "metadata": {
    "id": "dPun8C7IWQKs"
   },
   "source": [
    "### **Data Analysis**"
   ]
  },
  {
   "cell_type": "markdown",
   "metadata": {
    "id": "JBscunTwWdpu"
   },
   "source": [
    "#### **Import Data**"
   ]
  },
  {
   "cell_type": "code",
   "execution_count": 2,
   "metadata": {
    "id": "6BYw0n5IVV9h"
   },
   "outputs": [],
   "source": [
    "df = pd.read_csv('Student_performance_data _.csv')"
   ]
  },
  {
   "cell_type": "markdown",
   "metadata": {
    "id": "nY-v6cY7Z-r5"
   },
   "source": [
    "#### **Data Inspection**"
   ]
  },
  {
   "cell_type": "code",
   "execution_count": 3,
   "metadata": {
    "colab": {
     "base_uri": "https://localhost:8080/"
    },
    "id": "90UyLBMco9LE",
    "outputId": "41b88f7a-f609-4f83-a2f3-f5a7706e3598"
   },
   "outputs": [
    {
     "name": "stdout",
     "output_type": "stream",
     "text": [
      "<class 'pandas.core.frame.DataFrame'>\n",
      "RangeIndex: 2392 entries, 0 to 2391\n",
      "Data columns (total 15 columns):\n",
      " #   Column             Non-Null Count  Dtype  \n",
      "---  ------             --------------  -----  \n",
      " 0   StudentID          2392 non-null   int64  \n",
      " 1   Age                2392 non-null   int64  \n",
      " 2   Gender             2392 non-null   int64  \n",
      " 3   Ethnicity          2392 non-null   int64  \n",
      " 4   ParentalEducation  2392 non-null   int64  \n",
      " 5   StudyTimeWeekly    2392 non-null   float64\n",
      " 6   Absences           2392 non-null   int64  \n",
      " 7   Tutoring           2392 non-null   int64  \n",
      " 8   ParentalSupport    2392 non-null   int64  \n",
      " 9   Extracurricular    2392 non-null   int64  \n",
      " 10  Sports             2392 non-null   int64  \n",
      " 11  Music              2392 non-null   int64  \n",
      " 12  Volunteering       2392 non-null   int64  \n",
      " 13  GPA                2392 non-null   float64\n",
      " 14  GradeClass         2392 non-null   float64\n",
      "dtypes: float64(3), int64(12)\n",
      "memory usage: 280.4 KB\n"
     ]
    }
   ],
   "source": [
    "df.info()"
   ]
  },
  {
   "cell_type": "code",
   "execution_count": 4,
   "metadata": {
    "colab": {
     "base_uri": "https://localhost:8080/",
     "height": 520
    },
    "id": "pCuQu54dVe3x",
    "outputId": "3a451d18-3fc4-4e22-ecb6-b87fab8110d3"
   },
   "outputs": [
    {
     "data": {
      "text/html": [
       "<div>\n",
       "<style scoped>\n",
       "    .dataframe tbody tr th:only-of-type {\n",
       "        vertical-align: middle;\n",
       "    }\n",
       "\n",
       "    .dataframe tbody tr th {\n",
       "        vertical-align: top;\n",
       "    }\n",
       "\n",
       "    .dataframe thead th {\n",
       "        text-align: right;\n",
       "    }\n",
       "</style>\n",
       "<table border=\"1\" class=\"dataframe\">\n",
       "  <thead>\n",
       "    <tr style=\"text-align: right;\">\n",
       "      <th></th>\n",
       "      <th>count</th>\n",
       "      <th>mean</th>\n",
       "      <th>std</th>\n",
       "      <th>min</th>\n",
       "      <th>25%</th>\n",
       "      <th>50%</th>\n",
       "      <th>75%</th>\n",
       "      <th>max</th>\n",
       "    </tr>\n",
       "  </thead>\n",
       "  <tbody>\n",
       "    <tr>\n",
       "      <th>StudentID</th>\n",
       "      <td>2392.0</td>\n",
       "      <td>2196.500000</td>\n",
       "      <td>690.655244</td>\n",
       "      <td>1001.000000</td>\n",
       "      <td>1598.750000</td>\n",
       "      <td>2196.500000</td>\n",
       "      <td>2794.250000</td>\n",
       "      <td>3392.000000</td>\n",
       "    </tr>\n",
       "    <tr>\n",
       "      <th>Age</th>\n",
       "      <td>2392.0</td>\n",
       "      <td>16.468645</td>\n",
       "      <td>1.123798</td>\n",
       "      <td>15.000000</td>\n",
       "      <td>15.000000</td>\n",
       "      <td>16.000000</td>\n",
       "      <td>17.000000</td>\n",
       "      <td>18.000000</td>\n",
       "    </tr>\n",
       "    <tr>\n",
       "      <th>Gender</th>\n",
       "      <td>2392.0</td>\n",
       "      <td>0.510870</td>\n",
       "      <td>0.499986</td>\n",
       "      <td>0.000000</td>\n",
       "      <td>0.000000</td>\n",
       "      <td>1.000000</td>\n",
       "      <td>1.000000</td>\n",
       "      <td>1.000000</td>\n",
       "    </tr>\n",
       "    <tr>\n",
       "      <th>Ethnicity</th>\n",
       "      <td>2392.0</td>\n",
       "      <td>0.877508</td>\n",
       "      <td>1.028476</td>\n",
       "      <td>0.000000</td>\n",
       "      <td>0.000000</td>\n",
       "      <td>0.000000</td>\n",
       "      <td>2.000000</td>\n",
       "      <td>3.000000</td>\n",
       "    </tr>\n",
       "    <tr>\n",
       "      <th>ParentalEducation</th>\n",
       "      <td>2392.0</td>\n",
       "      <td>1.746237</td>\n",
       "      <td>1.000411</td>\n",
       "      <td>0.000000</td>\n",
       "      <td>1.000000</td>\n",
       "      <td>2.000000</td>\n",
       "      <td>2.000000</td>\n",
       "      <td>4.000000</td>\n",
       "    </tr>\n",
       "    <tr>\n",
       "      <th>StudyTimeWeekly</th>\n",
       "      <td>2392.0</td>\n",
       "      <td>9.771992</td>\n",
       "      <td>5.652774</td>\n",
       "      <td>0.001057</td>\n",
       "      <td>5.043079</td>\n",
       "      <td>9.705363</td>\n",
       "      <td>14.408410</td>\n",
       "      <td>19.978094</td>\n",
       "    </tr>\n",
       "    <tr>\n",
       "      <th>Absences</th>\n",
       "      <td>2392.0</td>\n",
       "      <td>14.541388</td>\n",
       "      <td>8.467417</td>\n",
       "      <td>0.000000</td>\n",
       "      <td>7.000000</td>\n",
       "      <td>15.000000</td>\n",
       "      <td>22.000000</td>\n",
       "      <td>29.000000</td>\n",
       "    </tr>\n",
       "    <tr>\n",
       "      <th>Tutoring</th>\n",
       "      <td>2392.0</td>\n",
       "      <td>0.301421</td>\n",
       "      <td>0.458971</td>\n",
       "      <td>0.000000</td>\n",
       "      <td>0.000000</td>\n",
       "      <td>0.000000</td>\n",
       "      <td>1.000000</td>\n",
       "      <td>1.000000</td>\n",
       "    </tr>\n",
       "    <tr>\n",
       "      <th>ParentalSupport</th>\n",
       "      <td>2392.0</td>\n",
       "      <td>2.122074</td>\n",
       "      <td>1.122813</td>\n",
       "      <td>0.000000</td>\n",
       "      <td>1.000000</td>\n",
       "      <td>2.000000</td>\n",
       "      <td>3.000000</td>\n",
       "      <td>4.000000</td>\n",
       "    </tr>\n",
       "    <tr>\n",
       "      <th>Extracurricular</th>\n",
       "      <td>2392.0</td>\n",
       "      <td>0.383361</td>\n",
       "      <td>0.486307</td>\n",
       "      <td>0.000000</td>\n",
       "      <td>0.000000</td>\n",
       "      <td>0.000000</td>\n",
       "      <td>1.000000</td>\n",
       "      <td>1.000000</td>\n",
       "    </tr>\n",
       "    <tr>\n",
       "      <th>Sports</th>\n",
       "      <td>2392.0</td>\n",
       "      <td>0.303512</td>\n",
       "      <td>0.459870</td>\n",
       "      <td>0.000000</td>\n",
       "      <td>0.000000</td>\n",
       "      <td>0.000000</td>\n",
       "      <td>1.000000</td>\n",
       "      <td>1.000000</td>\n",
       "    </tr>\n",
       "    <tr>\n",
       "      <th>Music</th>\n",
       "      <td>2392.0</td>\n",
       "      <td>0.196906</td>\n",
       "      <td>0.397744</td>\n",
       "      <td>0.000000</td>\n",
       "      <td>0.000000</td>\n",
       "      <td>0.000000</td>\n",
       "      <td>0.000000</td>\n",
       "      <td>1.000000</td>\n",
       "    </tr>\n",
       "    <tr>\n",
       "      <th>Volunteering</th>\n",
       "      <td>2392.0</td>\n",
       "      <td>0.157191</td>\n",
       "      <td>0.364057</td>\n",
       "      <td>0.000000</td>\n",
       "      <td>0.000000</td>\n",
       "      <td>0.000000</td>\n",
       "      <td>0.000000</td>\n",
       "      <td>1.000000</td>\n",
       "    </tr>\n",
       "    <tr>\n",
       "      <th>GPA</th>\n",
       "      <td>2392.0</td>\n",
       "      <td>1.906186</td>\n",
       "      <td>0.915156</td>\n",
       "      <td>0.000000</td>\n",
       "      <td>1.174803</td>\n",
       "      <td>1.893393</td>\n",
       "      <td>2.622216</td>\n",
       "      <td>4.000000</td>\n",
       "    </tr>\n",
       "    <tr>\n",
       "      <th>GradeClass</th>\n",
       "      <td>2392.0</td>\n",
       "      <td>2.983696</td>\n",
       "      <td>1.233908</td>\n",
       "      <td>0.000000</td>\n",
       "      <td>2.000000</td>\n",
       "      <td>4.000000</td>\n",
       "      <td>4.000000</td>\n",
       "      <td>4.000000</td>\n",
       "    </tr>\n",
       "  </tbody>\n",
       "</table>\n",
       "</div>"
      ],
      "text/plain": [
       "                    count         mean         std          min          25%  \\\n",
       "StudentID          2392.0  2196.500000  690.655244  1001.000000  1598.750000   \n",
       "Age                2392.0    16.468645    1.123798    15.000000    15.000000   \n",
       "Gender             2392.0     0.510870    0.499986     0.000000     0.000000   \n",
       "Ethnicity          2392.0     0.877508    1.028476     0.000000     0.000000   \n",
       "ParentalEducation  2392.0     1.746237    1.000411     0.000000     1.000000   \n",
       "StudyTimeWeekly    2392.0     9.771992    5.652774     0.001057     5.043079   \n",
       "Absences           2392.0    14.541388    8.467417     0.000000     7.000000   \n",
       "Tutoring           2392.0     0.301421    0.458971     0.000000     0.000000   \n",
       "ParentalSupport    2392.0     2.122074    1.122813     0.000000     1.000000   \n",
       "Extracurricular    2392.0     0.383361    0.486307     0.000000     0.000000   \n",
       "Sports             2392.0     0.303512    0.459870     0.000000     0.000000   \n",
       "Music              2392.0     0.196906    0.397744     0.000000     0.000000   \n",
       "Volunteering       2392.0     0.157191    0.364057     0.000000     0.000000   \n",
       "GPA                2392.0     1.906186    0.915156     0.000000     1.174803   \n",
       "GradeClass         2392.0     2.983696    1.233908     0.000000     2.000000   \n",
       "\n",
       "                           50%          75%          max  \n",
       "StudentID          2196.500000  2794.250000  3392.000000  \n",
       "Age                  16.000000    17.000000    18.000000  \n",
       "Gender                1.000000     1.000000     1.000000  \n",
       "Ethnicity             0.000000     2.000000     3.000000  \n",
       "ParentalEducation     2.000000     2.000000     4.000000  \n",
       "StudyTimeWeekly       9.705363    14.408410    19.978094  \n",
       "Absences             15.000000    22.000000    29.000000  \n",
       "Tutoring              0.000000     1.000000     1.000000  \n",
       "ParentalSupport       2.000000     3.000000     4.000000  \n",
       "Extracurricular       0.000000     1.000000     1.000000  \n",
       "Sports                0.000000     1.000000     1.000000  \n",
       "Music                 0.000000     0.000000     1.000000  \n",
       "Volunteering          0.000000     0.000000     1.000000  \n",
       "GPA                   1.893393     2.622216     4.000000  \n",
       "GradeClass            4.000000     4.000000     4.000000  "
      ]
     },
     "execution_count": 4,
     "metadata": {},
     "output_type": "execute_result"
    }
   ],
   "source": [
    "df.describe().T"
   ]
  },
  {
   "cell_type": "code",
   "execution_count": 5,
   "metadata": {
    "colab": {
     "base_uri": "https://localhost:8080/",
     "height": 554
    },
    "id": "EHOaSu9opITY",
    "outputId": "0d5ec447-bf31-4f4d-d227-b19b72ec6fe1"
   },
   "outputs": [
    {
     "data": {
      "text/plain": [
       "StudentID            0\n",
       "Age                  0\n",
       "Gender               0\n",
       "Ethnicity            0\n",
       "ParentalEducation    0\n",
       "StudyTimeWeekly      0\n",
       "Absences             0\n",
       "Tutoring             0\n",
       "ParentalSupport      0\n",
       "Extracurricular      0\n",
       "Sports               0\n",
       "Music                0\n",
       "Volunteering         0\n",
       "GPA                  0\n",
       "GradeClass           0\n",
       "dtype: int64"
      ]
     },
     "execution_count": 5,
     "metadata": {},
     "output_type": "execute_result"
    }
   ],
   "source": [
    "df.isna().sum()"
   ]
  },
  {
   "cell_type": "code",
   "execution_count": 6,
   "metadata": {
    "colab": {
     "base_uri": "https://localhost:8080/"
    },
    "id": "GQ5axB-WpKnA",
    "outputId": "22abfa5b-c02b-4d55-bee6-41046a237adb"
   },
   "outputs": [
    {
     "data": {
      "text/plain": [
       "0"
      ]
     },
     "execution_count": 6,
     "metadata": {},
     "output_type": "execute_result"
    }
   ],
   "source": [
    "df.duplicated().sum()"
   ]
  },
  {
   "cell_type": "markdown",
   "metadata": {
    "id": "fsZgduzMpOEo"
   },
   "source": [
    "Tidak ada nilai *null* dan *record* duplikat."
   ]
  },
  {
   "cell_type": "markdown",
   "metadata": {
    "id": "F-YWOOOrpCHR"
   },
   "source": [
    "Beberapa hal yang perlu dilakukan adalah sebagai berikut.  \n",
    "a. Menghilangkan data *outliers* (jika ada).  \n",
    "b. Menerjemahkan fitur-fitur kategorikal untuk kemudahan penyampaian informasi pada grafik."
   ]
  },
  {
   "cell_type": "markdown",
   "metadata": {
    "id": "eWziYTQmo1Eg"
   },
   "source": [
    "#### **Data Cleaning**"
   ]
  },
  {
   "cell_type": "markdown",
   "metadata": {
    "id": "rVsjGZZTtdJk"
   },
   "source": [
    "##### **Translate the Categorical Values**"
   ]
  },
  {
   "cell_type": "code",
   "execution_count": 7,
   "metadata": {
    "id": "cwc0egstsGhh"
   },
   "outputs": [],
   "source": [
    "df_translated = df.copy()"
   ]
  },
  {
   "cell_type": "code",
   "execution_count": 8,
   "metadata": {
    "id": "Cu6qxMa4o0h1"
   },
   "outputs": [],
   "source": [
    "# Replace Gender Values\n",
    "df_translated[\"Gender\"] = df_translated[\"Gender\"].replace({0:\"Male\", 1:\"Female\"})\n",
    "\n",
    "# Replace Ethnicity\n",
    "df_translated[\"Ethnicity\"] = df_translated[\"Ethnicity\"].replace({0:\"Caucasian\", 1:\"African American\",\n",
    "                                           2:\"Asian\", 3:\"Other\"})\n",
    "\n",
    "# Replace Parental Education\n",
    "df_translated[\"ParentalEducation\"] = df_translated[\"ParentalEducation\"].replace({0:\"None\", 1:\"High School\",\n",
    "                                                           2:\"Some College\", 3:\"Bachelor's\",\n",
    "                                                           4:\"Higher\"})\n",
    "\n",
    "# Replace Tutoring Status\n",
    "df_translated[\"Tutoring\"] = df_translated[\"Tutoring\"].replace({0:\"No\", 1:\"Yes\"})\n",
    "\n",
    "# Replace Parental Involvement\n",
    "df_translated[\"ParentalSupport\"] = df_translated[\"ParentalSupport\"].replace({0:\"None\", 1:\"Low\",\n",
    "                                                                             2:\"Moderate\", 3:\"High\",\n",
    "                                                                             4:\"Very High\"})\n",
    "\n",
    "# Replace Extracurricular Status\n",
    "df_translated[\"Extracurricular\"] = df_translated[\"Extracurricular\"].replace({0:\"No\", 1:\"Yes\"})\n",
    "\n",
    "# Replace Sports Status\n",
    "df_translated[\"Sports\"] = df_translated[\"Sports\"].replace({0:\"No\", 1:\"Yes\"})\n",
    "\n",
    "# Replace Music Status\n",
    "df_translated[\"Music\"] = df_translated[\"Music\"].replace({0:\"No\", 1:\"Yes\"})\n",
    "\n",
    "# Replace Volunteering Status\n",
    "df_translated[\"Volunteering\"] = df_translated[\"Volunteering\"].replace({0:\"No\", 1:\"Yes\"})\n",
    "\n",
    "# Replace GradeClass\n",
    "df_translated[\"GradeClass\"] = df_translated[\"GradeClass\"].replace({0:\"A\", 1:\"B\",\n",
    "                                                                   2:\"C\", 3:\"D\",\n",
    "                                                                   4:\"E\"})"
   ]
  },
  {
   "cell_type": "code",
   "execution_count": 9,
   "metadata": {
    "colab": {
     "base_uri": "https://localhost:8080/",
     "height": 226
    },
    "id": "pJY2KVDisoQq",
    "outputId": "da0104f0-7de8-411e-fd7f-a824c177a04d"
   },
   "outputs": [
    {
     "data": {
      "text/html": [
       "<div>\n",
       "<style scoped>\n",
       "    .dataframe tbody tr th:only-of-type {\n",
       "        vertical-align: middle;\n",
       "    }\n",
       "\n",
       "    .dataframe tbody tr th {\n",
       "        vertical-align: top;\n",
       "    }\n",
       "\n",
       "    .dataframe thead th {\n",
       "        text-align: right;\n",
       "    }\n",
       "</style>\n",
       "<table border=\"1\" class=\"dataframe\">\n",
       "  <thead>\n",
       "    <tr style=\"text-align: right;\">\n",
       "      <th></th>\n",
       "      <th>StudentID</th>\n",
       "      <th>Age</th>\n",
       "      <th>Gender</th>\n",
       "      <th>Ethnicity</th>\n",
       "      <th>ParentalEducation</th>\n",
       "      <th>StudyTimeWeekly</th>\n",
       "      <th>Absences</th>\n",
       "      <th>Tutoring</th>\n",
       "      <th>ParentalSupport</th>\n",
       "      <th>Extracurricular</th>\n",
       "      <th>Sports</th>\n",
       "      <th>Music</th>\n",
       "      <th>Volunteering</th>\n",
       "      <th>GPA</th>\n",
       "      <th>GradeClass</th>\n",
       "    </tr>\n",
       "  </thead>\n",
       "  <tbody>\n",
       "    <tr>\n",
       "      <th>0</th>\n",
       "      <td>1001</td>\n",
       "      <td>17</td>\n",
       "      <td>Female</td>\n",
       "      <td>Caucasian</td>\n",
       "      <td>Some College</td>\n",
       "      <td>19.833723</td>\n",
       "      <td>7</td>\n",
       "      <td>Yes</td>\n",
       "      <td>Moderate</td>\n",
       "      <td>No</td>\n",
       "      <td>No</td>\n",
       "      <td>Yes</td>\n",
       "      <td>No</td>\n",
       "      <td>2.929196</td>\n",
       "      <td>C</td>\n",
       "    </tr>\n",
       "    <tr>\n",
       "      <th>1</th>\n",
       "      <td>1002</td>\n",
       "      <td>18</td>\n",
       "      <td>Male</td>\n",
       "      <td>Caucasian</td>\n",
       "      <td>High School</td>\n",
       "      <td>15.408756</td>\n",
       "      <td>0</td>\n",
       "      <td>No</td>\n",
       "      <td>Low</td>\n",
       "      <td>No</td>\n",
       "      <td>No</td>\n",
       "      <td>No</td>\n",
       "      <td>No</td>\n",
       "      <td>3.042915</td>\n",
       "      <td>B</td>\n",
       "    </tr>\n",
       "    <tr>\n",
       "      <th>2</th>\n",
       "      <td>1003</td>\n",
       "      <td>15</td>\n",
       "      <td>Male</td>\n",
       "      <td>Asian</td>\n",
       "      <td>Bachelor's</td>\n",
       "      <td>4.210570</td>\n",
       "      <td>26</td>\n",
       "      <td>No</td>\n",
       "      <td>Moderate</td>\n",
       "      <td>No</td>\n",
       "      <td>No</td>\n",
       "      <td>No</td>\n",
       "      <td>No</td>\n",
       "      <td>0.112602</td>\n",
       "      <td>E</td>\n",
       "    </tr>\n",
       "    <tr>\n",
       "      <th>3</th>\n",
       "      <td>1004</td>\n",
       "      <td>17</td>\n",
       "      <td>Female</td>\n",
       "      <td>Caucasian</td>\n",
       "      <td>Bachelor's</td>\n",
       "      <td>10.028829</td>\n",
       "      <td>14</td>\n",
       "      <td>No</td>\n",
       "      <td>High</td>\n",
       "      <td>Yes</td>\n",
       "      <td>No</td>\n",
       "      <td>No</td>\n",
       "      <td>No</td>\n",
       "      <td>2.054218</td>\n",
       "      <td>D</td>\n",
       "    </tr>\n",
       "    <tr>\n",
       "      <th>4</th>\n",
       "      <td>1005</td>\n",
       "      <td>17</td>\n",
       "      <td>Female</td>\n",
       "      <td>Caucasian</td>\n",
       "      <td>Some College</td>\n",
       "      <td>4.672495</td>\n",
       "      <td>17</td>\n",
       "      <td>Yes</td>\n",
       "      <td>High</td>\n",
       "      <td>No</td>\n",
       "      <td>No</td>\n",
       "      <td>No</td>\n",
       "      <td>No</td>\n",
       "      <td>1.288061</td>\n",
       "      <td>E</td>\n",
       "    </tr>\n",
       "  </tbody>\n",
       "</table>\n",
       "</div>"
      ],
      "text/plain": [
       "   StudentID  Age  Gender  Ethnicity ParentalEducation  StudyTimeWeekly  \\\n",
       "0       1001   17  Female  Caucasian      Some College        19.833723   \n",
       "1       1002   18    Male  Caucasian       High School        15.408756   \n",
       "2       1003   15    Male      Asian        Bachelor's         4.210570   \n",
       "3       1004   17  Female  Caucasian        Bachelor's        10.028829   \n",
       "4       1005   17  Female  Caucasian      Some College         4.672495   \n",
       "\n",
       "   Absences Tutoring ParentalSupport Extracurricular Sports Music  \\\n",
       "0         7      Yes        Moderate              No     No   Yes   \n",
       "1         0       No             Low              No     No    No   \n",
       "2        26       No        Moderate              No     No    No   \n",
       "3        14       No            High             Yes     No    No   \n",
       "4        17      Yes            High              No     No    No   \n",
       "\n",
       "  Volunteering       GPA GradeClass  \n",
       "0           No  2.929196          C  \n",
       "1           No  3.042915          B  \n",
       "2           No  0.112602          E  \n",
       "3           No  2.054218          D  \n",
       "4           No  1.288061          E  "
      ]
     },
     "execution_count": 9,
     "metadata": {},
     "output_type": "execute_result"
    }
   ],
   "source": [
    "df_translated.head()"
   ]
  },
  {
   "cell_type": "markdown",
   "metadata": {
    "id": "9g7KtMEWtt60"
   },
   "source": [
    "##### **Delete Outliers**"
   ]
  },
  {
   "cell_type": "code",
   "execution_count": 10,
   "metadata": {
    "colab": {
     "base_uri": "https://localhost:8080/"
    },
    "id": "z40DwPPw2xlx",
    "outputId": "d973f137-e18f-49ff-d327-2820a36f090d"
   },
   "outputs": [
    {
     "data": {
      "text/plain": [
       "['StudentID', 'Age', 'StudyTimeWeekly', 'Absences', 'GPA']"
      ]
     },
     "execution_count": 10,
     "metadata": {},
     "output_type": "execute_result"
    }
   ],
   "source": [
    "num_columns = [c for c in df_translated.columns if df_translated[c].dtype in [\"int64\", \"float64\"]]\n",
    "num_columns"
   ]
  },
  {
   "cell_type": "code",
   "execution_count": 11,
   "metadata": {
    "colab": {
     "base_uri": "https://localhost:8080/",
     "height": 676
    },
    "id": "lIyv1wFW3Jdu",
    "outputId": "6e320820-caba-4701-ecaa-594e4db09d0a"
   },
   "outputs": [
    {
     "data": {
      "image/png": "[encoded data removed]",
      "text/plain": [
       "<Figure size 800x800 with 1 Axes>"
      ]
     },
     "metadata": {},
     "output_type": "display_data"
    }
   ],
   "source": [
    "plt.figure(figsize=(8,8))\n",
    "sns.boxplot(data=df_translated[num_columns[1:]], orient='h')\n",
    "plt.show()"
   ]
  },
  {
   "cell_type": "markdown",
   "metadata": {
    "id": "nP3lB6yN5tct"
   },
   "source": [
    "Berdasarkan boxplot, tidak terdapat *outliers* pada data numerik."
   ]
  },
  {
   "cell_type": "markdown",
   "metadata": {
    "id": "Lttj5L5CsqSb"
   },
   "source": [
    "##### **Checking GPA Consistency**"
   ]
  },
  {
   "cell_type": "code",
   "execution_count": 12,
   "metadata": {
    "id": "omNoUJnis6yQ"
   },
   "outputs": [],
   "source": [
    "def grading(gpa) :\n",
    "    if gpa >= 3.5 :\n",
    "        return 0\n",
    "    elif 3.0 <= gpa < 3.5 :\n",
    "        return 1\n",
    "    elif 2.5 <= gpa < 3.0 :\n",
    "        return 2\n",
    "    elif 2.0 <= gpa < 2.5 :\n",
    "        return 3\n",
    "    else :\n",
    "        return 4"
   ]
  },
  {
   "cell_type": "code",
   "execution_count": 13,
   "metadata": {
    "id": "RIlfmKbisvir"
   },
   "outputs": [],
   "source": [
    "df['GradeFromGPA'] = df['GPA'].apply(grading)"
   ]
  },
  {
   "cell_type": "code",
   "execution_count": 14,
   "metadata": {
    "colab": {
     "base_uri": "https://localhost:8080/"
    },
    "id": "lSIYrfVNtZqs",
    "outputId": "6710121e-4b89-4506-fa46-8106db7a6ea4"
   },
   "outputs": [
    {
     "name": "stdout",
     "output_type": "stream",
     "text": [
      "Jumlah data = 2392\n",
      "Jumlah data dengan Grade yang sesuai persyaratan = 2224\n"
     ]
    }
   ],
   "source": [
    "print(f\"Jumlah data = {len(df)}\")\n",
    "print(f\"Jumlah data dengan Grade yang sesuai persyaratan = {len(df.loc[df['GradeClass'] == df['GradeFromGPA']])}\")"
   ]
  },
  {
   "cell_type": "code",
   "execution_count": 15,
   "metadata": {
    "id": "rZLNR9FAuKsZ"
   },
   "outputs": [],
   "source": [
    "df.drop(columns='GradeFromGPA', inplace=True)"
   ]
  },
  {
   "cell_type": "code",
   "execution_count": 16,
   "metadata": {
    "id": "digNl4JMuOwF"
   },
   "outputs": [],
   "source": [
    "df['GradeClass'] = df['GPA'].apply(grading)"
   ]
  },
  {
   "cell_type": "markdown",
   "metadata": {
    "id": "-RTpSYjFCxdp"
   },
   "source": [
    "#### **EDA dan Visualisasi**"
   ]
  },
  {
   "cell_type": "markdown",
   "metadata": {
    "id": "Nn6DWMIQFcXN"
   },
   "source": [
    "##### **Distribusi Data**"
   ]
  },
  {
   "cell_type": "code",
   "execution_count": 17,
   "metadata": {
    "colab": {
     "base_uri": "https://localhost:8080/",
     "height": 500
    },
    "id": "CYgWQXwK5IG6",
    "outputId": "bcb3f71d-c343-48d1-a17f-7ca56cac038e"
   },
   "outputs": [
    {
     "data": {
      "image/png": "[encoded data removed]",
      "text/plain": [
       "<Figure size 640x480 with 4 Axes>"
      ]
     },
     "metadata": {},
     "output_type": "display_data"
    }
   ],
   "source": [
    "df_translated[num_columns[1:]].hist(bins=50)\n",
    "plt.suptitle(\"Distribusi Data untuk Fitur Numerik\", fontsize=18)\n",
    "plt.tight_layout(pad=0.5)\n",
    "plt.show()"
   ]
  },
  {
   "cell_type": "markdown",
   "metadata": {
    "id": "bfu2b92T7dwW"
   },
   "source": [
    "Berdasarkan plot tersebut, dapat disimpulkan bahwa persebaran nilai *StudyTimeWeekly*, *Absences*, dan *Age* menunjukkan distribusi seragam (*uniform*), sedangkan persebaran GPA mengikuti distribusi normal (*Gaussian*)."
   ]
  },
  {
   "cell_type": "code",
   "execution_count": 18,
   "metadata": {
    "colab": {
     "base_uri": "https://localhost:8080/",
     "height": 429
    },
    "id": "V_9hLBacGhuc",
    "outputId": "3bfd9816-a4e8-49ec-d83c-4ae18a7c8b92"
   },
   "outputs": [
    {
     "data": {
      "image/png": "[encoded data removed]",
      "text/plain": [
       "<Figure size 3000x1000 with 10 Axes>"
      ]
     },
     "metadata": {},
     "output_type": "display_data"
    }
   ],
   "source": [
    "plt.figure(figsize=(30,10))\n",
    "for i, c in enumerate(df_translated.loc[:, ~df_translated.columns.isin(num_columns)].columns) :\n",
    "    data_each_col = df_translated[c].value_counts().sort_values(ascending=False)\n",
    "    plt.subplot(2, 5, i+1)\n",
    "    sns.barplot(data=data_each_col, legend=False)\n",
    "    plt.xlabel(None)\n",
    "    plt.title(c)\n",
    "plt.tight_layout(pad=1)\n",
    "plt.show()"
   ]
  },
  {
   "cell_type": "markdown",
   "metadata": {
    "id": "iATmmxNtSB45"
   },
   "source": [
    "Berdasarkan *plot* tersebut, dapat disimpulkan bahwa :\n",
    "\n",
    "a. Tingkat dukungan orang tua didominasi kelas *Moderate* dan *High*.\n",
    "\n",
    "b. Sebagian besar latar belakang pendidikan orang tua siswa adalah hanya menghadiri beberapa perkuliahan dan sekolah menengah atas.\n",
    "\n",
    "c. Terdapat ketidakseimbangan jumlah siswa menurut etnis yang didominasi *Caucasian*.\n",
    "\n",
    "d. Jumlah siswa yang tidak mengikuti kegiatan di luar kelas (ekskul, olah raga, dan sebagainya) lebih banyak daripada mereka yang mengikuti kegiatan.\n",
    "\n",
    "e. Sebagian besar siswa pada dataset memiliki *grade* E di kelas."
   ]
  },
  {
   "cell_type": "markdown",
   "metadata": {
    "id": "I-zmRo0qzxVZ"
   },
   "source": [
    "##### **Analisis Fitur Age**"
   ]
  },
  {
   "cell_type": "code",
   "execution_count": 19,
   "metadata": {
    "colab": {
     "base_uri": "https://localhost:8080/",
     "height": 206
    },
    "id": "n2cVgBWtzzmq",
    "outputId": "f746994a-5b6b-4dce-be9c-6c927bdbe776"
   },
   "outputs": [
    {
     "data": {
      "text/html": [
       "<div>\n",
       "<style scoped>\n",
       "    .dataframe tbody tr th:only-of-type {\n",
       "        vertical-align: middle;\n",
       "    }\n",
       "\n",
       "    .dataframe tbody tr th {\n",
       "        vertical-align: top;\n",
       "    }\n",
       "\n",
       "    .dataframe thead th {\n",
       "        text-align: right;\n",
       "    }\n",
       "</style>\n",
       "<table border=\"1\" class=\"dataframe\">\n",
       "  <thead>\n",
       "    <tr style=\"text-align: right;\">\n",
       "      <th></th>\n",
       "      <th>GPA</th>\n",
       "    </tr>\n",
       "    <tr>\n",
       "      <th>Age</th>\n",
       "      <th></th>\n",
       "    </tr>\n",
       "  </thead>\n",
       "  <tbody>\n",
       "    <tr>\n",
       "      <th>17</th>\n",
       "      <td>1.927030</td>\n",
       "    </tr>\n",
       "    <tr>\n",
       "      <th>16</th>\n",
       "      <td>1.907534</td>\n",
       "    </tr>\n",
       "    <tr>\n",
       "      <th>15</th>\n",
       "      <td>1.898509</td>\n",
       "    </tr>\n",
       "    <tr>\n",
       "      <th>18</th>\n",
       "      <td>1.892101</td>\n",
       "    </tr>\n",
       "  </tbody>\n",
       "</table>\n",
       "</div>"
      ],
      "text/plain": [
       "          GPA\n",
       "Age          \n",
       "17   1.927030\n",
       "16   1.907534\n",
       "15   1.898509\n",
       "18   1.892101"
      ]
     },
     "execution_count": 19,
     "metadata": {},
     "output_type": "execute_result"
    }
   ],
   "source": [
    "df_translated.groupby('Age').agg({'GPA':'mean'}).sort_values(by='GPA', ascending=False)"
   ]
  },
  {
   "cell_type": "markdown",
   "metadata": {
    "id": "xEv9dh6Az_qJ"
   },
   "source": [
    "Siswa dengan kelompok usia 17 tahun memiliki rata-rata GPA tertinggi. Namun, perbedaannya dengan kelompok usia lain relatif sedikit."
   ]
  },
  {
   "cell_type": "markdown",
   "metadata": {
    "id": "Ego4ubhpvITC"
   },
   "source": [
    "##### **Analisis Fitur Gender**"
   ]
  },
  {
   "cell_type": "code",
   "execution_count": 20,
   "metadata": {
    "colab": {
     "base_uri": "https://localhost:8080/",
     "height": 143
    },
    "id": "tef_FmrhSAt6",
    "outputId": "63b3562a-6c9b-4831-a75b-3eb3fb76b6ad"
   },
   "outputs": [
    {
     "data": {
      "text/html": [
       "<div>\n",
       "<style scoped>\n",
       "    .dataframe tbody tr th:only-of-type {\n",
       "        vertical-align: middle;\n",
       "    }\n",
       "\n",
       "    .dataframe tbody tr th {\n",
       "        vertical-align: top;\n",
       "    }\n",
       "\n",
       "    .dataframe thead th {\n",
       "        text-align: right;\n",
       "    }\n",
       "</style>\n",
       "<table border=\"1\" class=\"dataframe\">\n",
       "  <thead>\n",
       "    <tr style=\"text-align: right;\">\n",
       "      <th></th>\n",
       "      <th>GPA</th>\n",
       "    </tr>\n",
       "    <tr>\n",
       "      <th>Gender</th>\n",
       "      <th></th>\n",
       "    </tr>\n",
       "  </thead>\n",
       "  <tbody>\n",
       "    <tr>\n",
       "      <th>Female</th>\n",
       "      <td>1.894225</td>\n",
       "    </tr>\n",
       "    <tr>\n",
       "      <th>Male</th>\n",
       "      <td>1.918679</td>\n",
       "    </tr>\n",
       "  </tbody>\n",
       "</table>\n",
       "</div>"
      ],
      "text/plain": [
       "             GPA\n",
       "Gender          \n",
       "Female  1.894225\n",
       "Male    1.918679"
      ]
     },
     "execution_count": 20,
     "metadata": {},
     "output_type": "execute_result"
    }
   ],
   "source": [
    "df_translated.groupby('Gender').agg({'GPA':'mean'})"
   ]
  },
  {
   "cell_type": "markdown",
   "metadata": {
    "id": "wOAN3mWavGTK"
   },
   "source": [
    "Siswa laki-laki memiliki rata-rata GPA yang sedikit lebih tinggi daripada siswa perempuan."
   ]
  },
  {
   "cell_type": "markdown",
   "metadata": {
    "id": "BBbbbGz-vLFh"
   },
   "source": [
    "##### **Analisis Fitur Ethnicity**"
   ]
  },
  {
   "cell_type": "code",
   "execution_count": 21,
   "metadata": {
    "colab": {
     "base_uri": "https://localhost:8080/",
     "height": 206
    },
    "id": "kqEnJapZs4HA",
    "outputId": "dd240677-f433-4f74-a48e-59345b3848b0"
   },
   "outputs": [
    {
     "data": {
      "text/html": [
       "<div>\n",
       "<style scoped>\n",
       "    .dataframe tbody tr th:only-of-type {\n",
       "        vertical-align: middle;\n",
       "    }\n",
       "\n",
       "    .dataframe tbody tr th {\n",
       "        vertical-align: top;\n",
       "    }\n",
       "\n",
       "    .dataframe thead th {\n",
       "        text-align: right;\n",
       "    }\n",
       "</style>\n",
       "<table border=\"1\" class=\"dataframe\">\n",
       "  <thead>\n",
       "    <tr style=\"text-align: right;\">\n",
       "      <th></th>\n",
       "      <th>GPA</th>\n",
       "    </tr>\n",
       "    <tr>\n",
       "      <th>Ethnicity</th>\n",
       "      <th></th>\n",
       "    </tr>\n",
       "  </thead>\n",
       "  <tbody>\n",
       "    <tr>\n",
       "      <th>Other</th>\n",
       "      <td>1.947696</td>\n",
       "    </tr>\n",
       "    <tr>\n",
       "      <th>African American</th>\n",
       "      <td>1.946437</td>\n",
       "    </tr>\n",
       "    <tr>\n",
       "      <th>Asian</th>\n",
       "      <td>1.922125</td>\n",
       "    </tr>\n",
       "    <tr>\n",
       "      <th>Caucasian</th>\n",
       "      <td>1.875905</td>\n",
       "    </tr>\n",
       "  </tbody>\n",
       "</table>\n",
       "</div>"
      ],
      "text/plain": [
       "                       GPA\n",
       "Ethnicity                 \n",
       "Other             1.947696\n",
       "African American  1.946437\n",
       "Asian             1.922125\n",
       "Caucasian         1.875905"
      ]
     },
     "execution_count": 21,
     "metadata": {},
     "output_type": "execute_result"
    }
   ],
   "source": [
    "df_translated.groupby('Ethnicity').agg({'GPA':'mean'}).sort_values(by='GPA', ascending=False)"
   ]
  },
  {
   "cell_type": "markdown",
   "metadata": {
    "id": "bHA1mjl6xSe1"
   },
   "source": [
    "Etnis African American dan Other (lainnya) memiliki rata-rata GPA yang lebih tinggi daripada etnis lainnya."
   ]
  },
  {
   "cell_type": "markdown",
   "metadata": {
    "id": "A6B0fatYxer5"
   },
   "source": [
    "##### **Analisis Fitur Parental Education**"
   ]
  },
  {
   "cell_type": "code",
   "execution_count": 22,
   "metadata": {
    "colab": {
     "base_uri": "https://localhost:8080/",
     "height": 238
    },
    "id": "2boyT5K3tEXj",
    "outputId": "61cdfca4-dbf5-41fc-e668-8af5b17d2697"
   },
   "outputs": [
    {
     "data": {
      "text/html": [
       "<div>\n",
       "<style scoped>\n",
       "    .dataframe tbody tr th:only-of-type {\n",
       "        vertical-align: middle;\n",
       "    }\n",
       "\n",
       "    .dataframe tbody tr th {\n",
       "        vertical-align: top;\n",
       "    }\n",
       "\n",
       "    .dataframe thead th {\n",
       "        text-align: right;\n",
       "    }\n",
       "</style>\n",
       "<table border=\"1\" class=\"dataframe\">\n",
       "  <thead>\n",
       "    <tr style=\"text-align: right;\">\n",
       "      <th></th>\n",
       "      <th>GPA</th>\n",
       "    </tr>\n",
       "    <tr>\n",
       "      <th>ParentalEducation</th>\n",
       "      <th></th>\n",
       "    </tr>\n",
       "  </thead>\n",
       "  <tbody>\n",
       "    <tr>\n",
       "      <th>High School</th>\n",
       "      <td>1.944022</td>\n",
       "    </tr>\n",
       "    <tr>\n",
       "      <th>Some College</th>\n",
       "      <td>1.929881</td>\n",
       "    </tr>\n",
       "    <tr>\n",
       "      <th>None</th>\n",
       "      <td>1.893045</td>\n",
       "    </tr>\n",
       "    <tr>\n",
       "      <th>Higher</th>\n",
       "      <td>1.815812</td>\n",
       "    </tr>\n",
       "    <tr>\n",
       "      <th>Bachelor's</th>\n",
       "      <td>1.809082</td>\n",
       "    </tr>\n",
       "  </tbody>\n",
       "</table>\n",
       "</div>"
      ],
      "text/plain": [
       "                        GPA\n",
       "ParentalEducation          \n",
       "High School        1.944022\n",
       "Some College       1.929881\n",
       "None               1.893045\n",
       "Higher             1.815812\n",
       "Bachelor's         1.809082"
      ]
     },
     "execution_count": 22,
     "metadata": {},
     "output_type": "execute_result"
    }
   ],
   "source": [
    "df_translated.groupby('ParentalEducation').agg({'GPA':'mean'}).sort_values(by='GPA', ascending=False)"
   ]
  },
  {
   "cell_type": "markdown",
   "metadata": {
    "id": "SzE-eU7exiUq"
   },
   "source": [
    "Siswa dengan latar belakang pendidikan orang tua High School memiliki rata-rata GPA tertinggi. Dapat disimpulkan bahwa latar belakang pendidikan orang tua tidak memiliki pengaruh yang signifikan terhadap GPA siswa."
   ]
  },
  {
   "cell_type": "markdown",
   "metadata": {
    "id": "JrJrRrktzKt9"
   },
   "source": [
    "##### **Analisis Fitur Parental Support**"
   ]
  },
  {
   "cell_type": "code",
   "execution_count": 23,
   "metadata": {
    "colab": {
     "base_uri": "https://localhost:8080/",
     "height": 238
    },
    "id": "83Geyllht9rU",
    "outputId": "6fe7eb40-95a0-407b-ec66-aa4c20762b36"
   },
   "outputs": [
    {
     "data": {
      "text/html": [
       "<div>\n",
       "<style scoped>\n",
       "    .dataframe tbody tr th:only-of-type {\n",
       "        vertical-align: middle;\n",
       "    }\n",
       "\n",
       "    .dataframe tbody tr th {\n",
       "        vertical-align: top;\n",
       "    }\n",
       "\n",
       "    .dataframe thead th {\n",
       "        text-align: right;\n",
       "    }\n",
       "</style>\n",
       "<table border=\"1\" class=\"dataframe\">\n",
       "  <thead>\n",
       "    <tr style=\"text-align: right;\">\n",
       "      <th></th>\n",
       "      <th>GPA</th>\n",
       "    </tr>\n",
       "    <tr>\n",
       "      <th>ParentalSupport</th>\n",
       "      <th></th>\n",
       "    </tr>\n",
       "  </thead>\n",
       "  <tbody>\n",
       "    <tr>\n",
       "      <th>Very High</th>\n",
       "      <td>2.191545</td>\n",
       "    </tr>\n",
       "    <tr>\n",
       "      <th>High</th>\n",
       "      <td>2.042409</td>\n",
       "    </tr>\n",
       "    <tr>\n",
       "      <th>Moderate</th>\n",
       "      <td>1.884246</td>\n",
       "    </tr>\n",
       "    <tr>\n",
       "      <th>Low</th>\n",
       "      <td>1.755700</td>\n",
       "    </tr>\n",
       "    <tr>\n",
       "      <th>None</th>\n",
       "      <td>1.540128</td>\n",
       "    </tr>\n",
       "  </tbody>\n",
       "</table>\n",
       "</div>"
      ],
      "text/plain": [
       "                      GPA\n",
       "ParentalSupport          \n",
       "Very High        2.191545\n",
       "High             2.042409\n",
       "Moderate         1.884246\n",
       "Low              1.755700\n",
       "None             1.540128"
      ]
     },
     "execution_count": 23,
     "metadata": {},
     "output_type": "execute_result"
    }
   ],
   "source": [
    "df_translated.groupby('ParentalSupport').agg({'GPA':'mean'}).sort_values(by='GPA', ascending=False)"
   ]
  },
  {
   "cell_type": "markdown",
   "metadata": {
    "id": "3eLOSY0HzSDR"
   },
   "source": [
    "Peranan orang tua dalam mendukung pendidikan anak mereka sangat penting. Hal ini dibuktikan dengan rata-rata GPA yang semakin tinggi diiringi dengan tingkat dukungan orang tua yang semakin tinggi."
   ]
  },
  {
   "cell_type": "markdown",
   "metadata": {
    "id": "nOzNXfVW0QTL"
   },
   "source": [
    "##### **Analisis Fitur Study Time Weekly**"
   ]
  },
  {
   "cell_type": "code",
   "execution_count": 24,
   "metadata": {
    "colab": {
     "base_uri": "https://localhost:8080/",
     "height": 238
    },
    "id": "8_901t580QTs",
    "outputId": "df6bace9-890b-487e-c0ef-669f86869dcd"
   },
   "outputs": [
    {
     "data": {
      "text/html": [
       "<div>\n",
       "<style scoped>\n",
       "    .dataframe tbody tr th:only-of-type {\n",
       "        vertical-align: middle;\n",
       "    }\n",
       "\n",
       "    .dataframe tbody tr th {\n",
       "        vertical-align: top;\n",
       "    }\n",
       "\n",
       "    .dataframe thead th {\n",
       "        text-align: right;\n",
       "    }\n",
       "</style>\n",
       "<table border=\"1\" class=\"dataframe\">\n",
       "  <thead>\n",
       "    <tr style=\"text-align: right;\">\n",
       "      <th></th>\n",
       "      <th>StudyTimeWeekly</th>\n",
       "    </tr>\n",
       "    <tr>\n",
       "      <th>GradeClass</th>\n",
       "      <th></th>\n",
       "    </tr>\n",
       "  </thead>\n",
       "  <tbody>\n",
       "    <tr>\n",
       "      <th>A</th>\n",
       "      <td>11.854926</td>\n",
       "    </tr>\n",
       "    <tr>\n",
       "      <th>B</th>\n",
       "      <td>11.122335</td>\n",
       "    </tr>\n",
       "    <tr>\n",
       "      <th>C</th>\n",
       "      <td>10.106404</td>\n",
       "    </tr>\n",
       "    <tr>\n",
       "      <th>D</th>\n",
       "      <td>9.757963</td>\n",
       "    </tr>\n",
       "    <tr>\n",
       "      <th>E</th>\n",
       "      <td>9.184822</td>\n",
       "    </tr>\n",
       "  </tbody>\n",
       "</table>\n",
       "</div>"
      ],
      "text/plain": [
       "            StudyTimeWeekly\n",
       "GradeClass                 \n",
       "A                 11.854926\n",
       "B                 11.122335\n",
       "C                 10.106404\n",
       "D                  9.757963\n",
       "E                  9.184822"
      ]
     },
     "execution_count": 24,
     "metadata": {},
     "output_type": "execute_result"
    }
   ],
   "source": [
    "df_translated.groupby('GradeClass').agg({'StudyTimeWeekly':'mean'})"
   ]
  },
  {
   "cell_type": "markdown",
   "metadata": {
    "id": "oJkNaCyJ5uoh"
   },
   "source": [
    "Siswa dengan Grade yang lebih tinggi memiliki waktu belajar per minggu yang lebih lama."
   ]
  },
  {
   "cell_type": "markdown",
   "metadata": {
    "id": "gqCLJe9nwuYk"
   },
   "source": [
    "##### **Korelasi Antar Fitur**"
   ]
  },
  {
   "cell_type": "code",
   "execution_count": 25,
   "metadata": {
    "colab": {
     "base_uri": "https://localhost:8080/",
     "height": 774
    },
    "id": "_YhH4YBxEGDY",
    "outputId": "d9b808e7-9d80-4d99-f88a-cd188710a22f"
   },
   "outputs": [
    {
     "data": {
      "image/png": "[encoded data removed]",
      "text/plain": [
       "<Figure size 2000x1000 with 2 Axes>"
      ]
     },
     "metadata": {},
     "output_type": "display_data"
    }
   ],
   "source": [
    "plt.figure(figsize=(20,10))\n",
    "sns.heatmap(df.iloc[:, 1:].corr(), annot=True, cmap='Blues', fmt='.2f')\n",
    "plt.title(\"Heatmap Correlation\", fontsize=18)\n",
    "plt.show()"
   ]
  },
  {
   "cell_type": "markdown",
   "metadata": {
    "id": "kEZO8l2rFNc-"
   },
   "source": [
    "Berdasarkan *heatmap* tersebut, dapat disimpulkan bahwa faktor absensi memiliki korelasi negatif yang kuat terhadap GPA, dengan nilai korelasi -0.92. Berarti, siswa yang sering tidak hadir di kelas cenderung memiliki nilai GPA yang rendah."
   ]
  },
  {
   "cell_type": "markdown",
   "metadata": {
    "id": "MPkOhuIxIhAC"
   },
   "source": [
    "## **Data Preparation**"
   ]
  },
  {
   "cell_type": "markdown",
   "metadata": {
    "id": "iA5tsSdr5v-o"
   },
   "source": [
    "### **Drop Kolom StudentID dan GPA**"
   ]
  },
  {
   "cell_type": "code",
   "execution_count": 26,
   "metadata": {
    "id": "J3uAXcfq5zJb"
   },
   "outputs": [],
   "source": [
    "df.drop(columns=['StudentID', 'GPA'], inplace=True)"
   ]
  },
  {
   "cell_type": "code",
   "execution_count": 27,
   "metadata": {
    "colab": {
     "base_uri": "https://localhost:8080/"
    },
    "id": "dKNd_b9H52uC",
    "outputId": "b519609d-6d71-4bff-a4ff-456284375b0c"
   },
   "outputs": [
    {
     "data": {
      "text/plain": [
       "Index(['Age', 'Gender', 'Ethnicity', 'ParentalEducation', 'StudyTimeWeekly',\n",
       "       'Absences', 'Tutoring', 'ParentalSupport', 'Extracurricular', 'Sports',\n",
       "       'Music', 'Volunteering', 'GradeClass'],\n",
       "      dtype='object')"
      ]
     },
     "execution_count": 27,
     "metadata": {},
     "output_type": "execute_result"
    }
   ],
   "source": [
    "df.columns"
   ]
  },
  {
   "cell_type": "markdown",
   "metadata": {
    "id": "Zxx6FK1V4mPs"
   },
   "source": [
    "### **Memisahkan Fitur dan Label**"
   ]
  },
  {
   "cell_type": "code",
   "execution_count": 28,
   "metadata": {
    "id": "hy2uwhWa4gdi"
   },
   "outputs": [],
   "source": [
    "X = df.drop(columns='GradeClass')\n",
    "y = df['GradeClass']"
   ]
  },
  {
   "cell_type": "markdown",
   "metadata": {
    "id": "cSCb9aXJWis0"
   },
   "source": [
    "### **Membagi Data Training dan Data Testing**"
   ]
  },
  {
   "cell_type": "code",
   "execution_count": 29,
   "metadata": {
    "id": "cAJF1fSqW1eh"
   },
   "outputs": [],
   "source": [
    "X_train, X_test, y_train, y_test = train_test_split(X, y, random_state=0, test_size=0.2, stratify=y)"
   ]
  },
  {
   "cell_type": "markdown",
   "metadata": {
    "id": "gaRfMxKB6K0s"
   },
   "source": [
    "### **Normalisasi Data**"
   ]
  },
  {
   "cell_type": "code",
   "execution_count": 30,
   "metadata": {
    "colab": {
     "base_uri": "https://localhost:8080/",
     "height": 75
    },
    "id": "8g-gkFQd6QYj",
    "outputId": "d94b95a0-9de4-49f3-fc7e-d4cacb82cfbf"
   },
   "outputs": [
    {
     "data": {
      "text/html": [
       "<style>#sk-container-id-1 {\n",
       "  /* Definition of color scheme common for light and dark mode */\n",
       "  --sklearn-color-text: black;\n",
       "  --sklearn-color-line: gray;\n",
       "  /* Definition of color scheme for unfitted estimators */\n",
       "  --sklearn-color-unfitted-level-0: #fff5e6;\n",
       "  --sklearn-color-unfitted-level-1: #f6e4d2;\n",
       "  --sklearn-color-unfitted-level-2: #ffe0b3;\n",
       "  --sklearn-color-unfitted-level-3: chocolate;\n",
       "  /* Definition of color scheme for fitted estimators */\n",
       "  --sklearn-color-fitted-level-0: #f0f8ff;\n",
       "  --sklearn-color-fitted-level-1: #d4ebff;\n",
       "  --sklearn-color-fitted-level-2: #b3dbfd;\n",
       "  --sklearn-color-fitted-level-3: cornflowerblue;\n",
       "\n",
       "  /* Specific color for light theme */\n",
       "  --sklearn-color-text-on-default-background: var(--sg-text-color, var(--theme-code-foreground, var(--jp-content-font-color1, black)));\n",
       "  --sklearn-color-background: var(--sg-background-color, var(--theme-background, var(--jp-layout-color0, white)));\n",
       "  --sklearn-color-border-box: var(--sg-text-color, var(--theme-code-foreground, var(--jp-content-font-color1, black)));\n",
       "  --sklearn-color-icon: #696969;\n",
       "\n",
       "  @media (prefers-color-scheme: dark) {\n",
       "    /* Redefinition of color scheme for dark theme */\n",
       "    --sklearn-color-text-on-default-background: var(--sg-text-color, var(--theme-code-foreground, var(--jp-content-font-color1, white)));\n",
       "    --sklearn-color-background: var(--sg-background-color, var(--theme-background, var(--jp-layout-color0, #111)));\n",
       "    --sklearn-color-border-box: var(--sg-text-color, var(--theme-code-foreground, var(--jp-content-font-color1, white)));\n",
       "    --sklearn-color-icon: #878787;\n",
       "  }\n",
       "}\n",
       "\n",
       "#sk-container-id-1 {\n",
       "  color: var(--sklearn-color-text);\n",
       "}\n",
       "\n",
       "#sk-container-id-1 pre {\n",
       "  padding: 0;\n",
       "}\n",
       "\n",
       "#sk-container-id-1 input.sk-hidden--visually {\n",
       "  border: 0;\n",
       "  clip: rect(1px 1px 1px 1px);\n",
       "  clip: rect(1px, 1px, 1px, 1px);\n",
       "  height: 1px;\n",
       "  margin: -1px;\n",
       "  overflow: hidden;\n",
       "  padding: 0;\n",
       "  position: absolute;\n",
       "  width: 1px;\n",
       "}\n",
       "\n",
       "#sk-container-id-1 div.sk-dashed-wrapped {\n",
       "  border: 1px dashed var(--sklearn-color-line);\n",
       "  margin: 0 0.4em 0.5em 0.4em;\n",
       "  box-sizing: border-box;\n",
       "  padding-bottom: 0.4em;\n",
       "  background-color: var(--sklearn-color-background);\n",
       "}\n",
       "\n",
       "#sk-container-id-1 div.sk-container {\n",
       "  /* jupyter's `normalize.less` sets `[hidden] { display: none; }`\n",
       "     but bootstrap.min.css set `[hidden] { display: none !important; }`\n",
       "     so we also need the `!important` here to be able to override the\n",
       "     default hidden behavior on the sphinx rendered scikit-learn.org.\n",
       "     See: https://github.com/scikit-learn/scikit-learn/issues/21755 */\n",
       "  display: inline-block !important;\n",
       "  position: relative;\n",
       "}\n",
       "\n",
       "#sk-container-id-1 div.sk-text-repr-fallback {\n",
       "  display: none;\n",
       "}\n",
       "\n",
       "div.sk-parallel-item,\n",
       "div.sk-serial,\n",
       "div.sk-item {\n",
       "  /* draw centered vertical line to link estimators */\n",
       "  background-image: linear-gradient(var(--sklearn-color-text-on-default-background), var(--sklearn-color-text-on-default-background));\n",
       "  background-size: 2px 100%;\n",
       "  background-repeat: no-repeat;\n",
       "  background-position: center center;\n",
       "}\n",
       "\n",
       "/* Parallel-specific style estimator block */\n",
       "\n",
       "#sk-container-id-1 div.sk-parallel-item::after {\n",
       "  content: \"\";\n",
       "  width: 100%;\n",
       "  border-bottom: 2px solid var(--sklearn-color-text-on-default-background);\n",
       "  flex-grow: 1;\n",
       "}\n",
       "\n",
       "#sk-container-id-1 div.sk-parallel {\n",
       "  display: flex;\n",
       "  align-items: stretch;\n",
       "  justify-content: center;\n",
       "  background-color: var(--sklearn-color-background);\n",
       "  position: relative;\n",
       "}\n",
       "\n",
       "#sk-container-id-1 div.sk-parallel-item {\n",
       "  display: flex;\n",
       "  flex-direction: column;\n",
       "}\n",
       "\n",
       "#sk-container-id-1 div.sk-parallel-item:first-child::after {\n",
       "  align-self: flex-end;\n",
       "  width: 50%;\n",
       "}\n",
       "\n",
       "#sk-container-id-1 div.sk-parallel-item:last-child::after {\n",
       "  align-self: flex-start;\n",
       "  width: 50%;\n",
       "}\n",
       "\n",
       "#sk-container-id-1 div.sk-parallel-item:only-child::after {\n",
       "  width: 0;\n",
       "}\n",
       "\n",
       "/* Serial-specific style estimator block */\n",
       "\n",
       "#sk-container-id-1 div.sk-serial {\n",
       "  display: flex;\n",
       "  flex-direction: column;\n",
       "  align-items: center;\n",
       "  background-color: var(--sklearn-color-background);\n",
       "  padding-right: 1em;\n",
       "  padding-left: 1em;\n",
       "}\n",
       "\n",
       "\n",
       "/* Toggleable style: style used for estimator/Pipeline/ColumnTransformer box that is\n",
       "clickable and can be expanded/collapsed.\n",
       "- Pipeline and ColumnTransformer use this feature and define the default style\n",
       "- Estimators will overwrite some part of the style using the `sk-estimator` class\n",
       "*/\n",
       "\n",
       "/* Pipeline and ColumnTransformer style (default) */\n",
       "\n",
       "#sk-container-id-1 div.sk-toggleable {\n",
       "  /* Default theme specific background. It is overwritten whether we have a\n",
       "  specific estimator or a Pipeline/ColumnTransformer */\n",
       "  background-color: var(--sklearn-color-background);\n",
       "}\n",
       "\n",
       "/* Toggleable label */\n",
       "#sk-container-id-1 label.sk-toggleable__label {\n",
       "  cursor: pointer;\n",
       "  display: block;\n",
       "  width: 100%;\n",
       "  margin-bottom: 0;\n",
       "  padding: 0.5em;\n",
       "  box-sizing: border-box;\n",
       "  text-align: center;\n",
       "}\n",
       "\n",
       "#sk-container-id-1 label.sk-toggleable__label-arrow:before {\n",
       "  /* Arrow on the left of the label */\n",
       "  content: \"▸\";\n",
       "  float: left;\n",
       "  margin-right: 0.25em;\n",
       "  color: var(--sklearn-color-icon);\n",
       "}\n",
       "\n",
       "#sk-container-id-1 label.sk-toggleable__label-arrow:hover:before {\n",
       "  color: var(--sklearn-color-text);\n",
       "}\n",
       "\n",
       "/* Toggleable content - dropdown */\n",
       "\n",
       "#sk-container-id-1 div.sk-toggleable__content {\n",
       "  max-height: 0;\n",
       "  max-width: 0;\n",
       "  overflow: hidden;\n",
       "  text-align: left;\n",
       "  /* unfitted */\n",
       "  background-color: var(--sklearn-color-unfitted-level-0);\n",
       "}\n",
       "\n",
       "#sk-container-id-1 div.sk-toggleable__content.fitted {\n",
       "  /* fitted */\n",
       "  background-color: var(--sklearn-color-fitted-level-0);\n",
       "}\n",
       "\n",
       "#sk-container-id-1 div.sk-toggleable__content pre {\n",
       "  margin: 0.2em;\n",
       "  border-radius: 0.25em;\n",
       "  color: var(--sklearn-color-text);\n",
       "  /* unfitted */\n",
       "  background-color: var(--sklearn-color-unfitted-level-0);\n",
       "}\n",
       "\n",
       "#sk-container-id-1 div.sk-toggleable__content.fitted pre {\n",
       "  /* unfitted */\n",
       "  background-color: var(--sklearn-color-fitted-level-0);\n",
       "}\n",
       "\n",
       "#sk-container-id-1 input.sk-toggleable__control:checked~div.sk-toggleable__content {\n",
       "  /* Expand drop-down */\n",
       "  max-height: 200px;\n",
       "  max-width: 100%;\n",
       "  overflow: auto;\n",
       "}\n",
       "\n",
       "#sk-container-id-1 input.sk-toggleable__control:checked~label.sk-toggleable__label-arrow:before {\n",
       "  content: \"▾\";\n",
       "}\n",
       "\n",
       "/* Pipeline/ColumnTransformer-specific style */\n",
       "\n",
       "#sk-container-id-1 div.sk-label input.sk-toggleable__control:checked~label.sk-toggleable__label {\n",
       "  color: var(--sklearn-color-text);\n",
       "  background-color: var(--sklearn-color-unfitted-level-2);\n",
       "}\n",
       "\n",
       "#sk-container-id-1 div.sk-label.fitted input.sk-toggleable__control:checked~label.sk-toggleable__label {\n",
       "  background-color: var(--sklearn-color-fitted-level-2);\n",
       "}\n",
       "\n",
       "/* Estimator-specific style */\n",
       "\n",
       "/* Colorize estimator box */\n",
       "#sk-container-id-1 div.sk-estimator input.sk-toggleable__control:checked~label.sk-toggleable__label {\n",
       "  /* unfitted */\n",
       "  background-color: var(--sklearn-color-unfitted-level-2);\n",
       "}\n",
       "\n",
       "#sk-container-id-1 div.sk-estimator.fitted input.sk-toggleable__control:checked~label.sk-toggleable__label {\n",
       "  /* fitted */\n",
       "  background-color: var(--sklearn-color-fitted-level-2);\n",
       "}\n",
       "\n",
       "#sk-container-id-1 div.sk-label label.sk-toggleable__label,\n",
       "#sk-container-id-1 div.sk-label label {\n",
       "  /* The background is the default theme color */\n",
       "  color: var(--sklearn-color-text-on-default-background);\n",
       "}\n",
       "\n",
       "/* On hover, darken the color of the background */\n",
       "#sk-container-id-1 div.sk-label:hover label.sk-toggleable__label {\n",
       "  color: var(--sklearn-color-text);\n",
       "  background-color: var(--sklearn-color-unfitted-level-2);\n",
       "}\n",
       "\n",
       "/* Label box, darken color on hover, fitted */\n",
       "#sk-container-id-1 div.sk-label.fitted:hover label.sk-toggleable__label.fitted {\n",
       "  color: var(--sklearn-color-text);\n",
       "  background-color: var(--sklearn-color-fitted-level-2);\n",
       "}\n",
       "\n",
       "/* Estimator label */\n",
       "\n",
       "#sk-container-id-1 div.sk-label label {\n",
       "  font-family: monospace;\n",
       "  font-weight: bold;\n",
       "  display: inline-block;\n",
       "  line-height: 1.2em;\n",
       "}\n",
       "\n",
       "#sk-container-id-1 div.sk-label-container {\n",
       "  text-align: center;\n",
       "}\n",
       "\n",
       "/* Estimator-specific */\n",
       "#sk-container-id-1 div.sk-estimator {\n",
       "  font-family: monospace;\n",
       "  border: 1px dotted var(--sklearn-color-border-box);\n",
       "  border-radius: 0.25em;\n",
       "  box-sizing: border-box;\n",
       "  margin-bottom: 0.5em;\n",
       "  /* unfitted */\n",
       "  background-color: var(--sklearn-color-unfitted-level-0);\n",
       "}\n",
       "\n",
       "#sk-container-id-1 div.sk-estimator.fitted {\n",
       "  /* fitted */\n",
       "  background-color: var(--sklearn-color-fitted-level-0);\n",
       "}\n",
       "\n",
       "/* on hover */\n",
       "#sk-container-id-1 div.sk-estimator:hover {\n",
       "  /* unfitted */\n",
       "  background-color: var(--sklearn-color-unfitted-level-2);\n",
       "}\n",
       "\n",
       "#sk-container-id-1 div.sk-estimator.fitted:hover {\n",
       "  /* fitted */\n",
       "  background-color: var(--sklearn-color-fitted-level-2);\n",
       "}\n",
       "\n",
       "/* Specification for estimator info (e.g. \"i\" and \"?\") */\n",
       "\n",
       "/* Common style for \"i\" and \"?\" */\n",
       "\n",
       ".sk-estimator-doc-link,\n",
       "a:link.sk-estimator-doc-link,\n",
       "a:visited.sk-estimator-doc-link {\n",
       "  float: right;\n",
       "  font-size: smaller;\n",
       "  line-height: 1em;\n",
       "  font-family: monospace;\n",
       "  background-color: var(--sklearn-color-background);\n",
       "  border-radius: 1em;\n",
       "  height: 1em;\n",
       "  width: 1em;\n",
       "  text-decoration: none !important;\n",
       "  margin-left: 1ex;\n",
       "  /* unfitted */\n",
       "  border: var(--sklearn-color-unfitted-level-1) 1pt solid;\n",
       "  color: var(--sklearn-color-unfitted-level-1);\n",
       "}\n",
       "\n",
       ".sk-estimator-doc-link.fitted,\n",
       "a:link.sk-estimator-doc-link.fitted,\n",
       "a:visited.sk-estimator-doc-link.fitted {\n",
       "  /* fitted */\n",
       "  border: var(--sklearn-color-fitted-level-1) 1pt solid;\n",
       "  color: var(--sklearn-color-fitted-level-1);\n",
       "}\n",
       "\n",
       "/* On hover */\n",
       "div.sk-estimator:hover .sk-estimator-doc-link:hover,\n",
       ".sk-estimator-doc-link:hover,\n",
       "div.sk-label-container:hover .sk-estimator-doc-link:hover,\n",
       ".sk-estimator-doc-link:hover {\n",
       "  /* unfitted */\n",
       "  background-color: var(--sklearn-color-unfitted-level-3);\n",
       "  color: var(--sklearn-color-background);\n",
       "  text-decoration: none;\n",
       "}\n",
       "\n",
       "div.sk-estimator.fitted:hover .sk-estimator-doc-link.fitted:hover,\n",
       ".sk-estimator-doc-link.fitted:hover,\n",
       "div.sk-label-container:hover .sk-estimator-doc-link.fitted:hover,\n",
       ".sk-estimator-doc-link.fitted:hover {\n",
       "  /* fitted */\n",
       "  background-color: var(--sklearn-color-fitted-level-3);\n",
       "  color: var(--sklearn-color-background);\n",
       "  text-decoration: none;\n",
       "}\n",
       "\n",
       "/* Span, style for the box shown on hovering the info icon */\n",
       ".sk-estimator-doc-link span {\n",
       "  display: none;\n",
       "  z-index: 9999;\n",
       "  position: relative;\n",
       "  font-weight: normal;\n",
       "  right: .2ex;\n",
       "  padding: .5ex;\n",
       "  margin: .5ex;\n",
       "  width: min-content;\n",
       "  min-width: 20ex;\n",
       "  max-width: 50ex;\n",
       "  color: var(--sklearn-color-text);\n",
       "  box-shadow: 2pt 2pt 4pt #999;\n",
       "  /* unfitted */\n",
       "  background: var(--sklearn-color-unfitted-level-0);\n",
       "  border: .5pt solid var(--sklearn-color-unfitted-level-3);\n",
       "}\n",
       "\n",
       ".sk-estimator-doc-link.fitted span {\n",
       "  /* fitted */\n",
       "  background: var(--sklearn-color-fitted-level-0);\n",
       "  border: var(--sklearn-color-fitted-level-3);\n",
       "}\n",
       "\n",
       ".sk-estimator-doc-link:hover span {\n",
       "  display: block;\n",
       "}\n",
       "\n",
       "/* \"?\"-specific style due to the `<a>` HTML tag */\n",
       "\n",
       "#sk-container-id-1 a.estimator_doc_link {\n",
       "  float: right;\n",
       "  font-size: 1rem;\n",
       "  line-height: 1em;\n",
       "  font-family: monospace;\n",
       "  background-color: var(--sklearn-color-background);\n",
       "  border-radius: 1rem;\n",
       "  height: 1rem;\n",
       "  width: 1rem;\n",
       "  text-decoration: none;\n",
       "  /* unfitted */\n",
       "  color: var(--sklearn-color-unfitted-level-1);\n",
       "  border: var(--sklearn-color-unfitted-level-1) 1pt solid;\n",
       "}\n",
       "\n",
       "#sk-container-id-1 a.estimator_doc_link.fitted {\n",
       "  /* fitted */\n",
       "  border: var(--sklearn-color-fitted-level-1) 1pt solid;\n",
       "  color: var(--sklearn-color-fitted-level-1);\n",
       "}\n",
       "\n",
       "/* On hover */\n",
       "#sk-container-id-1 a.estimator_doc_link:hover {\n",
       "  /* unfitted */\n",
       "  background-color: var(--sklearn-color-unfitted-level-3);\n",
       "  color: var(--sklearn-color-background);\n",
       "  text-decoration: none;\n",
       "}\n",
       "\n",
       "#sk-container-id-1 a.estimator_doc_link.fitted:hover {\n",
       "  /* fitted */\n",
       "  background-color: var(--sklearn-color-fitted-level-3);\n",
       "}\n",
       "</style><div id=\"sk-container-id-1\" class=\"sk-top-container\"><div class=\"sk-text-repr-fallback\"><pre>MinMaxScaler()</pre><b>In a Jupyter environment, please rerun this cell to show the HTML representation or trust the notebook. <br />On GitHub, the HTML representation is unable to render, please try loading this page with nbviewer.org.</b></div><div class=\"sk-container\" hidden><div class=\"sk-item\"><div class=\"sk-estimator fitted sk-toggleable\"><input class=\"sk-toggleable__control sk-hidden--visually\" id=\"sk-estimator-id-1\" type=\"checkbox\" checked><label for=\"sk-estimator-id-1\" class=\"sk-toggleable__label fitted sk-toggleable__label-arrow fitted\">&nbsp;&nbsp;MinMaxScaler<a class=\"sk-estimator-doc-link fitted\" rel=\"noreferrer\" target=\"_blank\" href=\"https://scikit-learn.org/1.4/modules/generated/sklearn.preprocessing.MinMaxScaler.html\">?<span>Documentation for MinMaxScaler</span></a><span class=\"sk-estimator-doc-link fitted\">i<span>Fitted</span></span></label><div class=\"sk-toggleable__content fitted\"><pre>MinMaxScaler()</pre></div> </div></div></div></div>"
      ],
      "text/plain": [
       "MinMaxScaler()"
      ]
     },
     "execution_count": 30,
     "metadata": {},
     "output_type": "execute_result"
    }
   ],
   "source": [
    "mm = MinMaxScaler()\n",
    "mm.fit(X_train[X_train.columns])"
   ]
  },
  {
   "cell_type": "code",
   "execution_count": 31,
   "metadata": {
    "id": "qTHcLQhd6TaP"
   },
   "outputs": [],
   "source": [
    "X_train[X_train.columns] = mm.transform(X_train[X_train.columns])\n",
    "X_test[X_test.columns] = mm.transform(X_test[X_test.columns])"
   ]
  },
  {
   "cell_type": "code",
   "execution_count": 32,
   "metadata": {
    "id": "5I0MpLSV9oVB"
   },
   "outputs": [],
   "source": [
    "for c in X_train.columns :\n",
    "  if len(X_train[c].unique()) == 2 :\n",
    "    X_train[c] = X_train[c].astype(\"int64\")\n",
    "    X_test[c] = X_test[c].astype(\"int64\")"
   ]
  },
  {
   "cell_type": "markdown",
   "metadata": {
    "id": "C_4GiEe1MVN6"
   },
   "source": [
    "### **Penjelasan (Additional Rubric)**"
   ]
  },
  {
   "cell_type": "markdown",
   "metadata": {
    "id": "gCONMy8NMcRx"
   },
   "source": [
    "* Kolom StudentID sebaiknya dibuang karena hanya berfungsi sebagai pengidentifikasi unik untuk setiap siswa. Sedangkan, kolom GPA dapat dibuang karena pembuatan model akan berfokus pada masalah klasifikasi.\n",
    "* Pemisahan fitur/variabel dan label diperlukan untuk melatih model.\n",
    "* Selanjutnya, data dibagi ke dalam data *training* dan data *testing* dengan ukuran 80% untuk data *training*. Parameter *stratify=y* menyatakan bahwa distribusi pada data *training* dan data *testing* harus sesuai dengan distribusi data keseluruhan.\n",
    "* Normalisasi data dengan MinMaxScaler untuk mengubah skala data dengan rentang 0 dan 1. Normalisasi diperlukan untuk membantu model Deep Learning / Machine Learning untuk mencapai *loss* minimum dengan lebih cepat."
   ]
  },
  {
   "cell_type": "markdown",
   "metadata": {
    "id": "j-mVHqWOIk3F"
   },
   "source": [
    "## **Modelling**"
   ]
  },
  {
   "cell_type": "markdown",
   "metadata": {
    "id": "JdrMMAVBxZMM"
   },
   "source": [
    "Pada tahap modelling, hal pertama yang perlu dilakukan adalah menentukan model baseline sebagai acuan dasar untuk menentukan apakah model Machine Learning yang akan dipakai dapat mempelajari sesuatu dari data dan memprediksi data dengan tepat.\n",
    "\n",
    "Kemudian, untuk algoritma KNN, Random Forest, dan XGBoostClassifier, akan dicari hyperparameter terbaik dengan metode Grid Search. Metode ini akan mencoba segala kombinasi dari sekumpulan hyperparameter yang diberikan dan menentukan model dengan hyperparameter terbaik berdasarkan score yang ditentukan.\n",
    "\n",
    "Score yang penulis gunakan pada Grid Search adalah F1 Weighted. Mengingat distribusi data yang tidak seimbang (imbalanced), metrik ini lebih sesuai untuk digunakan karena merupakan rata-rata harmonic antara precision dan recall untuk setiap kelas yang diberikan bobot sesuai jumlah data. Menggunakan metrik akurasi dapat memberikan evaluasi yang bias terhadap kelas data mayoritas."
   ]
  },
  {
   "cell_type": "markdown",
   "metadata": {
    "id": "m3JRh9lWODLB"
   },
   "source": [
    "### **Baseline**"
   ]
  },
  {
   "cell_type": "code",
   "execution_count": 33,
   "metadata": {
    "id": "f2QNHgV2zgkl"
   },
   "outputs": [],
   "source": [
    "dummy = DummyClassifier(random_state=0, strategy='stratified')\n",
    "dummy.fit(X_train, y_train)\n",
    "y_pred = dummy.predict(X_test)"
   ]
  },
  {
   "cell_type": "code",
   "execution_count": 34,
   "metadata": {
    "id": "8gduVzNsztlI"
   },
   "outputs": [],
   "source": [
    "cm_dummy = confusion_matrix(y_test, y_pred)"
   ]
  },
  {
   "cell_type": "code",
   "execution_count": 35,
   "metadata": {
    "colab": {
     "base_uri": "https://localhost:8080/",
     "height": 718
    },
    "id": "U6Fw7VIdzx9W",
    "outputId": "bc25487b-69e3-4f33-bf80-9da47fc69d86"
   },
   "outputs": [
    {
     "data": {
      "image/png": "[encoded data removed]",
      "text/plain": [
       "<Figure size 800x800 with 2 Axes>"
      ]
     },
     "metadata": {},
     "output_type": "display_data"
    }
   ],
   "source": [
    "plt.figure(figsize=(8,8))\n",
    "sns.heatmap(cm_dummy, annot=True, cmap='Greens', fmt='.0f')\n",
    "plt.title(\"Confusion Matrix for Dummy Classifier\")\n",
    "plt.xlabel(\"Predicted Label\")\n",
    "plt.ylabel(\"True Label\")\n",
    "plt.show()"
   ]
  },
  {
   "cell_type": "code",
   "execution_count": 36,
   "metadata": {
    "colab": {
     "base_uri": "https://localhost:8080/"
    },
    "id": "_nyhoCVX0W1p",
    "outputId": "3f3a20b1-600b-4caa-fc55-593d4efc7fba"
   },
   "outputs": [
    {
     "name": "stdout",
     "output_type": "stream",
     "text": [
      "              precision    recall  f1-score   support\n",
      "\n",
      "           0       0.00      0.00      0.00        15\n",
      "           1       0.09      0.12      0.10        49\n",
      "           2       0.09      0.09      0.09        77\n",
      "           3       0.13      0.11      0.12        83\n",
      "           4       0.51      0.49      0.50       255\n",
      "\n",
      "    accuracy                           0.31       479\n",
      "   macro avg       0.16      0.16      0.16       479\n",
      "weighted avg       0.32      0.31      0.31       479\n",
      "\n"
     ]
    }
   ],
   "source": [
    "dummy_report = classification_report(y_test, y_pred)\n",
    "print(dummy_report)"
   ]
  },
  {
   "cell_type": "markdown",
   "metadata": {
    "id": "ftY0Br2HY6Cc"
   },
   "source": [
    "#### **Penjelasan Terkait Model Baseline (Additional Rubric)**"
   ]
  },
  {
   "cell_type": "markdown",
   "metadata": {
    "id": "FfDxT3VKfhN_"
   },
   "source": [
    "Model baseline dummy classifier dengan strategy stratified memprediksi kelas secara acak dengan probabilitas yang berbeda-beda sesuai dengan distribusi setiap kelas.\n",
    "\n",
    "Pada model baseline, akurasi yang didapat hanya sebesar 31% pada data testing. Oleh karena itu, untuk menentukan apakah model Machine Learning dapat memprediksi kelas data dengan baik dan mempelajari pola tertentu, maka akurasi yang dihasilkan setidaknya harus lebih baik daripada model baseline."
   ]
  },
  {
   "cell_type": "markdown",
   "metadata": {
    "id": "YaShzauOM7Ch"
   },
   "source": [
    "### **K-Nearest Neighbor**"
   ]
  },
  {
   "cell_type": "code",
   "execution_count": 37,
   "metadata": {
    "id": "IJZDqt3C6jgQ"
   },
   "outputs": [],
   "source": [
    "knn = KNeighborsClassifier()"
   ]
  },
  {
   "cell_type": "code",
   "execution_count": 38,
   "metadata": {
    "colab": {
     "base_uri": "https://localhost:8080/",
     "height": 118
    },
    "id": "NdGS3sDzGx08",
    "outputId": "243168e7-1098-432b-b874-435e5834c838"
   },
   "outputs": [
    {
     "data": {
      "text/html": [
       "<style>#sk-container-id-2 {\n",
       "  /* Definition of color scheme common for light and dark mode */\n",
       "  --sklearn-color-text: black;\n",
       "  --sklearn-color-line: gray;\n",
       "  /* Definition of color scheme for unfitted estimators */\n",
       "  --sklearn-color-unfitted-level-0: #fff5e6;\n",
       "  --sklearn-color-unfitted-level-1: #f6e4d2;\n",
       "  --sklearn-color-unfitted-level-2: #ffe0b3;\n",
       "  --sklearn-color-unfitted-level-3: chocolate;\n",
       "  /* Definition of color scheme for fitted estimators */\n",
       "  --sklearn-color-fitted-level-0: #f0f8ff;\n",
       "  --sklearn-color-fitted-level-1: #d4ebff;\n",
       "  --sklearn-color-fitted-level-2: #b3dbfd;\n",
       "  --sklearn-color-fitted-level-3: cornflowerblue;\n",
       "\n",
       "  /* Specific color for light theme */\n",
       "  --sklearn-color-text-on-default-background: var(--sg-text-color, var(--theme-code-foreground, var(--jp-content-font-color1, black)));\n",
       "  --sklearn-color-background: var(--sg-background-color, var(--theme-background, var(--jp-layout-color0, white)));\n",
       "  --sklearn-color-border-box: var(--sg-text-color, var(--theme-code-foreground, var(--jp-content-font-color1, black)));\n",
       "  --sklearn-color-icon: #696969;\n",
       "\n",
       "  @media (prefers-color-scheme: dark) {\n",
       "    /* Redefinition of color scheme for dark theme */\n",
       "    --sklearn-color-text-on-default-background: var(--sg-text-color, var(--theme-code-foreground, var(--jp-content-font-color1, white)));\n",
       "    --sklearn-color-background: var(--sg-background-color, var(--theme-background, var(--jp-layout-color0, #111)));\n",
       "    --sklearn-color-border-box: var(--sg-text-color, var(--theme-code-foreground, var(--jp-content-font-color1, white)));\n",
       "    --sklearn-color-icon: #878787;\n",
       "  }\n",
       "}\n",
       "\n",
       "#sk-container-id-2 {\n",
       "  color: var(--sklearn-color-text);\n",
       "}\n",
       "\n",
       "#sk-container-id-2 pre {\n",
       "  padding: 0;\n",
       "}\n",
       "\n",
       "#sk-container-id-2 input.sk-hidden--visually {\n",
       "  border: 0;\n",
       "  clip: rect(1px 1px 1px 1px);\n",
       "  clip: rect(1px, 1px, 1px, 1px);\n",
       "  height: 1px;\n",
       "  margin: -1px;\n",
       "  overflow: hidden;\n",
       "  padding: 0;\n",
       "  position: absolute;\n",
       "  width: 1px;\n",
       "}\n",
       "\n",
       "#sk-container-id-2 div.sk-dashed-wrapped {\n",
       "  border: 1px dashed var(--sklearn-color-line);\n",
       "  margin: 0 0.4em 0.5em 0.4em;\n",
       "  box-sizing: border-box;\n",
       "  padding-bottom: 0.4em;\n",
       "  background-color: var(--sklearn-color-background);\n",
       "}\n",
       "\n",
       "#sk-container-id-2 div.sk-container {\n",
       "  /* jupyter's `normalize.less` sets `[hidden] { display: none; }`\n",
       "     but bootstrap.min.css set `[hidden] { display: none !important; }`\n",
       "     so we also need the `!important` here to be able to override the\n",
       "     default hidden behavior on the sphinx rendered scikit-learn.org.\n",
       "     See: https://github.com/scikit-learn/scikit-learn/issues/21755 */\n",
       "  display: inline-block !important;\n",
       "  position: relative;\n",
       "}\n",
       "\n",
       "#sk-container-id-2 div.sk-text-repr-fallback {\n",
       "  display: none;\n",
       "}\n",
       "\n",
       "div.sk-parallel-item,\n",
       "div.sk-serial,\n",
       "div.sk-item {\n",
       "  /* draw centered vertical line to link estimators */\n",
       "  background-image: linear-gradient(var(--sklearn-color-text-on-default-background), var(--sklearn-color-text-on-default-background));\n",
       "  background-size: 2px 100%;\n",
       "  background-repeat: no-repeat;\n",
       "  background-position: center center;\n",
       "}\n",
       "\n",
       "/* Parallel-specific style estimator block */\n",
       "\n",
       "#sk-container-id-2 div.sk-parallel-item::after {\n",
       "  content: \"\";\n",
       "  width: 100%;\n",
       "  border-bottom: 2px solid var(--sklearn-color-text-on-default-background);\n",
       "  flex-grow: 1;\n",
       "}\n",
       "\n",
       "#sk-container-id-2 div.sk-parallel {\n",
       "  display: flex;\n",
       "  align-items: stretch;\n",
       "  justify-content: center;\n",
       "  background-color: var(--sklearn-color-background);\n",
       "  position: relative;\n",
       "}\n",
       "\n",
       "#sk-container-id-2 div.sk-parallel-item {\n",
       "  display: flex;\n",
       "  flex-direction: column;\n",
       "}\n",
       "\n",
       "#sk-container-id-2 div.sk-parallel-item:first-child::after {\n",
       "  align-self: flex-end;\n",
       "  width: 50%;\n",
       "}\n",
       "\n",
       "#sk-container-id-2 div.sk-parallel-item:last-child::after {\n",
       "  align-self: flex-start;\n",
       "  width: 50%;\n",
       "}\n",
       "\n",
       "#sk-container-id-2 div.sk-parallel-item:only-child::after {\n",
       "  width: 0;\n",
       "}\n",
       "\n",
       "/* Serial-specific style estimator block */\n",
       "\n",
       "#sk-container-id-2 div.sk-serial {\n",
       "  display: flex;\n",
       "  flex-direction: column;\n",
       "  align-items: center;\n",
       "  background-color: var(--sklearn-color-background);\n",
       "  padding-right: 1em;\n",
       "  padding-left: 1em;\n",
       "}\n",
       "\n",
       "\n",
       "/* Toggleable style: style used for estimator/Pipeline/ColumnTransformer box that is\n",
       "clickable and can be expanded/collapsed.\n",
       "- Pipeline and ColumnTransformer use this feature and define the default style\n",
       "- Estimators will overwrite some part of the style using the `sk-estimator` class\n",
       "*/\n",
       "\n",
       "/* Pipeline and ColumnTransformer style (default) */\n",
       "\n",
       "#sk-container-id-2 div.sk-toggleable {\n",
       "  /* Default theme specific background. It is overwritten whether we have a\n",
       "  specific estimator or a Pipeline/ColumnTransformer */\n",
       "  background-color: var(--sklearn-color-background);\n",
       "}\n",
       "\n",
       "/* Toggleable label */\n",
       "#sk-container-id-2 label.sk-toggleable__label {\n",
       "  cursor: pointer;\n",
       "  display: block;\n",
       "  width: 100%;\n",
       "  margin-bottom: 0;\n",
       "  padding: 0.5em;\n",
       "  box-sizing: border-box;\n",
       "  text-align: center;\n",
       "}\n",
       "\n",
       "#sk-container-id-2 label.sk-toggleable__label-arrow:before {\n",
       "  /* Arrow on the left of the label */\n",
       "  content: \"▸\";\n",
       "  float: left;\n",
       "  margin-right: 0.25em;\n",
       "  color: var(--sklearn-color-icon);\n",
       "}\n",
       "\n",
       "#sk-container-id-2 label.sk-toggleable__label-arrow:hover:before {\n",
       "  color: var(--sklearn-color-text);\n",
       "}\n",
       "\n",
       "/* Toggleable content - dropdown */\n",
       "\n",
       "#sk-container-id-2 div.sk-toggleable__content {\n",
       "  max-height: 0;\n",
       "  max-width: 0;\n",
       "  overflow: hidden;\n",
       "  text-align: left;\n",
       "  /* unfitted */\n",
       "  background-color: var(--sklearn-color-unfitted-level-0);\n",
       "}\n",
       "\n",
       "#sk-container-id-2 div.sk-toggleable__content.fitted {\n",
       "  /* fitted */\n",
       "  background-color: var(--sklearn-color-fitted-level-0);\n",
       "}\n",
       "\n",
       "#sk-container-id-2 div.sk-toggleable__content pre {\n",
       "  margin: 0.2em;\n",
       "  border-radius: 0.25em;\n",
       "  color: var(--sklearn-color-text);\n",
       "  /* unfitted */\n",
       "  background-color: var(--sklearn-color-unfitted-level-0);\n",
       "}\n",
       "\n",
       "#sk-container-id-2 div.sk-toggleable__content.fitted pre {\n",
       "  /* unfitted */\n",
       "  background-color: var(--sklearn-color-fitted-level-0);\n",
       "}\n",
       "\n",
       "#sk-container-id-2 input.sk-toggleable__control:checked~div.sk-toggleable__content {\n",
       "  /* Expand drop-down */\n",
       "  max-height: 200px;\n",
       "  max-width: 100%;\n",
       "  overflow: auto;\n",
       "}\n",
       "\n",
       "#sk-container-id-2 input.sk-toggleable__control:checked~label.sk-toggleable__label-arrow:before {\n",
       "  content: \"▾\";\n",
       "}\n",
       "\n",
       "/* Pipeline/ColumnTransformer-specific style */\n",
       "\n",
       "#sk-container-id-2 div.sk-label input.sk-toggleable__control:checked~label.sk-toggleable__label {\n",
       "  color: var(--sklearn-color-text);\n",
       "  background-color: var(--sklearn-color-unfitted-level-2);\n",
       "}\n",
       "\n",
       "#sk-container-id-2 div.sk-label.fitted input.sk-toggleable__control:checked~label.sk-toggleable__label {\n",
       "  background-color: var(--sklearn-color-fitted-level-2);\n",
       "}\n",
       "\n",
       "/* Estimator-specific style */\n",
       "\n",
       "/* Colorize estimator box */\n",
       "#sk-container-id-2 div.sk-estimator input.sk-toggleable__control:checked~label.sk-toggleable__label {\n",
       "  /* unfitted */\n",
       "  background-color: var(--sklearn-color-unfitted-level-2);\n",
       "}\n",
       "\n",
       "#sk-container-id-2 div.sk-estimator.fitted input.sk-toggleable__control:checked~label.sk-toggleable__label {\n",
       "  /* fitted */\n",
       "  background-color: var(--sklearn-color-fitted-level-2);\n",
       "}\n",
       "\n",
       "#sk-container-id-2 div.sk-label label.sk-toggleable__label,\n",
       "#sk-container-id-2 div.sk-label label {\n",
       "  /* The background is the default theme color */\n",
       "  color: var(--sklearn-color-text-on-default-background);\n",
       "}\n",
       "\n",
       "/* On hover, darken the color of the background */\n",
       "#sk-container-id-2 div.sk-label:hover label.sk-toggleable__label {\n",
       "  color: var(--sklearn-color-text);\n",
       "  background-color: var(--sklearn-color-unfitted-level-2);\n",
       "}\n",
       "\n",
       "/* Label box, darken color on hover, fitted */\n",
       "#sk-container-id-2 div.sk-label.fitted:hover label.sk-toggleable__label.fitted {\n",
       "  color: var(--sklearn-color-text);\n",
       "  background-color: var(--sklearn-color-fitted-level-2);\n",
       "}\n",
       "\n",
       "/* Estimator label */\n",
       "\n",
       "#sk-container-id-2 div.sk-label label {\n",
       "  font-family: monospace;\n",
       "  font-weight: bold;\n",
       "  display: inline-block;\n",
       "  line-height: 1.2em;\n",
       "}\n",
       "\n",
       "#sk-container-id-2 div.sk-label-container {\n",
       "  text-align: center;\n",
       "}\n",
       "\n",
       "/* Estimator-specific */\n",
       "#sk-container-id-2 div.sk-estimator {\n",
       "  font-family: monospace;\n",
       "  border: 1px dotted var(--sklearn-color-border-box);\n",
       "  border-radius: 0.25em;\n",
       "  box-sizing: border-box;\n",
       "  margin-bottom: 0.5em;\n",
       "  /* unfitted */\n",
       "  background-color: var(--sklearn-color-unfitted-level-0);\n",
       "}\n",
       "\n",
       "#sk-container-id-2 div.sk-estimator.fitted {\n",
       "  /* fitted */\n",
       "  background-color: var(--sklearn-color-fitted-level-0);\n",
       "}\n",
       "\n",
       "/* on hover */\n",
       "#sk-container-id-2 div.sk-estimator:hover {\n",
       "  /* unfitted */\n",
       "  background-color: var(--sklearn-color-unfitted-level-2);\n",
       "}\n",
       "\n",
       "#sk-container-id-2 div.sk-estimator.fitted:hover {\n",
       "  /* fitted */\n",
       "  background-color: var(--sklearn-color-fitted-level-2);\n",
       "}\n",
       "\n",
       "/* Specification for estimator info (e.g. \"i\" and \"?\") */\n",
       "\n",
       "/* Common style for \"i\" and \"?\" */\n",
       "\n",
       ".sk-estimator-doc-link,\n",
       "a:link.sk-estimator-doc-link,\n",
       "a:visited.sk-estimator-doc-link {\n",
       "  float: right;\n",
       "  font-size: smaller;\n",
       "  line-height: 1em;\n",
       "  font-family: monospace;\n",
       "  background-color: var(--sklearn-color-background);\n",
       "  border-radius: 1em;\n",
       "  height: 1em;\n",
       "  width: 1em;\n",
       "  text-decoration: none !important;\n",
       "  margin-left: 1ex;\n",
       "  /* unfitted */\n",
       "  border: var(--sklearn-color-unfitted-level-1) 1pt solid;\n",
       "  color: var(--sklearn-color-unfitted-level-1);\n",
       "}\n",
       "\n",
       ".sk-estimator-doc-link.fitted,\n",
       "a:link.sk-estimator-doc-link.fitted,\n",
       "a:visited.sk-estimator-doc-link.fitted {\n",
       "  /* fitted */\n",
       "  border: var(--sklearn-color-fitted-level-1) 1pt solid;\n",
       "  color: var(--sklearn-color-fitted-level-1);\n",
       "}\n",
       "\n",
       "/* On hover */\n",
       "div.sk-estimator:hover .sk-estimator-doc-link:hover,\n",
       ".sk-estimator-doc-link:hover,\n",
       "div.sk-label-container:hover .sk-estimator-doc-link:hover,\n",
       ".sk-estimator-doc-link:hover {\n",
       "  /* unfitted */\n",
       "  background-color: var(--sklearn-color-unfitted-level-3);\n",
       "  color: var(--sklearn-color-background);\n",
       "  text-decoration: none;\n",
       "}\n",
       "\n",
       "div.sk-estimator.fitted:hover .sk-estimator-doc-link.fitted:hover,\n",
       ".sk-estimator-doc-link.fitted:hover,\n",
       "div.sk-label-container:hover .sk-estimator-doc-link.fitted:hover,\n",
       ".sk-estimator-doc-link.fitted:hover {\n",
       "  /* fitted */\n",
       "  background-color: var(--sklearn-color-fitted-level-3);\n",
       "  color: var(--sklearn-color-background);\n",
       "  text-decoration: none;\n",
       "}\n",
       "\n",
       "/* Span, style for the box shown on hovering the info icon */\n",
       ".sk-estimator-doc-link span {\n",
       "  display: none;\n",
       "  z-index: 9999;\n",
       "  position: relative;\n",
       "  font-weight: normal;\n",
       "  right: .2ex;\n",
       "  padding: .5ex;\n",
       "  margin: .5ex;\n",
       "  width: min-content;\n",
       "  min-width: 20ex;\n",
       "  max-width: 50ex;\n",
       "  color: var(--sklearn-color-text);\n",
       "  box-shadow: 2pt 2pt 4pt #999;\n",
       "  /* unfitted */\n",
       "  background: var(--sklearn-color-unfitted-level-0);\n",
       "  border: .5pt solid var(--sklearn-color-unfitted-level-3);\n",
       "}\n",
       "\n",
       ".sk-estimator-doc-link.fitted span {\n",
       "  /* fitted */\n",
       "  background: var(--sklearn-color-fitted-level-0);\n",
       "  border: var(--sklearn-color-fitted-level-3);\n",
       "}\n",
       "\n",
       ".sk-estimator-doc-link:hover span {\n",
       "  display: block;\n",
       "}\n",
       "\n",
       "/* \"?\"-specific style due to the `<a>` HTML tag */\n",
       "\n",
       "#sk-container-id-2 a.estimator_doc_link {\n",
       "  float: right;\n",
       "  font-size: 1rem;\n",
       "  line-height: 1em;\n",
       "  font-family: monospace;\n",
       "  background-color: var(--sklearn-color-background);\n",
       "  border-radius: 1rem;\n",
       "  height: 1rem;\n",
       "  width: 1rem;\n",
       "  text-decoration: none;\n",
       "  /* unfitted */\n",
       "  color: var(--sklearn-color-unfitted-level-1);\n",
       "  border: var(--sklearn-color-unfitted-level-1) 1pt solid;\n",
       "}\n",
       "\n",
       "#sk-container-id-2 a.estimator_doc_link.fitted {\n",
       "  /* fitted */\n",
       "  border: var(--sklearn-color-fitted-level-1) 1pt solid;\n",
       "  color: var(--sklearn-color-fitted-level-1);\n",
       "}\n",
       "\n",
       "/* On hover */\n",
       "#sk-container-id-2 a.estimator_doc_link:hover {\n",
       "  /* unfitted */\n",
       "  background-color: var(--sklearn-color-unfitted-level-3);\n",
       "  color: var(--sklearn-color-background);\n",
       "  text-decoration: none;\n",
       "}\n",
       "\n",
       "#sk-container-id-2 a.estimator_doc_link.fitted:hover {\n",
       "  /* fitted */\n",
       "  background-color: var(--sklearn-color-fitted-level-3);\n",
       "}\n",
       "</style><div id=\"sk-container-id-2\" class=\"sk-top-container\"><div class=\"sk-text-repr-fallback\"><pre>GridSearchCV(cv=10, estimator=KNeighborsClassifier(), n_jobs=-1,\n",
       "             param_grid={&#x27;n_neighbors&#x27;: [3, 4, 5, 6, 7, 8, 9, 10],\n",
       "                         &#x27;weights&#x27;: [&#x27;uniform&#x27;, &#x27;distance&#x27;]},\n",
       "             scoring=&#x27;f1_weighted&#x27;)</pre><b>In a Jupyter environment, please rerun this cell to show the HTML representation or trust the notebook. <br />On GitHub, the HTML representation is unable to render, please try loading this page with nbviewer.org.</b></div><div class=\"sk-container\" hidden><div class=\"sk-item sk-dashed-wrapped\"><div class=\"sk-label-container\"><div class=\"sk-label fitted sk-toggleable\"><input class=\"sk-toggleable__control sk-hidden--visually\" id=\"sk-estimator-id-2\" type=\"checkbox\" ><label for=\"sk-estimator-id-2\" class=\"sk-toggleable__label fitted sk-toggleable__label-arrow fitted\">&nbsp;&nbsp;GridSearchCV<a class=\"sk-estimator-doc-link fitted\" rel=\"noreferrer\" target=\"_blank\" href=\"https://scikit-learn.org/1.4/modules/generated/sklearn.model_selection.GridSearchCV.html\">?<span>Documentation for GridSearchCV</span></a><span class=\"sk-estimator-doc-link fitted\">i<span>Fitted</span></span></label><div class=\"sk-toggleable__content fitted\"><pre>GridSearchCV(cv=10, estimator=KNeighborsClassifier(), n_jobs=-1,\n",
       "             param_grid={&#x27;n_neighbors&#x27;: [3, 4, 5, 6, 7, 8, 9, 10],\n",
       "                         &#x27;weights&#x27;: [&#x27;uniform&#x27;, &#x27;distance&#x27;]},\n",
       "             scoring=&#x27;f1_weighted&#x27;)</pre></div> </div></div><div class=\"sk-parallel\"><div class=\"sk-parallel-item\"><div class=\"sk-item\"><div class=\"sk-label-container\"><div class=\"sk-label fitted sk-toggleable\"><input class=\"sk-toggleable__control sk-hidden--visually\" id=\"sk-estimator-id-3\" type=\"checkbox\" ><label for=\"sk-estimator-id-3\" class=\"sk-toggleable__label fitted sk-toggleable__label-arrow fitted\">estimator: KNeighborsClassifier</label><div class=\"sk-toggleable__content fitted\"><pre>KNeighborsClassifier()</pre></div> </div></div><div class=\"sk-serial\"><div class=\"sk-item\"><div class=\"sk-estimator fitted sk-toggleable\"><input class=\"sk-toggleable__control sk-hidden--visually\" id=\"sk-estimator-id-4\" type=\"checkbox\" ><label for=\"sk-estimator-id-4\" class=\"sk-toggleable__label fitted sk-toggleable__label-arrow fitted\">&nbsp;KNeighborsClassifier<a class=\"sk-estimator-doc-link fitted\" rel=\"noreferrer\" target=\"_blank\" href=\"https://scikit-learn.org/1.4/modules/generated/sklearn.neighbors.KNeighborsClassifier.html\">?<span>Documentation for KNeighborsClassifier</span></a></label><div class=\"sk-toggleable__content fitted\"><pre>KNeighborsClassifier()</pre></div> </div></div></div></div></div></div></div></div></div>"
      ],
      "text/plain": [
       "GridSearchCV(cv=10, estimator=KNeighborsClassifier(), n_jobs=-1,\n",
       "             param_grid={'n_neighbors': [3, 4, 5, 6, 7, 8, 9, 10],\n",
       "                         'weights': ['uniform', 'distance']},\n",
       "             scoring='f1_weighted')"
      ]
     },
     "execution_count": 38,
     "metadata": {},
     "output_type": "execute_result"
    }
   ],
   "source": [
    "knn_params = {'n_neighbors': list(range(3, 11)),\n",
    "              'weights': ['uniform', 'distance']}\n",
    "knn_gridsearch = GridSearchCV(knn, knn_params, cv=10, scoring='f1_weighted', n_jobs=-1)\n",
    "knn_gridsearch.fit(X_train, y_train)"
   ]
  },
  {
   "cell_type": "markdown",
   "metadata": {
    "id": "dw4ffGjdyxXh"
   },
   "source": [
    "Hyperparameter yang digunakan adalah n_neighbors, yaitu jumlah titik data yang akan dibandingkan untuk memprediksi data input. Sedangkan parameter weights menentukan bagaimana penentuan prediksi kelas dari suatu titik data. Jika uniform, berarti model tidak memperhitungkan jarak antara K titik data dengan titik data baru, sebaliknya untuk distance."
   ]
  },
  {
   "cell_type": "code",
   "execution_count": 39,
   "metadata": {
    "colab": {
     "base_uri": "https://localhost:8080/"
    },
    "id": "f50HyFXHq6-9",
    "outputId": "d97b0bee-8772-4ad6-86fb-e3fbcdb6d6af"
   },
   "outputs": [
    {
     "name": "stdout",
     "output_type": "stream",
     "text": [
      "Best Params : {'n_neighbors': 5, 'weights': 'distance'}\n",
      "Best Score : 0.5940910794694625\n"
     ]
    }
   ],
   "source": [
    "print(f\"Best Params : {knn_gridsearch.best_params_}\")\n",
    "print(f\"Best Score : {knn_gridsearch.best_score_}\")"
   ]
  },
  {
   "cell_type": "code",
   "execution_count": 40,
   "metadata": {
    "colab": {
     "base_uri": "https://localhost:8080/",
     "height": 75
    },
    "id": "afSv5yg5TM08",
    "outputId": "e6cd1e46-924d-49ef-980a-103a199309bb"
   },
   "outputs": [
    {
     "data": {
      "text/html": [
       "<style>#sk-container-id-3 {\n",
       "  /* Definition of color scheme common for light and dark mode */\n",
       "  --sklearn-color-text: black;\n",
       "  --sklearn-color-line: gray;\n",
       "  /* Definition of color scheme for unfitted estimators */\n",
       "  --sklearn-color-unfitted-level-0: #fff5e6;\n",
       "  --sklearn-color-unfitted-level-1: #f6e4d2;\n",
       "  --sklearn-color-unfitted-level-2: #ffe0b3;\n",
       "  --sklearn-color-unfitted-level-3: chocolate;\n",
       "  /* Definition of color scheme for fitted estimators */\n",
       "  --sklearn-color-fitted-level-0: #f0f8ff;\n",
       "  --sklearn-color-fitted-level-1: #d4ebff;\n",
       "  --sklearn-color-fitted-level-2: #b3dbfd;\n",
       "  --sklearn-color-fitted-level-3: cornflowerblue;\n",
       "\n",
       "  /* Specific color for light theme */\n",
       "  --sklearn-color-text-on-default-background: var(--sg-text-color, var(--theme-code-foreground, var(--jp-content-font-color1, black)));\n",
       "  --sklearn-color-background: var(--sg-background-color, var(--theme-background, var(--jp-layout-color0, white)));\n",
       "  --sklearn-color-border-box: var(--sg-text-color, var(--theme-code-foreground, var(--jp-content-font-color1, black)));\n",
       "  --sklearn-color-icon: #696969;\n",
       "\n",
       "  @media (prefers-color-scheme: dark) {\n",
       "    /* Redefinition of color scheme for dark theme */\n",
       "    --sklearn-color-text-on-default-background: var(--sg-text-color, var(--theme-code-foreground, var(--jp-content-font-color1, white)));\n",
       "    --sklearn-color-background: var(--sg-background-color, var(--theme-background, var(--jp-layout-color0, #111)));\n",
       "    --sklearn-color-border-box: var(--sg-text-color, var(--theme-code-foreground, var(--jp-content-font-color1, white)));\n",
       "    --sklearn-color-icon: #878787;\n",
       "  }\n",
       "}\n",
       "\n",
       "#sk-container-id-3 {\n",
       "  color: var(--sklearn-color-text);\n",
       "}\n",
       "\n",
       "#sk-container-id-3 pre {\n",
       "  padding: 0;\n",
       "}\n",
       "\n",
       "#sk-container-id-3 input.sk-hidden--visually {\n",
       "  border: 0;\n",
       "  clip: rect(1px 1px 1px 1px);\n",
       "  clip: rect(1px, 1px, 1px, 1px);\n",
       "  height: 1px;\n",
       "  margin: -1px;\n",
       "  overflow: hidden;\n",
       "  padding: 0;\n",
       "  position: absolute;\n",
       "  width: 1px;\n",
       "}\n",
       "\n",
       "#sk-container-id-3 div.sk-dashed-wrapped {\n",
       "  border: 1px dashed var(--sklearn-color-line);\n",
       "  margin: 0 0.4em 0.5em 0.4em;\n",
       "  box-sizing: border-box;\n",
       "  padding-bottom: 0.4em;\n",
       "  background-color: var(--sklearn-color-background);\n",
       "}\n",
       "\n",
       "#sk-container-id-3 div.sk-container {\n",
       "  /* jupyter's `normalize.less` sets `[hidden] { display: none; }`\n",
       "     but bootstrap.min.css set `[hidden] { display: none !important; }`\n",
       "     so we also need the `!important` here to be able to override the\n",
       "     default hidden behavior on the sphinx rendered scikit-learn.org.\n",
       "     See: https://github.com/scikit-learn/scikit-learn/issues/21755 */\n",
       "  display: inline-block !important;\n",
       "  position: relative;\n",
       "}\n",
       "\n",
       "#sk-container-id-3 div.sk-text-repr-fallback {\n",
       "  display: none;\n",
       "}\n",
       "\n",
       "div.sk-parallel-item,\n",
       "div.sk-serial,\n",
       "div.sk-item {\n",
       "  /* draw centered vertical line to link estimators */\n",
       "  background-image: linear-gradient(var(--sklearn-color-text-on-default-background), var(--sklearn-color-text-on-default-background));\n",
       "  background-size: 2px 100%;\n",
       "  background-repeat: no-repeat;\n",
       "  background-position: center center;\n",
       "}\n",
       "\n",
       "/* Parallel-specific style estimator block */\n",
       "\n",
       "#sk-container-id-3 div.sk-parallel-item::after {\n",
       "  content: \"\";\n",
       "  width: 100%;\n",
       "  border-bottom: 2px solid var(--sklearn-color-text-on-default-background);\n",
       "  flex-grow: 1;\n",
       "}\n",
       "\n",
       "#sk-container-id-3 div.sk-parallel {\n",
       "  display: flex;\n",
       "  align-items: stretch;\n",
       "  justify-content: center;\n",
       "  background-color: var(--sklearn-color-background);\n",
       "  position: relative;\n",
       "}\n",
       "\n",
       "#sk-container-id-3 div.sk-parallel-item {\n",
       "  display: flex;\n",
       "  flex-direction: column;\n",
       "}\n",
       "\n",
       "#sk-container-id-3 div.sk-parallel-item:first-child::after {\n",
       "  align-self: flex-end;\n",
       "  width: 50%;\n",
       "}\n",
       "\n",
       "#sk-container-id-3 div.sk-parallel-item:last-child::after {\n",
       "  align-self: flex-start;\n",
       "  width: 50%;\n",
       "}\n",
       "\n",
       "#sk-container-id-3 div.sk-parallel-item:only-child::after {\n",
       "  width: 0;\n",
       "}\n",
       "\n",
       "/* Serial-specific style estimator block */\n",
       "\n",
       "#sk-container-id-3 div.sk-serial {\n",
       "  display: flex;\n",
       "  flex-direction: column;\n",
       "  align-items: center;\n",
       "  background-color: var(--sklearn-color-background);\n",
       "  padding-right: 1em;\n",
       "  padding-left: 1em;\n",
       "}\n",
       "\n",
       "\n",
       "/* Toggleable style: style used for estimator/Pipeline/ColumnTransformer box that is\n",
       "clickable and can be expanded/collapsed.\n",
       "- Pipeline and ColumnTransformer use this feature and define the default style\n",
       "- Estimators will overwrite some part of the style using the `sk-estimator` class\n",
       "*/\n",
       "\n",
       "/* Pipeline and ColumnTransformer style (default) */\n",
       "\n",
       "#sk-container-id-3 div.sk-toggleable {\n",
       "  /* Default theme specific background. It is overwritten whether we have a\n",
       "  specific estimator or a Pipeline/ColumnTransformer */\n",
       "  background-color: var(--sklearn-color-background);\n",
       "}\n",
       "\n",
       "/* Toggleable label */\n",
       "#sk-container-id-3 label.sk-toggleable__label {\n",
       "  cursor: pointer;\n",
       "  display: block;\n",
       "  width: 100%;\n",
       "  margin-bottom: 0;\n",
       "  padding: 0.5em;\n",
       "  box-sizing: border-box;\n",
       "  text-align: center;\n",
       "}\n",
       "\n",
       "#sk-container-id-3 label.sk-toggleable__label-arrow:before {\n",
       "  /* Arrow on the left of the label */\n",
       "  content: \"▸\";\n",
       "  float: left;\n",
       "  margin-right: 0.25em;\n",
       "  color: var(--sklearn-color-icon);\n",
       "}\n",
       "\n",
       "#sk-container-id-3 label.sk-toggleable__label-arrow:hover:before {\n",
       "  color: var(--sklearn-color-text);\n",
       "}\n",
       "\n",
       "/* Toggleable content - dropdown */\n",
       "\n",
       "#sk-container-id-3 div.sk-toggleable__content {\n",
       "  max-height: 0;\n",
       "  max-width: 0;\n",
       "  overflow: hidden;\n",
       "  text-align: left;\n",
       "  /* unfitted */\n",
       "  background-color: var(--sklearn-color-unfitted-level-0);\n",
       "}\n",
       "\n",
       "#sk-container-id-3 div.sk-toggleable__content.fitted {\n",
       "  /* fitted */\n",
       "  background-color: var(--sklearn-color-fitted-level-0);\n",
       "}\n",
       "\n",
       "#sk-container-id-3 div.sk-toggleable__content pre {\n",
       "  margin: 0.2em;\n",
       "  border-radius: 0.25em;\n",
       "  color: var(--sklearn-color-text);\n",
       "  /* unfitted */\n",
       "  background-color: var(--sklearn-color-unfitted-level-0);\n",
       "}\n",
       "\n",
       "#sk-container-id-3 div.sk-toggleable__content.fitted pre {\n",
       "  /* unfitted */\n",
       "  background-color: var(--sklearn-color-fitted-level-0);\n",
       "}\n",
       "\n",
       "#sk-container-id-3 input.sk-toggleable__control:checked~div.sk-toggleable__content {\n",
       "  /* Expand drop-down */\n",
       "  max-height: 200px;\n",
       "  max-width: 100%;\n",
       "  overflow: auto;\n",
       "}\n",
       "\n",
       "#sk-container-id-3 input.sk-toggleable__control:checked~label.sk-toggleable__label-arrow:before {\n",
       "  content: \"▾\";\n",
       "}\n",
       "\n",
       "/* Pipeline/ColumnTransformer-specific style */\n",
       "\n",
       "#sk-container-id-3 div.sk-label input.sk-toggleable__control:checked~label.sk-toggleable__label {\n",
       "  color: var(--sklearn-color-text);\n",
       "  background-color: var(--sklearn-color-unfitted-level-2);\n",
       "}\n",
       "\n",
       "#sk-container-id-3 div.sk-label.fitted input.sk-toggleable__control:checked~label.sk-toggleable__label {\n",
       "  background-color: var(--sklearn-color-fitted-level-2);\n",
       "}\n",
       "\n",
       "/* Estimator-specific style */\n",
       "\n",
       "/* Colorize estimator box */\n",
       "#sk-container-id-3 div.sk-estimator input.sk-toggleable__control:checked~label.sk-toggleable__label {\n",
       "  /* unfitted */\n",
       "  background-color: var(--sklearn-color-unfitted-level-2);\n",
       "}\n",
       "\n",
       "#sk-container-id-3 div.sk-estimator.fitted input.sk-toggleable__control:checked~label.sk-toggleable__label {\n",
       "  /* fitted */\n",
       "  background-color: var(--sklearn-color-fitted-level-2);\n",
       "}\n",
       "\n",
       "#sk-container-id-3 div.sk-label label.sk-toggleable__label,\n",
       "#sk-container-id-3 div.sk-label label {\n",
       "  /* The background is the default theme color */\n",
       "  color: var(--sklearn-color-text-on-default-background);\n",
       "}\n",
       "\n",
       "/* On hover, darken the color of the background */\n",
       "#sk-container-id-3 div.sk-label:hover label.sk-toggleable__label {\n",
       "  color: var(--sklearn-color-text);\n",
       "  background-color: var(--sklearn-color-unfitted-level-2);\n",
       "}\n",
       "\n",
       "/* Label box, darken color on hover, fitted */\n",
       "#sk-container-id-3 div.sk-label.fitted:hover label.sk-toggleable__label.fitted {\n",
       "  color: var(--sklearn-color-text);\n",
       "  background-color: var(--sklearn-color-fitted-level-2);\n",
       "}\n",
       "\n",
       "/* Estimator label */\n",
       "\n",
       "#sk-container-id-3 div.sk-label label {\n",
       "  font-family: monospace;\n",
       "  font-weight: bold;\n",
       "  display: inline-block;\n",
       "  line-height: 1.2em;\n",
       "}\n",
       "\n",
       "#sk-container-id-3 div.sk-label-container {\n",
       "  text-align: center;\n",
       "}\n",
       "\n",
       "/* Estimator-specific */\n",
       "#sk-container-id-3 div.sk-estimator {\n",
       "  font-family: monospace;\n",
       "  border: 1px dotted var(--sklearn-color-border-box);\n",
       "  border-radius: 0.25em;\n",
       "  box-sizing: border-box;\n",
       "  margin-bottom: 0.5em;\n",
       "  /* unfitted */\n",
       "  background-color: var(--sklearn-color-unfitted-level-0);\n",
       "}\n",
       "\n",
       "#sk-container-id-3 div.sk-estimator.fitted {\n",
       "  /* fitted */\n",
       "  background-color: var(--sklearn-color-fitted-level-0);\n",
       "}\n",
       "\n",
       "/* on hover */\n",
       "#sk-container-id-3 div.sk-estimator:hover {\n",
       "  /* unfitted */\n",
       "  background-color: var(--sklearn-color-unfitted-level-2);\n",
       "}\n",
       "\n",
       "#sk-container-id-3 div.sk-estimator.fitted:hover {\n",
       "  /* fitted */\n",
       "  background-color: var(--sklearn-color-fitted-level-2);\n",
       "}\n",
       "\n",
       "/* Specification for estimator info (e.g. \"i\" and \"?\") */\n",
       "\n",
       "/* Common style for \"i\" and \"?\" */\n",
       "\n",
       ".sk-estimator-doc-link,\n",
       "a:link.sk-estimator-doc-link,\n",
       "a:visited.sk-estimator-doc-link {\n",
       "  float: right;\n",
       "  font-size: smaller;\n",
       "  line-height: 1em;\n",
       "  font-family: monospace;\n",
       "  background-color: var(--sklearn-color-background);\n",
       "  border-radius: 1em;\n",
       "  height: 1em;\n",
       "  width: 1em;\n",
       "  text-decoration: none !important;\n",
       "  margin-left: 1ex;\n",
       "  /* unfitted */\n",
       "  border: var(--sklearn-color-unfitted-level-1) 1pt solid;\n",
       "  color: var(--sklearn-color-unfitted-level-1);\n",
       "}\n",
       "\n",
       ".sk-estimator-doc-link.fitted,\n",
       "a:link.sk-estimator-doc-link.fitted,\n",
       "a:visited.sk-estimator-doc-link.fitted {\n",
       "  /* fitted */\n",
       "  border: var(--sklearn-color-fitted-level-1) 1pt solid;\n",
       "  color: var(--sklearn-color-fitted-level-1);\n",
       "}\n",
       "\n",
       "/* On hover */\n",
       "div.sk-estimator:hover .sk-estimator-doc-link:hover,\n",
       ".sk-estimator-doc-link:hover,\n",
       "div.sk-label-container:hover .sk-estimator-doc-link:hover,\n",
       ".sk-estimator-doc-link:hover {\n",
       "  /* unfitted */\n",
       "  background-color: var(--sklearn-color-unfitted-level-3);\n",
       "  color: var(--sklearn-color-background);\n",
       "  text-decoration: none;\n",
       "}\n",
       "\n",
       "div.sk-estimator.fitted:hover .sk-estimator-doc-link.fitted:hover,\n",
       ".sk-estimator-doc-link.fitted:hover,\n",
       "div.sk-label-container:hover .sk-estimator-doc-link.fitted:hover,\n",
       ".sk-estimator-doc-link.fitted:hover {\n",
       "  /* fitted */\n",
       "  background-color: var(--sklearn-color-fitted-level-3);\n",
       "  color: var(--sklearn-color-background);\n",
       "  text-decoration: none;\n",
       "}\n",
       "\n",
       "/* Span, style for the box shown on hovering the info icon */\n",
       ".sk-estimator-doc-link span {\n",
       "  display: none;\n",
       "  z-index: 9999;\n",
       "  position: relative;\n",
       "  font-weight: normal;\n",
       "  right: .2ex;\n",
       "  padding: .5ex;\n",
       "  margin: .5ex;\n",
       "  width: min-content;\n",
       "  min-width: 20ex;\n",
       "  max-width: 50ex;\n",
       "  color: var(--sklearn-color-text);\n",
       "  box-shadow: 2pt 2pt 4pt #999;\n",
       "  /* unfitted */\n",
       "  background: var(--sklearn-color-unfitted-level-0);\n",
       "  border: .5pt solid var(--sklearn-color-unfitted-level-3);\n",
       "}\n",
       "\n",
       ".sk-estimator-doc-link.fitted span {\n",
       "  /* fitted */\n",
       "  background: var(--sklearn-color-fitted-level-0);\n",
       "  border: var(--sklearn-color-fitted-level-3);\n",
       "}\n",
       "\n",
       ".sk-estimator-doc-link:hover span {\n",
       "  display: block;\n",
       "}\n",
       "\n",
       "/* \"?\"-specific style due to the `<a>` HTML tag */\n",
       "\n",
       "#sk-container-id-3 a.estimator_doc_link {\n",
       "  float: right;\n",
       "  font-size: 1rem;\n",
       "  line-height: 1em;\n",
       "  font-family: monospace;\n",
       "  background-color: var(--sklearn-color-background);\n",
       "  border-radius: 1rem;\n",
       "  height: 1rem;\n",
       "  width: 1rem;\n",
       "  text-decoration: none;\n",
       "  /* unfitted */\n",
       "  color: var(--sklearn-color-unfitted-level-1);\n",
       "  border: var(--sklearn-color-unfitted-level-1) 1pt solid;\n",
       "}\n",
       "\n",
       "#sk-container-id-3 a.estimator_doc_link.fitted {\n",
       "  /* fitted */\n",
       "  border: var(--sklearn-color-fitted-level-1) 1pt solid;\n",
       "  color: var(--sklearn-color-fitted-level-1);\n",
       "}\n",
       "\n",
       "/* On hover */\n",
       "#sk-container-id-3 a.estimator_doc_link:hover {\n",
       "  /* unfitted */\n",
       "  background-color: var(--sklearn-color-unfitted-level-3);\n",
       "  color: var(--sklearn-color-background);\n",
       "  text-decoration: none;\n",
       "}\n",
       "\n",
       "#sk-container-id-3 a.estimator_doc_link.fitted:hover {\n",
       "  /* fitted */\n",
       "  background-color: var(--sklearn-color-fitted-level-3);\n",
       "}\n",
       "</style><div id=\"sk-container-id-3\" class=\"sk-top-container\"><div class=\"sk-text-repr-fallback\"><pre>KNeighborsClassifier(weights=&#x27;distance&#x27;)</pre><b>In a Jupyter environment, please rerun this cell to show the HTML representation or trust the notebook. <br />On GitHub, the HTML representation is unable to render, please try loading this page with nbviewer.org.</b></div><div class=\"sk-container\" hidden><div class=\"sk-item\"><div class=\"sk-estimator fitted sk-toggleable\"><input class=\"sk-toggleable__control sk-hidden--visually\" id=\"sk-estimator-id-5\" type=\"checkbox\" checked><label for=\"sk-estimator-id-5\" class=\"sk-toggleable__label fitted sk-toggleable__label-arrow fitted\">&nbsp;&nbsp;KNeighborsClassifier<a class=\"sk-estimator-doc-link fitted\" rel=\"noreferrer\" target=\"_blank\" href=\"https://scikit-learn.org/1.4/modules/generated/sklearn.neighbors.KNeighborsClassifier.html\">?<span>Documentation for KNeighborsClassifier</span></a><span class=\"sk-estimator-doc-link fitted\">i<span>Fitted</span></span></label><div class=\"sk-toggleable__content fitted\"><pre>KNeighborsClassifier(weights=&#x27;distance&#x27;)</pre></div> </div></div></div></div>"
      ],
      "text/plain": [
       "KNeighborsClassifier(weights='distance')"
      ]
     },
     "execution_count": 40,
     "metadata": {},
     "output_type": "execute_result"
    }
   ],
   "source": [
    "knn = knn_gridsearch.best_estimator_\n",
    "knn.fit(X_train, y_train)"
   ]
  },
  {
   "cell_type": "markdown",
   "metadata": {
    "id": "AV6ORlLdgcfh"
   },
   "source": [
    "#### **Penjelasan Terkait Model (Additional Rubric)**"
   ]
  },
  {
   "cell_type": "markdown",
   "metadata": {
    "id": "cFvUT0TEWpVA"
   },
   "source": [
    "K-Nearest Neighbor memprediksi kelas dari suatu data dengan membandingkan data tersebut dengan K titik data terdekat berdasarkan fitur/atribut yang ada. Penentuan prediksi kelas ditentukan berdasarkan kelas yang paling banyak muncul dari K titik data terdekat tersebut.\n",
    "\n",
    "Kelebihan dari algoritma K-Nearest Neighbor adalah implementasinya yang lebih mudah karena cara kerja algoritma yang sederhana dan memiliki jumlah hyperparameter yang relatif lebih sedikit daripada algoritma machine learning lainnya.\n",
    "\n",
    "Sedangkan, kekurangan algoritma K-Nearest Neighbor adalah tidak dapat bekerja dengan optimal untuk dataset berukuran besar, karena biaya komputasi yang mahal untuk menghitung jarak satu titik dengan titik-titik yag lain, sehingga cenderung menurunkan kinerja model.\n",
    "\n",
    "Referensi :\n",
    "\n",
    "[LP2M - Algoritma K-Nearest Neighbors (KNN) – Pengertian dan Penerapan](https://lp2m.uma.ac.id/2023/02/16/algoritma-k-nearest-neighbors-knn-pengertian-dan-penerapan/)"
   ]
  },
  {
   "cell_type": "markdown",
   "metadata": {
    "id": "tu5sEUrxX_le"
   },
   "source": [
    "### **Random Forest Classifier**"
   ]
  },
  {
   "cell_type": "code",
   "execution_count": 41,
   "metadata": {
    "id": "hUGJXvNgYbLR"
   },
   "outputs": [],
   "source": [
    "rfc = RandomForestClassifier()"
   ]
  },
  {
   "cell_type": "code",
   "execution_count": 42,
   "metadata": {
    "id": "q-Q5CCQ5YehG"
   },
   "outputs": [],
   "source": [
    "rfc_params = {'n_estimators': [200, 500, 1000],\n",
    "              'max_depth': [10, 20, 40]}\n",
    "rfc_gridcv = GridSearchCV(rfc, rfc_params, cv=10, scoring='f1_weighted', n_jobs=-1)"
   ]
  },
  {
   "cell_type": "markdown",
   "metadata": {
    "id": "iRmeIMNG9ffo"
   },
   "source": [
    "Hyperparameter yang akan dilakukan percobaan adalah n_estimators dan max_depth. Hyperparameter n_estimators menentukan jumlah decision tree, sedangkan max_depth menentukan kedalaman maksimal untuk setiap decision tree."
   ]
  },
  {
   "cell_type": "code",
   "execution_count": 43,
   "metadata": {
    "colab": {
     "base_uri": "https://localhost:8080/",
     "height": 118
    },
    "id": "-PzhY9SjZjBk",
    "outputId": "1e03d22d-489f-49be-adbe-fa2a17a5e183"
   },
   "outputs": [
    {
     "data": {
      "text/html": [
       "<style>#sk-container-id-4 {\n",
       "  /* Definition of color scheme common for light and dark mode */\n",
       "  --sklearn-color-text: black;\n",
       "  --sklearn-color-line: gray;\n",
       "  /* Definition of color scheme for unfitted estimators */\n",
       "  --sklearn-color-unfitted-level-0: #fff5e6;\n",
       "  --sklearn-color-unfitted-level-1: #f6e4d2;\n",
       "  --sklearn-color-unfitted-level-2: #ffe0b3;\n",
       "  --sklearn-color-unfitted-level-3: chocolate;\n",
       "  /* Definition of color scheme for fitted estimators */\n",
       "  --sklearn-color-fitted-level-0: #f0f8ff;\n",
       "  --sklearn-color-fitted-level-1: #d4ebff;\n",
       "  --sklearn-color-fitted-level-2: #b3dbfd;\n",
       "  --sklearn-color-fitted-level-3: cornflowerblue;\n",
       "\n",
       "  /* Specific color for light theme */\n",
       "  --sklearn-color-text-on-default-background: var(--sg-text-color, var(--theme-code-foreground, var(--jp-content-font-color1, black)));\n",
       "  --sklearn-color-background: var(--sg-background-color, var(--theme-background, var(--jp-layout-color0, white)));\n",
       "  --sklearn-color-border-box: var(--sg-text-color, var(--theme-code-foreground, var(--jp-content-font-color1, black)));\n",
       "  --sklearn-color-icon: #696969;\n",
       "\n",
       "  @media (prefers-color-scheme: dark) {\n",
       "    /* Redefinition of color scheme for dark theme */\n",
       "    --sklearn-color-text-on-default-background: var(--sg-text-color, var(--theme-code-foreground, var(--jp-content-font-color1, white)));\n",
       "    --sklearn-color-background: var(--sg-background-color, var(--theme-background, var(--jp-layout-color0, #111)));\n",
       "    --sklearn-color-border-box: var(--sg-text-color, var(--theme-code-foreground, var(--jp-content-font-color1, white)));\n",
       "    --sklearn-color-icon: #878787;\n",
       "  }\n",
       "}\n",
       "\n",
       "#sk-container-id-4 {\n",
       "  color: var(--sklearn-color-text);\n",
       "}\n",
       "\n",
       "#sk-container-id-4 pre {\n",
       "  padding: 0;\n",
       "}\n",
       "\n",
       "#sk-container-id-4 input.sk-hidden--visually {\n",
       "  border: 0;\n",
       "  clip: rect(1px 1px 1px 1px);\n",
       "  clip: rect(1px, 1px, 1px, 1px);\n",
       "  height: 1px;\n",
       "  margin: -1px;\n",
       "  overflow: hidden;\n",
       "  padding: 0;\n",
       "  position: absolute;\n",
       "  width: 1px;\n",
       "}\n",
       "\n",
       "#sk-container-id-4 div.sk-dashed-wrapped {\n",
       "  border: 1px dashed var(--sklearn-color-line);\n",
       "  margin: 0 0.4em 0.5em 0.4em;\n",
       "  box-sizing: border-box;\n",
       "  padding-bottom: 0.4em;\n",
       "  background-color: var(--sklearn-color-background);\n",
       "}\n",
       "\n",
       "#sk-container-id-4 div.sk-container {\n",
       "  /* jupyter's `normalize.less` sets `[hidden] { display: none; }`\n",
       "     but bootstrap.min.css set `[hidden] { display: none !important; }`\n",
       "     so we also need the `!important` here to be able to override the\n",
       "     default hidden behavior on the sphinx rendered scikit-learn.org.\n",
       "     See: https://github.com/scikit-learn/scikit-learn/issues/21755 */\n",
       "  display: inline-block !important;\n",
       "  position: relative;\n",
       "}\n",
       "\n",
       "#sk-container-id-4 div.sk-text-repr-fallback {\n",
       "  display: none;\n",
       "}\n",
       "\n",
       "div.sk-parallel-item,\n",
       "div.sk-serial,\n",
       "div.sk-item {\n",
       "  /* draw centered vertical line to link estimators */\n",
       "  background-image: linear-gradient(var(--sklearn-color-text-on-default-background), var(--sklearn-color-text-on-default-background));\n",
       "  background-size: 2px 100%;\n",
       "  background-repeat: no-repeat;\n",
       "  background-position: center center;\n",
       "}\n",
       "\n",
       "/* Parallel-specific style estimator block */\n",
       "\n",
       "#sk-container-id-4 div.sk-parallel-item::after {\n",
       "  content: \"\";\n",
       "  width: 100%;\n",
       "  border-bottom: 2px solid var(--sklearn-color-text-on-default-background);\n",
       "  flex-grow: 1;\n",
       "}\n",
       "\n",
       "#sk-container-id-4 div.sk-parallel {\n",
       "  display: flex;\n",
       "  align-items: stretch;\n",
       "  justify-content: center;\n",
       "  background-color: var(--sklearn-color-background);\n",
       "  position: relative;\n",
       "}\n",
       "\n",
       "#sk-container-id-4 div.sk-parallel-item {\n",
       "  display: flex;\n",
       "  flex-direction: column;\n",
       "}\n",
       "\n",
       "#sk-container-id-4 div.sk-parallel-item:first-child::after {\n",
       "  align-self: flex-end;\n",
       "  width: 50%;\n",
       "}\n",
       "\n",
       "#sk-container-id-4 div.sk-parallel-item:last-child::after {\n",
       "  align-self: flex-start;\n",
       "  width: 50%;\n",
       "}\n",
       "\n",
       "#sk-container-id-4 div.sk-parallel-item:only-child::after {\n",
       "  width: 0;\n",
       "}\n",
       "\n",
       "/* Serial-specific style estimator block */\n",
       "\n",
       "#sk-container-id-4 div.sk-serial {\n",
       "  display: flex;\n",
       "  flex-direction: column;\n",
       "  align-items: center;\n",
       "  background-color: var(--sklearn-color-background);\n",
       "  padding-right: 1em;\n",
       "  padding-left: 1em;\n",
       "}\n",
       "\n",
       "\n",
       "/* Toggleable style: style used for estimator/Pipeline/ColumnTransformer box that is\n",
       "clickable and can be expanded/collapsed.\n",
       "- Pipeline and ColumnTransformer use this feature and define the default style\n",
       "- Estimators will overwrite some part of the style using the `sk-estimator` class\n",
       "*/\n",
       "\n",
       "/* Pipeline and ColumnTransformer style (default) */\n",
       "\n",
       "#sk-container-id-4 div.sk-toggleable {\n",
       "  /* Default theme specific background. It is overwritten whether we have a\n",
       "  specific estimator or a Pipeline/ColumnTransformer */\n",
       "  background-color: var(--sklearn-color-background);\n",
       "}\n",
       "\n",
       "/* Toggleable label */\n",
       "#sk-container-id-4 label.sk-toggleable__label {\n",
       "  cursor: pointer;\n",
       "  display: block;\n",
       "  width: 100%;\n",
       "  margin-bottom: 0;\n",
       "  padding: 0.5em;\n",
       "  box-sizing: border-box;\n",
       "  text-align: center;\n",
       "}\n",
       "\n",
       "#sk-container-id-4 label.sk-toggleable__label-arrow:before {\n",
       "  /* Arrow on the left of the label */\n",
       "  content: \"▸\";\n",
       "  float: left;\n",
       "  margin-right: 0.25em;\n",
       "  color: var(--sklearn-color-icon);\n",
       "}\n",
       "\n",
       "#sk-container-id-4 label.sk-toggleable__label-arrow:hover:before {\n",
       "  color: var(--sklearn-color-text);\n",
       "}\n",
       "\n",
       "/* Toggleable content - dropdown */\n",
       "\n",
       "#sk-container-id-4 div.sk-toggleable__content {\n",
       "  max-height: 0;\n",
       "  max-width: 0;\n",
       "  overflow: hidden;\n",
       "  text-align: left;\n",
       "  /* unfitted */\n",
       "  background-color: var(--sklearn-color-unfitted-level-0);\n",
       "}\n",
       "\n",
       "#sk-container-id-4 div.sk-toggleable__content.fitted {\n",
       "  /* fitted */\n",
       "  background-color: var(--sklearn-color-fitted-level-0);\n",
       "}\n",
       "\n",
       "#sk-container-id-4 div.sk-toggleable__content pre {\n",
       "  margin: 0.2em;\n",
       "  border-radius: 0.25em;\n",
       "  color: var(--sklearn-color-text);\n",
       "  /* unfitted */\n",
       "  background-color: var(--sklearn-color-unfitted-level-0);\n",
       "}\n",
       "\n",
       "#sk-container-id-4 div.sk-toggleable__content.fitted pre {\n",
       "  /* unfitted */\n",
       "  background-color: var(--sklearn-color-fitted-level-0);\n",
       "}\n",
       "\n",
       "#sk-container-id-4 input.sk-toggleable__control:checked~div.sk-toggleable__content {\n",
       "  /* Expand drop-down */\n",
       "  max-height: 200px;\n",
       "  max-width: 100%;\n",
       "  overflow: auto;\n",
       "}\n",
       "\n",
       "#sk-container-id-4 input.sk-toggleable__control:checked~label.sk-toggleable__label-arrow:before {\n",
       "  content: \"▾\";\n",
       "}\n",
       "\n",
       "/* Pipeline/ColumnTransformer-specific style */\n",
       "\n",
       "#sk-container-id-4 div.sk-label input.sk-toggleable__control:checked~label.sk-toggleable__label {\n",
       "  color: var(--sklearn-color-text);\n",
       "  background-color: var(--sklearn-color-unfitted-level-2);\n",
       "}\n",
       "\n",
       "#sk-container-id-4 div.sk-label.fitted input.sk-toggleable__control:checked~label.sk-toggleable__label {\n",
       "  background-color: var(--sklearn-color-fitted-level-2);\n",
       "}\n",
       "\n",
       "/* Estimator-specific style */\n",
       "\n",
       "/* Colorize estimator box */\n",
       "#sk-container-id-4 div.sk-estimator input.sk-toggleable__control:checked~label.sk-toggleable__label {\n",
       "  /* unfitted */\n",
       "  background-color: var(--sklearn-color-unfitted-level-2);\n",
       "}\n",
       "\n",
       "#sk-container-id-4 div.sk-estimator.fitted input.sk-toggleable__control:checked~label.sk-toggleable__label {\n",
       "  /* fitted */\n",
       "  background-color: var(--sklearn-color-fitted-level-2);\n",
       "}\n",
       "\n",
       "#sk-container-id-4 div.sk-label label.sk-toggleable__label,\n",
       "#sk-container-id-4 div.sk-label label {\n",
       "  /* The background is the default theme color */\n",
       "  color: var(--sklearn-color-text-on-default-background);\n",
       "}\n",
       "\n",
       "/* On hover, darken the color of the background */\n",
       "#sk-container-id-4 div.sk-label:hover label.sk-toggleable__label {\n",
       "  color: var(--sklearn-color-text);\n",
       "  background-color: var(--sklearn-color-unfitted-level-2);\n",
       "}\n",
       "\n",
       "/* Label box, darken color on hover, fitted */\n",
       "#sk-container-id-4 div.sk-label.fitted:hover label.sk-toggleable__label.fitted {\n",
       "  color: var(--sklearn-color-text);\n",
       "  background-color: var(--sklearn-color-fitted-level-2);\n",
       "}\n",
       "\n",
       "/* Estimator label */\n",
       "\n",
       "#sk-container-id-4 div.sk-label label {\n",
       "  font-family: monospace;\n",
       "  font-weight: bold;\n",
       "  display: inline-block;\n",
       "  line-height: 1.2em;\n",
       "}\n",
       "\n",
       "#sk-container-id-4 div.sk-label-container {\n",
       "  text-align: center;\n",
       "}\n",
       "\n",
       "/* Estimator-specific */\n",
       "#sk-container-id-4 div.sk-estimator {\n",
       "  font-family: monospace;\n",
       "  border: 1px dotted var(--sklearn-color-border-box);\n",
       "  border-radius: 0.25em;\n",
       "  box-sizing: border-box;\n",
       "  margin-bottom: 0.5em;\n",
       "  /* unfitted */\n",
       "  background-color: var(--sklearn-color-unfitted-level-0);\n",
       "}\n",
       "\n",
       "#sk-container-id-4 div.sk-estimator.fitted {\n",
       "  /* fitted */\n",
       "  background-color: var(--sklearn-color-fitted-level-0);\n",
       "}\n",
       "\n",
       "/* on hover */\n",
       "#sk-container-id-4 div.sk-estimator:hover {\n",
       "  /* unfitted */\n",
       "  background-color: var(--sklearn-color-unfitted-level-2);\n",
       "}\n",
       "\n",
       "#sk-container-id-4 div.sk-estimator.fitted:hover {\n",
       "  /* fitted */\n",
       "  background-color: var(--sklearn-color-fitted-level-2);\n",
       "}\n",
       "\n",
       "/* Specification for estimator info (e.g. \"i\" and \"?\") */\n",
       "\n",
       "/* Common style for \"i\" and \"?\" */\n",
       "\n",
       ".sk-estimator-doc-link,\n",
       "a:link.sk-estimator-doc-link,\n",
       "a:visited.sk-estimator-doc-link {\n",
       "  float: right;\n",
       "  font-size: smaller;\n",
       "  line-height: 1em;\n",
       "  font-family: monospace;\n",
       "  background-color: var(--sklearn-color-background);\n",
       "  border-radius: 1em;\n",
       "  height: 1em;\n",
       "  width: 1em;\n",
       "  text-decoration: none !important;\n",
       "  margin-left: 1ex;\n",
       "  /* unfitted */\n",
       "  border: var(--sklearn-color-unfitted-level-1) 1pt solid;\n",
       "  color: var(--sklearn-color-unfitted-level-1);\n",
       "}\n",
       "\n",
       ".sk-estimator-doc-link.fitted,\n",
       "a:link.sk-estimator-doc-link.fitted,\n",
       "a:visited.sk-estimator-doc-link.fitted {\n",
       "  /* fitted */\n",
       "  border: var(--sklearn-color-fitted-level-1) 1pt solid;\n",
       "  color: var(--sklearn-color-fitted-level-1);\n",
       "}\n",
       "\n",
       "/* On hover */\n",
       "div.sk-estimator:hover .sk-estimator-doc-link:hover,\n",
       ".sk-estimator-doc-link:hover,\n",
       "div.sk-label-container:hover .sk-estimator-doc-link:hover,\n",
       ".sk-estimator-doc-link:hover {\n",
       "  /* unfitted */\n",
       "  background-color: var(--sklearn-color-unfitted-level-3);\n",
       "  color: var(--sklearn-color-background);\n",
       "  text-decoration: none;\n",
       "}\n",
       "\n",
       "div.sk-estimator.fitted:hover .sk-estimator-doc-link.fitted:hover,\n",
       ".sk-estimator-doc-link.fitted:hover,\n",
       "div.sk-label-container:hover .sk-estimator-doc-link.fitted:hover,\n",
       ".sk-estimator-doc-link.fitted:hover {\n",
       "  /* fitted */\n",
       "  background-color: var(--sklearn-color-fitted-level-3);\n",
       "  color: var(--sklearn-color-background);\n",
       "  text-decoration: none;\n",
       "}\n",
       "\n",
       "/* Span, style for the box shown on hovering the info icon */\n",
       ".sk-estimator-doc-link span {\n",
       "  display: none;\n",
       "  z-index: 9999;\n",
       "  position: relative;\n",
       "  font-weight: normal;\n",
       "  right: .2ex;\n",
       "  padding: .5ex;\n",
       "  margin: .5ex;\n",
       "  width: min-content;\n",
       "  min-width: 20ex;\n",
       "  max-width: 50ex;\n",
       "  color: var(--sklearn-color-text);\n",
       "  box-shadow: 2pt 2pt 4pt #999;\n",
       "  /* unfitted */\n",
       "  background: var(--sklearn-color-unfitted-level-0);\n",
       "  border: .5pt solid var(--sklearn-color-unfitted-level-3);\n",
       "}\n",
       "\n",
       ".sk-estimator-doc-link.fitted span {\n",
       "  /* fitted */\n",
       "  background: var(--sklearn-color-fitted-level-0);\n",
       "  border: var(--sklearn-color-fitted-level-3);\n",
       "}\n",
       "\n",
       ".sk-estimator-doc-link:hover span {\n",
       "  display: block;\n",
       "}\n",
       "\n",
       "/* \"?\"-specific style due to the `<a>` HTML tag */\n",
       "\n",
       "#sk-container-id-4 a.estimator_doc_link {\n",
       "  float: right;\n",
       "  font-size: 1rem;\n",
       "  line-height: 1em;\n",
       "  font-family: monospace;\n",
       "  background-color: var(--sklearn-color-background);\n",
       "  border-radius: 1rem;\n",
       "  height: 1rem;\n",
       "  width: 1rem;\n",
       "  text-decoration: none;\n",
       "  /* unfitted */\n",
       "  color: var(--sklearn-color-unfitted-level-1);\n",
       "  border: var(--sklearn-color-unfitted-level-1) 1pt solid;\n",
       "}\n",
       "\n",
       "#sk-container-id-4 a.estimator_doc_link.fitted {\n",
       "  /* fitted */\n",
       "  border: var(--sklearn-color-fitted-level-1) 1pt solid;\n",
       "  color: var(--sklearn-color-fitted-level-1);\n",
       "}\n",
       "\n",
       "/* On hover */\n",
       "#sk-container-id-4 a.estimator_doc_link:hover {\n",
       "  /* unfitted */\n",
       "  background-color: var(--sklearn-color-unfitted-level-3);\n",
       "  color: var(--sklearn-color-background);\n",
       "  text-decoration: none;\n",
       "}\n",
       "\n",
       "#sk-container-id-4 a.estimator_doc_link.fitted:hover {\n",
       "  /* fitted */\n",
       "  background-color: var(--sklearn-color-fitted-level-3);\n",
       "}\n",
       "</style><div id=\"sk-container-id-4\" class=\"sk-top-container\"><div class=\"sk-text-repr-fallback\"><pre>GridSearchCV(cv=10, estimator=RandomForestClassifier(), n_jobs=-1,\n",
       "             param_grid={&#x27;max_depth&#x27;: [10, 20, 40],\n",
       "                         &#x27;n_estimators&#x27;: [200, 500, 1000]},\n",
       "             scoring=&#x27;f1_weighted&#x27;)</pre><b>In a Jupyter environment, please rerun this cell to show the HTML representation or trust the notebook. <br />On GitHub, the HTML representation is unable to render, please try loading this page with nbviewer.org.</b></div><div class=\"sk-container\" hidden><div class=\"sk-item sk-dashed-wrapped\"><div class=\"sk-label-container\"><div class=\"sk-label fitted sk-toggleable\"><input class=\"sk-toggleable__control sk-hidden--visually\" id=\"sk-estimator-id-6\" type=\"checkbox\" ><label for=\"sk-estimator-id-6\" class=\"sk-toggleable__label fitted sk-toggleable__label-arrow fitted\">&nbsp;&nbsp;GridSearchCV<a class=\"sk-estimator-doc-link fitted\" rel=\"noreferrer\" target=\"_blank\" href=\"https://scikit-learn.org/1.4/modules/generated/sklearn.model_selection.GridSearchCV.html\">?<span>Documentation for GridSearchCV</span></a><span class=\"sk-estimator-doc-link fitted\">i<span>Fitted</span></span></label><div class=\"sk-toggleable__content fitted\"><pre>GridSearchCV(cv=10, estimator=RandomForestClassifier(), n_jobs=-1,\n",
       "             param_grid={&#x27;max_depth&#x27;: [10, 20, 40],\n",
       "                         &#x27;n_estimators&#x27;: [200, 500, 1000]},\n",
       "             scoring=&#x27;f1_weighted&#x27;)</pre></div> </div></div><div class=\"sk-parallel\"><div class=\"sk-parallel-item\"><div class=\"sk-item\"><div class=\"sk-label-container\"><div class=\"sk-label fitted sk-toggleable\"><input class=\"sk-toggleable__control sk-hidden--visually\" id=\"sk-estimator-id-7\" type=\"checkbox\" ><label for=\"sk-estimator-id-7\" class=\"sk-toggleable__label fitted sk-toggleable__label-arrow fitted\">estimator: RandomForestClassifier</label><div class=\"sk-toggleable__content fitted\"><pre>RandomForestClassifier()</pre></div> </div></div><div class=\"sk-serial\"><div class=\"sk-item\"><div class=\"sk-estimator fitted sk-toggleable\"><input class=\"sk-toggleable__control sk-hidden--visually\" id=\"sk-estimator-id-8\" type=\"checkbox\" ><label for=\"sk-estimator-id-8\" class=\"sk-toggleable__label fitted sk-toggleable__label-arrow fitted\">&nbsp;RandomForestClassifier<a class=\"sk-estimator-doc-link fitted\" rel=\"noreferrer\" target=\"_blank\" href=\"https://scikit-learn.org/1.4/modules/generated/sklearn.ensemble.RandomForestClassifier.html\">?<span>Documentation for RandomForestClassifier</span></a></label><div class=\"sk-toggleable__content fitted\"><pre>RandomForestClassifier()</pre></div> </div></div></div></div></div></div></div></div></div>"
      ],
      "text/plain": [
       "GridSearchCV(cv=10, estimator=RandomForestClassifier(), n_jobs=-1,\n",
       "             param_grid={'max_depth': [10, 20, 40],\n",
       "                         'n_estimators': [200, 500, 1000]},\n",
       "             scoring='f1_weighted')"
      ]
     },
     "execution_count": 43,
     "metadata": {},
     "output_type": "execute_result"
    }
   ],
   "source": [
    "rfc_gridcv.fit(X_train, y_train)"
   ]
  },
  {
   "cell_type": "code",
   "execution_count": 44,
   "metadata": {
    "colab": {
     "base_uri": "https://localhost:8080/"
    },
    "id": "SzgBB1uWZG9X",
    "outputId": "979c306b-be3b-45bc-d7a4-0e50ba59638d"
   },
   "outputs": [
    {
     "name": "stdout",
     "output_type": "stream",
     "text": [
      "Best Params : {'max_depth': 10, 'n_estimators': 500}\n",
      "Best Score : 0.7603460788715066\n"
     ]
    }
   ],
   "source": [
    "print(f\"Best Params : {rfc_gridcv.best_params_}\")\n",
    "print(f\"Best Score : {rfc_gridcv.best_score_}\")"
   ]
  },
  {
   "cell_type": "code",
   "execution_count": 45,
   "metadata": {
    "colab": {
     "base_uri": "https://localhost:8080/",
     "height": 75
    },
    "id": "D7bH1OHstDzY",
    "outputId": "6b800cdb-82d4-4eb4-81bf-1e1bb092c087"
   },
   "outputs": [
    {
     "data": {
      "text/html": [
       "<style>#sk-container-id-5 {\n",
       "  /* Definition of color scheme common for light and dark mode */\n",
       "  --sklearn-color-text: black;\n",
       "  --sklearn-color-line: gray;\n",
       "  /* Definition of color scheme for unfitted estimators */\n",
       "  --sklearn-color-unfitted-level-0: #fff5e6;\n",
       "  --sklearn-color-unfitted-level-1: #f6e4d2;\n",
       "  --sklearn-color-unfitted-level-2: #ffe0b3;\n",
       "  --sklearn-color-unfitted-level-3: chocolate;\n",
       "  /* Definition of color scheme for fitted estimators */\n",
       "  --sklearn-color-fitted-level-0: #f0f8ff;\n",
       "  --sklearn-color-fitted-level-1: #d4ebff;\n",
       "  --sklearn-color-fitted-level-2: #b3dbfd;\n",
       "  --sklearn-color-fitted-level-3: cornflowerblue;\n",
       "\n",
       "  /* Specific color for light theme */\n",
       "  --sklearn-color-text-on-default-background: var(--sg-text-color, var(--theme-code-foreground, var(--jp-content-font-color1, black)));\n",
       "  --sklearn-color-background: var(--sg-background-color, var(--theme-background, var(--jp-layout-color0, white)));\n",
       "  --sklearn-color-border-box: var(--sg-text-color, var(--theme-code-foreground, var(--jp-content-font-color1, black)));\n",
       "  --sklearn-color-icon: #696969;\n",
       "\n",
       "  @media (prefers-color-scheme: dark) {\n",
       "    /* Redefinition of color scheme for dark theme */\n",
       "    --sklearn-color-text-on-default-background: var(--sg-text-color, var(--theme-code-foreground, var(--jp-content-font-color1, white)));\n",
       "    --sklearn-color-background: var(--sg-background-color, var(--theme-background, var(--jp-layout-color0, #111)));\n",
       "    --sklearn-color-border-box: var(--sg-text-color, var(--theme-code-foreground, var(--jp-content-font-color1, white)));\n",
       "    --sklearn-color-icon: #878787;\n",
       "  }\n",
       "}\n",
       "\n",
       "#sk-container-id-5 {\n",
       "  color: var(--sklearn-color-text);\n",
       "}\n",
       "\n",
       "#sk-container-id-5 pre {\n",
       "  padding: 0;\n",
       "}\n",
       "\n",
       "#sk-container-id-5 input.sk-hidden--visually {\n",
       "  border: 0;\n",
       "  clip: rect(1px 1px 1px 1px);\n",
       "  clip: rect(1px, 1px, 1px, 1px);\n",
       "  height: 1px;\n",
       "  margin: -1px;\n",
       "  overflow: hidden;\n",
       "  padding: 0;\n",
       "  position: absolute;\n",
       "  width: 1px;\n",
       "}\n",
       "\n",
       "#sk-container-id-5 div.sk-dashed-wrapped {\n",
       "  border: 1px dashed var(--sklearn-color-line);\n",
       "  margin: 0 0.4em 0.5em 0.4em;\n",
       "  box-sizing: border-box;\n",
       "  padding-bottom: 0.4em;\n",
       "  background-color: var(--sklearn-color-background);\n",
       "}\n",
       "\n",
       "#sk-container-id-5 div.sk-container {\n",
       "  /* jupyter's `normalize.less` sets `[hidden] { display: none; }`\n",
       "     but bootstrap.min.css set `[hidden] { display: none !important; }`\n",
       "     so we also need the `!important` here to be able to override the\n",
       "     default hidden behavior on the sphinx rendered scikit-learn.org.\n",
       "     See: https://github.com/scikit-learn/scikit-learn/issues/21755 */\n",
       "  display: inline-block !important;\n",
       "  position: relative;\n",
       "}\n",
       "\n",
       "#sk-container-id-5 div.sk-text-repr-fallback {\n",
       "  display: none;\n",
       "}\n",
       "\n",
       "div.sk-parallel-item,\n",
       "div.sk-serial,\n",
       "div.sk-item {\n",
       "  /* draw centered vertical line to link estimators */\n",
       "  background-image: linear-gradient(var(--sklearn-color-text-on-default-background), var(--sklearn-color-text-on-default-background));\n",
       "  background-size: 2px 100%;\n",
       "  background-repeat: no-repeat;\n",
       "  background-position: center center;\n",
       "}\n",
       "\n",
       "/* Parallel-specific style estimator block */\n",
       "\n",
       "#sk-container-id-5 div.sk-parallel-item::after {\n",
       "  content: \"\";\n",
       "  width: 100%;\n",
       "  border-bottom: 2px solid var(--sklearn-color-text-on-default-background);\n",
       "  flex-grow: 1;\n",
       "}\n",
       "\n",
       "#sk-container-id-5 div.sk-parallel {\n",
       "  display: flex;\n",
       "  align-items: stretch;\n",
       "  justify-content: center;\n",
       "  background-color: var(--sklearn-color-background);\n",
       "  position: relative;\n",
       "}\n",
       "\n",
       "#sk-container-id-5 div.sk-parallel-item {\n",
       "  display: flex;\n",
       "  flex-direction: column;\n",
       "}\n",
       "\n",
       "#sk-container-id-5 div.sk-parallel-item:first-child::after {\n",
       "  align-self: flex-end;\n",
       "  width: 50%;\n",
       "}\n",
       "\n",
       "#sk-container-id-5 div.sk-parallel-item:last-child::after {\n",
       "  align-self: flex-start;\n",
       "  width: 50%;\n",
       "}\n",
       "\n",
       "#sk-container-id-5 div.sk-parallel-item:only-child::after {\n",
       "  width: 0;\n",
       "}\n",
       "\n",
       "/* Serial-specific style estimator block */\n",
       "\n",
       "#sk-container-id-5 div.sk-serial {\n",
       "  display: flex;\n",
       "  flex-direction: column;\n",
       "  align-items: center;\n",
       "  background-color: var(--sklearn-color-background);\n",
       "  padding-right: 1em;\n",
       "  padding-left: 1em;\n",
       "}\n",
       "\n",
       "\n",
       "/* Toggleable style: style used for estimator/Pipeline/ColumnTransformer box that is\n",
       "clickable and can be expanded/collapsed.\n",
       "- Pipeline and ColumnTransformer use this feature and define the default style\n",
       "- Estimators will overwrite some part of the style using the `sk-estimator` class\n",
       "*/\n",
       "\n",
       "/* Pipeline and ColumnTransformer style (default) */\n",
       "\n",
       "#sk-container-id-5 div.sk-toggleable {\n",
       "  /* Default theme specific background. It is overwritten whether we have a\n",
       "  specific estimator or a Pipeline/ColumnTransformer */\n",
       "  background-color: var(--sklearn-color-background);\n",
       "}\n",
       "\n",
       "/* Toggleable label */\n",
       "#sk-container-id-5 label.sk-toggleable__label {\n",
       "  cursor: pointer;\n",
       "  display: block;\n",
       "  width: 100%;\n",
       "  margin-bottom: 0;\n",
       "  padding: 0.5em;\n",
       "  box-sizing: border-box;\n",
       "  text-align: center;\n",
       "}\n",
       "\n",
       "#sk-container-id-5 label.sk-toggleable__label-arrow:before {\n",
       "  /* Arrow on the left of the label */\n",
       "  content: \"▸\";\n",
       "  float: left;\n",
       "  margin-right: 0.25em;\n",
       "  color: var(--sklearn-color-icon);\n",
       "}\n",
       "\n",
       "#sk-container-id-5 label.sk-toggleable__label-arrow:hover:before {\n",
       "  color: var(--sklearn-color-text);\n",
       "}\n",
       "\n",
       "/* Toggleable content - dropdown */\n",
       "\n",
       "#sk-container-id-5 div.sk-toggleable__content {\n",
       "  max-height: 0;\n",
       "  max-width: 0;\n",
       "  overflow: hidden;\n",
       "  text-align: left;\n",
       "  /* unfitted */\n",
       "  background-color: var(--sklearn-color-unfitted-level-0);\n",
       "}\n",
       "\n",
       "#sk-container-id-5 div.sk-toggleable__content.fitted {\n",
       "  /* fitted */\n",
       "  background-color: var(--sklearn-color-fitted-level-0);\n",
       "}\n",
       "\n",
       "#sk-container-id-5 div.sk-toggleable__content pre {\n",
       "  margin: 0.2em;\n",
       "  border-radius: 0.25em;\n",
       "  color: var(--sklearn-color-text);\n",
       "  /* unfitted */\n",
       "  background-color: var(--sklearn-color-unfitted-level-0);\n",
       "}\n",
       "\n",
       "#sk-container-id-5 div.sk-toggleable__content.fitted pre {\n",
       "  /* unfitted */\n",
       "  background-color: var(--sklearn-color-fitted-level-0);\n",
       "}\n",
       "\n",
       "#sk-container-id-5 input.sk-toggleable__control:checked~div.sk-toggleable__content {\n",
       "  /* Expand drop-down */\n",
       "  max-height: 200px;\n",
       "  max-width: 100%;\n",
       "  overflow: auto;\n",
       "}\n",
       "\n",
       "#sk-container-id-5 input.sk-toggleable__control:checked~label.sk-toggleable__label-arrow:before {\n",
       "  content: \"▾\";\n",
       "}\n",
       "\n",
       "/* Pipeline/ColumnTransformer-specific style */\n",
       "\n",
       "#sk-container-id-5 div.sk-label input.sk-toggleable__control:checked~label.sk-toggleable__label {\n",
       "  color: var(--sklearn-color-text);\n",
       "  background-color: var(--sklearn-color-unfitted-level-2);\n",
       "}\n",
       "\n",
       "#sk-container-id-5 div.sk-label.fitted input.sk-toggleable__control:checked~label.sk-toggleable__label {\n",
       "  background-color: var(--sklearn-color-fitted-level-2);\n",
       "}\n",
       "\n",
       "/* Estimator-specific style */\n",
       "\n",
       "/* Colorize estimator box */\n",
       "#sk-container-id-5 div.sk-estimator input.sk-toggleable__control:checked~label.sk-toggleable__label {\n",
       "  /* unfitted */\n",
       "  background-color: var(--sklearn-color-unfitted-level-2);\n",
       "}\n",
       "\n",
       "#sk-container-id-5 div.sk-estimator.fitted input.sk-toggleable__control:checked~label.sk-toggleable__label {\n",
       "  /* fitted */\n",
       "  background-color: var(--sklearn-color-fitted-level-2);\n",
       "}\n",
       "\n",
       "#sk-container-id-5 div.sk-label label.sk-toggleable__label,\n",
       "#sk-container-id-5 div.sk-label label {\n",
       "  /* The background is the default theme color */\n",
       "  color: var(--sklearn-color-text-on-default-background);\n",
       "}\n",
       "\n",
       "/* On hover, darken the color of the background */\n",
       "#sk-container-id-5 div.sk-label:hover label.sk-toggleable__label {\n",
       "  color: var(--sklearn-color-text);\n",
       "  background-color: var(--sklearn-color-unfitted-level-2);\n",
       "}\n",
       "\n",
       "/* Label box, darken color on hover, fitted */\n",
       "#sk-container-id-5 div.sk-label.fitted:hover label.sk-toggleable__label.fitted {\n",
       "  color: var(--sklearn-color-text);\n",
       "  background-color: var(--sklearn-color-fitted-level-2);\n",
       "}\n",
       "\n",
       "/* Estimator label */\n",
       "\n",
       "#sk-container-id-5 div.sk-label label {\n",
       "  font-family: monospace;\n",
       "  font-weight: bold;\n",
       "  display: inline-block;\n",
       "  line-height: 1.2em;\n",
       "}\n",
       "\n",
       "#sk-container-id-5 div.sk-label-container {\n",
       "  text-align: center;\n",
       "}\n",
       "\n",
       "/* Estimator-specific */\n",
       "#sk-container-id-5 div.sk-estimator {\n",
       "  font-family: monospace;\n",
       "  border: 1px dotted var(--sklearn-color-border-box);\n",
       "  border-radius: 0.25em;\n",
       "  box-sizing: border-box;\n",
       "  margin-bottom: 0.5em;\n",
       "  /* unfitted */\n",
       "  background-color: var(--sklearn-color-unfitted-level-0);\n",
       "}\n",
       "\n",
       "#sk-container-id-5 div.sk-estimator.fitted {\n",
       "  /* fitted */\n",
       "  background-color: var(--sklearn-color-fitted-level-0);\n",
       "}\n",
       "\n",
       "/* on hover */\n",
       "#sk-container-id-5 div.sk-estimator:hover {\n",
       "  /* unfitted */\n",
       "  background-color: var(--sklearn-color-unfitted-level-2);\n",
       "}\n",
       "\n",
       "#sk-container-id-5 div.sk-estimator.fitted:hover {\n",
       "  /* fitted */\n",
       "  background-color: var(--sklearn-color-fitted-level-2);\n",
       "}\n",
       "\n",
       "/* Specification for estimator info (e.g. \"i\" and \"?\") */\n",
       "\n",
       "/* Common style for \"i\" and \"?\" */\n",
       "\n",
       ".sk-estimator-doc-link,\n",
       "a:link.sk-estimator-doc-link,\n",
       "a:visited.sk-estimator-doc-link {\n",
       "  float: right;\n",
       "  font-size: smaller;\n",
       "  line-height: 1em;\n",
       "  font-family: monospace;\n",
       "  background-color: var(--sklearn-color-background);\n",
       "  border-radius: 1em;\n",
       "  height: 1em;\n",
       "  width: 1em;\n",
       "  text-decoration: none !important;\n",
       "  margin-left: 1ex;\n",
       "  /* unfitted */\n",
       "  border: var(--sklearn-color-unfitted-level-1) 1pt solid;\n",
       "  color: var(--sklearn-color-unfitted-level-1);\n",
       "}\n",
       "\n",
       ".sk-estimator-doc-link.fitted,\n",
       "a:link.sk-estimator-doc-link.fitted,\n",
       "a:visited.sk-estimator-doc-link.fitted {\n",
       "  /* fitted */\n",
       "  border: var(--sklearn-color-fitted-level-1) 1pt solid;\n",
       "  color: var(--sklearn-color-fitted-level-1);\n",
       "}\n",
       "\n",
       "/* On hover */\n",
       "div.sk-estimator:hover .sk-estimator-doc-link:hover,\n",
       ".sk-estimator-doc-link:hover,\n",
       "div.sk-label-container:hover .sk-estimator-doc-link:hover,\n",
       ".sk-estimator-doc-link:hover {\n",
       "  /* unfitted */\n",
       "  background-color: var(--sklearn-color-unfitted-level-3);\n",
       "  color: var(--sklearn-color-background);\n",
       "  text-decoration: none;\n",
       "}\n",
       "\n",
       "div.sk-estimator.fitted:hover .sk-estimator-doc-link.fitted:hover,\n",
       ".sk-estimator-doc-link.fitted:hover,\n",
       "div.sk-label-container:hover .sk-estimator-doc-link.fitted:hover,\n",
       ".sk-estimator-doc-link.fitted:hover {\n",
       "  /* fitted */\n",
       "  background-color: var(--sklearn-color-fitted-level-3);\n",
       "  color: var(--sklearn-color-background);\n",
       "  text-decoration: none;\n",
       "}\n",
       "\n",
       "/* Span, style for the box shown on hovering the info icon */\n",
       ".sk-estimator-doc-link span {\n",
       "  display: none;\n",
       "  z-index: 9999;\n",
       "  position: relative;\n",
       "  font-weight: normal;\n",
       "  right: .2ex;\n",
       "  padding: .5ex;\n",
       "  margin: .5ex;\n",
       "  width: min-content;\n",
       "  min-width: 20ex;\n",
       "  max-width: 50ex;\n",
       "  color: var(--sklearn-color-text);\n",
       "  box-shadow: 2pt 2pt 4pt #999;\n",
       "  /* unfitted */\n",
       "  background: var(--sklearn-color-unfitted-level-0);\n",
       "  border: .5pt solid var(--sklearn-color-unfitted-level-3);\n",
       "}\n",
       "\n",
       ".sk-estimator-doc-link.fitted span {\n",
       "  /* fitted */\n",
       "  background: var(--sklearn-color-fitted-level-0);\n",
       "  border: var(--sklearn-color-fitted-level-3);\n",
       "}\n",
       "\n",
       ".sk-estimator-doc-link:hover span {\n",
       "  display: block;\n",
       "}\n",
       "\n",
       "/* \"?\"-specific style due to the `<a>` HTML tag */\n",
       "\n",
       "#sk-container-id-5 a.estimator_doc_link {\n",
       "  float: right;\n",
       "  font-size: 1rem;\n",
       "  line-height: 1em;\n",
       "  font-family: monospace;\n",
       "  background-color: var(--sklearn-color-background);\n",
       "  border-radius: 1rem;\n",
       "  height: 1rem;\n",
       "  width: 1rem;\n",
       "  text-decoration: none;\n",
       "  /* unfitted */\n",
       "  color: var(--sklearn-color-unfitted-level-1);\n",
       "  border: var(--sklearn-color-unfitted-level-1) 1pt solid;\n",
       "}\n",
       "\n",
       "#sk-container-id-5 a.estimator_doc_link.fitted {\n",
       "  /* fitted */\n",
       "  border: var(--sklearn-color-fitted-level-1) 1pt solid;\n",
       "  color: var(--sklearn-color-fitted-level-1);\n",
       "}\n",
       "\n",
       "/* On hover */\n",
       "#sk-container-id-5 a.estimator_doc_link:hover {\n",
       "  /* unfitted */\n",
       "  background-color: var(--sklearn-color-unfitted-level-3);\n",
       "  color: var(--sklearn-color-background);\n",
       "  text-decoration: none;\n",
       "}\n",
       "\n",
       "#sk-container-id-5 a.estimator_doc_link.fitted:hover {\n",
       "  /* fitted */\n",
       "  background-color: var(--sklearn-color-fitted-level-3);\n",
       "}\n",
       "</style><div id=\"sk-container-id-5\" class=\"sk-top-container\"><div class=\"sk-text-repr-fallback\"><pre>RandomForestClassifier(max_depth=10, n_estimators=500)</pre><b>In a Jupyter environment, please rerun this cell to show the HTML representation or trust the notebook. <br />On GitHub, the HTML representation is unable to render, please try loading this page with nbviewer.org.</b></div><div class=\"sk-container\" hidden><div class=\"sk-item\"><div class=\"sk-estimator fitted sk-toggleable\"><input class=\"sk-toggleable__control sk-hidden--visually\" id=\"sk-estimator-id-9\" type=\"checkbox\" checked><label for=\"sk-estimator-id-9\" class=\"sk-toggleable__label fitted sk-toggleable__label-arrow fitted\">&nbsp;&nbsp;RandomForestClassifier<a class=\"sk-estimator-doc-link fitted\" rel=\"noreferrer\" target=\"_blank\" href=\"https://scikit-learn.org/1.4/modules/generated/sklearn.ensemble.RandomForestClassifier.html\">?<span>Documentation for RandomForestClassifier</span></a><span class=\"sk-estimator-doc-link fitted\">i<span>Fitted</span></span></label><div class=\"sk-toggleable__content fitted\"><pre>RandomForestClassifier(max_depth=10, n_estimators=500)</pre></div> </div></div></div></div>"
      ],
      "text/plain": [
       "RandomForestClassifier(max_depth=10, n_estimators=500)"
      ]
     },
     "execution_count": 45,
     "metadata": {},
     "output_type": "execute_result"
    }
   ],
   "source": [
    "rfc = rfc_gridcv.best_estimator_\n",
    "rfc.fit(X_train, y_train)"
   ]
  },
  {
   "cell_type": "markdown",
   "metadata": {
    "id": "Gu2DIRkrX9i6"
   },
   "source": [
    "#### **Penjelasan Terkait Model (Additional Rubric)**"
   ]
  },
  {
   "cell_type": "markdown",
   "metadata": {
    "id": "pK4JL9aSX_CX"
   },
   "source": [
    "Random Forest Classifier bekerja dengan menggabungkan beberapa decision tree untuk memprediksi kelas suatu data. Setiap decision tree dilatih dengan mengambil sebagian dari dataset secara random dan mengambil sebagian fitur dari dataset. Penentuan prediksi kelas ditentukan berdasarkan prediksi kelas terbanyak dari prediksi semua decision tree.\n",
    "\n",
    "Kelebihan algoritma Random Forest adalah dapat mengurangi risiko overfitting karena keputusan prediksi diagregasi dari setiap decision tree dengan faktor pengambilan keputusan berdasarkan fitur-fitur dan data yang berbeda. Karakteristik ini juga menyebabkan algoritma Random Forest lebih tidak sensitif terhadap perubahan data.\n",
    "\n",
    "Sedangkan, kekurangan algoritma Random Forest adalah kurang interpretable karena struktur keseluruhan model yang lebih kompleks, dan memerlukan jumlah hyperparameter dengan jumlah yang relatif lebih banyak sehingga perlu dilakukan pemilihan hyperparameter secara hati-hati.\n",
    "\n",
    "Referensi :\n",
    "\n",
    "[DQLAB - Algoritma Decision Tree vs Random Forest Machine Learning](https://dqlab.id/algoritma-decision-tree-vs-random-forest-machine-learning#:~:text=Selanjutnya%2C%20Random%20Forest%20juga%20memiliki,keseluruhan%20model%20lebih%20sulit%20dipahami.)"
   ]
  },
  {
   "cell_type": "markdown",
   "metadata": {
    "id": "05pv3jnSQzxM"
   },
   "source": [
    "### **XGBoost**"
   ]
  },
  {
   "cell_type": "code",
   "execution_count": 46,
   "metadata": {
    "id": "gPTlvf2aQ4qH"
   },
   "outputs": [],
   "source": [
    "xgb = XGBClassifier()"
   ]
  },
  {
   "cell_type": "code",
   "execution_count": 47,
   "metadata": {
    "id": "x1TjP8cHS6zo"
   },
   "outputs": [],
   "source": [
    "xgb_params = {'n_estimators':[100, 200, 500, 1000],\n",
    "              'max_depth':[5, 10, 20],\n",
    "              'learning_rate':[1e-2, 1e-3, 5e-3]}\n",
    "xgb_gridsearch = GridSearchCV(xgb, xgb_params, cv=10, scoring='f1_weighted')"
   ]
  },
  {
   "cell_type": "markdown",
   "metadata": {
    "id": "rU7R-dI_ZTqY"
   },
   "source": [
    "Kombinasi hyperparameter yang dicoba adalah sebagai berikut.\n",
    "* n_estimators : Jumlah pohon iterasi.\n",
    "* max_depth : Kedalaman maksimum untuk setiap pohon.\n",
    "* learning_rate : Konstanta yang berfungsi sebagai faktor pengali untuk pengaruh dari prediksi weak model yang baru terhadap prediksi model secara keseluruhan."
   ]
  },
  {
   "cell_type": "code",
   "execution_count": 48,
   "metadata": {
    "colab": {
     "base_uri": "https://localhost:8080/",
     "height": 118
    },
    "id": "Pdm2i6EmZgDp",
    "outputId": "ae605165-06a6-4ac7-e56f-2a2ef29ab032"
   },
   "outputs": [
    {
     "data": {
      "text/html": [
       "<style>#sk-container-id-6 {\n",
       "  /* Definition of color scheme common for light and dark mode */\n",
       "  --sklearn-color-text: black;\n",
       "  --sklearn-color-line: gray;\n",
       "  /* Definition of color scheme for unfitted estimators */\n",
       "  --sklearn-color-unfitted-level-0: #fff5e6;\n",
       "  --sklearn-color-unfitted-level-1: #f6e4d2;\n",
       "  --sklearn-color-unfitted-level-2: #ffe0b3;\n",
       "  --sklearn-color-unfitted-level-3: chocolate;\n",
       "  /* Definition of color scheme for fitted estimators */\n",
       "  --sklearn-color-fitted-level-0: #f0f8ff;\n",
       "  --sklearn-color-fitted-level-1: #d4ebff;\n",
       "  --sklearn-color-fitted-level-2: #b3dbfd;\n",
       "  --sklearn-color-fitted-level-3: cornflowerblue;\n",
       "\n",
       "  /* Specific color for light theme */\n",
       "  --sklearn-color-text-on-default-background: var(--sg-text-color, var(--theme-code-foreground, var(--jp-content-font-color1, black)));\n",
       "  --sklearn-color-background: var(--sg-background-color, var(--theme-background, var(--jp-layout-color0, white)));\n",
       "  --sklearn-color-border-box: var(--sg-text-color, var(--theme-code-foreground, var(--jp-content-font-color1, black)));\n",
       "  --sklearn-color-icon: #696969;\n",
       "\n",
       "  @media (prefers-color-scheme: dark) {\n",
       "    /* Redefinition of color scheme for dark theme */\n",
       "    --sklearn-color-text-on-default-background: var(--sg-text-color, var(--theme-code-foreground, var(--jp-content-font-color1, white)));\n",
       "    --sklearn-color-background: var(--sg-background-color, var(--theme-background, var(--jp-layout-color0, #111)));\n",
       "    --sklearn-color-border-box: var(--sg-text-color, var(--theme-code-foreground, var(--jp-content-font-color1, white)));\n",
       "    --sklearn-color-icon: #878787;\n",
       "  }\n",
       "}\n",
       "\n",
       "#sk-container-id-6 {\n",
       "  color: var(--sklearn-color-text);\n",
       "}\n",
       "\n",
       "#sk-container-id-6 pre {\n",
       "  padding: 0;\n",
       "}\n",
       "\n",
       "#sk-container-id-6 input.sk-hidden--visually {\n",
       "  border: 0;\n",
       "  clip: rect(1px 1px 1px 1px);\n",
       "  clip: rect(1px, 1px, 1px, 1px);\n",
       "  height: 1px;\n",
       "  margin: -1px;\n",
       "  overflow: hidden;\n",
       "  padding: 0;\n",
       "  position: absolute;\n",
       "  width: 1px;\n",
       "}\n",
       "\n",
       "#sk-container-id-6 div.sk-dashed-wrapped {\n",
       "  border: 1px dashed var(--sklearn-color-line);\n",
       "  margin: 0 0.4em 0.5em 0.4em;\n",
       "  box-sizing: border-box;\n",
       "  padding-bottom: 0.4em;\n",
       "  background-color: var(--sklearn-color-background);\n",
       "}\n",
       "\n",
       "#sk-container-id-6 div.sk-container {\n",
       "  /* jupyter's `normalize.less` sets `[hidden] { display: none; }`\n",
       "     but bootstrap.min.css set `[hidden] { display: none !important; }`\n",
       "     so we also need the `!important` here to be able to override the\n",
       "     default hidden behavior on the sphinx rendered scikit-learn.org.\n",
       "     See: https://github.com/scikit-learn/scikit-learn/issues/21755 */\n",
       "  display: inline-block !important;\n",
       "  position: relative;\n",
       "}\n",
       "\n",
       "#sk-container-id-6 div.sk-text-repr-fallback {\n",
       "  display: none;\n",
       "}\n",
       "\n",
       "div.sk-parallel-item,\n",
       "div.sk-serial,\n",
       "div.sk-item {\n",
       "  /* draw centered vertical line to link estimators */\n",
       "  background-image: linear-gradient(var(--sklearn-color-text-on-default-background), var(--sklearn-color-text-on-default-background));\n",
       "  background-size: 2px 100%;\n",
       "  background-repeat: no-repeat;\n",
       "  background-position: center center;\n",
       "}\n",
       "\n",
       "/* Parallel-specific style estimator block */\n",
       "\n",
       "#sk-container-id-6 div.sk-parallel-item::after {\n",
       "  content: \"\";\n",
       "  width: 100%;\n",
       "  border-bottom: 2px solid var(--sklearn-color-text-on-default-background);\n",
       "  flex-grow: 1;\n",
       "}\n",
       "\n",
       "#sk-container-id-6 div.sk-parallel {\n",
       "  display: flex;\n",
       "  align-items: stretch;\n",
       "  justify-content: center;\n",
       "  background-color: var(--sklearn-color-background);\n",
       "  position: relative;\n",
       "}\n",
       "\n",
       "#sk-container-id-6 div.sk-parallel-item {\n",
       "  display: flex;\n",
       "  flex-direction: column;\n",
       "}\n",
       "\n",
       "#sk-container-id-6 div.sk-parallel-item:first-child::after {\n",
       "  align-self: flex-end;\n",
       "  width: 50%;\n",
       "}\n",
       "\n",
       "#sk-container-id-6 div.sk-parallel-item:last-child::after {\n",
       "  align-self: flex-start;\n",
       "  width: 50%;\n",
       "}\n",
       "\n",
       "#sk-container-id-6 div.sk-parallel-item:only-child::after {\n",
       "  width: 0;\n",
       "}\n",
       "\n",
       "/* Serial-specific style estimator block */\n",
       "\n",
       "#sk-container-id-6 div.sk-serial {\n",
       "  display: flex;\n",
       "  flex-direction: column;\n",
       "  align-items: center;\n",
       "  background-color: var(--sklearn-color-background);\n",
       "  padding-right: 1em;\n",
       "  padding-left: 1em;\n",
       "}\n",
       "\n",
       "\n",
       "/* Toggleable style: style used for estimator/Pipeline/ColumnTransformer box that is\n",
       "clickable and can be expanded/collapsed.\n",
       "- Pipeline and ColumnTransformer use this feature and define the default style\n",
       "- Estimators will overwrite some part of the style using the `sk-estimator` class\n",
       "*/\n",
       "\n",
       "/* Pipeline and ColumnTransformer style (default) */\n",
       "\n",
       "#sk-container-id-6 div.sk-toggleable {\n",
       "  /* Default theme specific background. It is overwritten whether we have a\n",
       "  specific estimator or a Pipeline/ColumnTransformer */\n",
       "  background-color: var(--sklearn-color-background);\n",
       "}\n",
       "\n",
       "/* Toggleable label */\n",
       "#sk-container-id-6 label.sk-toggleable__label {\n",
       "  cursor: pointer;\n",
       "  display: block;\n",
       "  width: 100%;\n",
       "  margin-bottom: 0;\n",
       "  padding: 0.5em;\n",
       "  box-sizing: border-box;\n",
       "  text-align: center;\n",
       "}\n",
       "\n",
       "#sk-container-id-6 label.sk-toggleable__label-arrow:before {\n",
       "  /* Arrow on the left of the label */\n",
       "  content: \"▸\";\n",
       "  float: left;\n",
       "  margin-right: 0.25em;\n",
       "  color: var(--sklearn-color-icon);\n",
       "}\n",
       "\n",
       "#sk-container-id-6 label.sk-toggleable__label-arrow:hover:before {\n",
       "  color: var(--sklearn-color-text);\n",
       "}\n",
       "\n",
       "/* Toggleable content - dropdown */\n",
       "\n",
       "#sk-container-id-6 div.sk-toggleable__content {\n",
       "  max-height: 0;\n",
       "  max-width: 0;\n",
       "  overflow: hidden;\n",
       "  text-align: left;\n",
       "  /* unfitted */\n",
       "  background-color: var(--sklearn-color-unfitted-level-0);\n",
       "}\n",
       "\n",
       "#sk-container-id-6 div.sk-toggleable__content.fitted {\n",
       "  /* fitted */\n",
       "  background-color: var(--sklearn-color-fitted-level-0);\n",
       "}\n",
       "\n",
       "#sk-container-id-6 div.sk-toggleable__content pre {\n",
       "  margin: 0.2em;\n",
       "  border-radius: 0.25em;\n",
       "  color: var(--sklearn-color-text);\n",
       "  /* unfitted */\n",
       "  background-color: var(--sklearn-color-unfitted-level-0);\n",
       "}\n",
       "\n",
       "#sk-container-id-6 div.sk-toggleable__content.fitted pre {\n",
       "  /* unfitted */\n",
       "  background-color: var(--sklearn-color-fitted-level-0);\n",
       "}\n",
       "\n",
       "#sk-container-id-6 input.sk-toggleable__control:checked~div.sk-toggleable__content {\n",
       "  /* Expand drop-down */\n",
       "  max-height: 200px;\n",
       "  max-width: 100%;\n",
       "  overflow: auto;\n",
       "}\n",
       "\n",
       "#sk-container-id-6 input.sk-toggleable__control:checked~label.sk-toggleable__label-arrow:before {\n",
       "  content: \"▾\";\n",
       "}\n",
       "\n",
       "/* Pipeline/ColumnTransformer-specific style */\n",
       "\n",
       "#sk-container-id-6 div.sk-label input.sk-toggleable__control:checked~label.sk-toggleable__label {\n",
       "  color: var(--sklearn-color-text);\n",
       "  background-color: var(--sklearn-color-unfitted-level-2);\n",
       "}\n",
       "\n",
       "#sk-container-id-6 div.sk-label.fitted input.sk-toggleable__control:checked~label.sk-toggleable__label {\n",
       "  background-color: var(--sklearn-color-fitted-level-2);\n",
       "}\n",
       "\n",
       "/* Estimator-specific style */\n",
       "\n",
       "/* Colorize estimator box */\n",
       "#sk-container-id-6 div.sk-estimator input.sk-toggleable__control:checked~label.sk-toggleable__label {\n",
       "  /* unfitted */\n",
       "  background-color: var(--sklearn-color-unfitted-level-2);\n",
       "}\n",
       "\n",
       "#sk-container-id-6 div.sk-estimator.fitted input.sk-toggleable__control:checked~label.sk-toggleable__label {\n",
       "  /* fitted */\n",
       "  background-color: var(--sklearn-color-fitted-level-2);\n",
       "}\n",
       "\n",
       "#sk-container-id-6 div.sk-label label.sk-toggleable__label,\n",
       "#sk-container-id-6 div.sk-label label {\n",
       "  /* The background is the default theme color */\n",
       "  color: var(--sklearn-color-text-on-default-background);\n",
       "}\n",
       "\n",
       "/* On hover, darken the color of the background */\n",
       "#sk-container-id-6 div.sk-label:hover label.sk-toggleable__label {\n",
       "  color: var(--sklearn-color-text);\n",
       "  background-color: var(--sklearn-color-unfitted-level-2);\n",
       "}\n",
       "\n",
       "/* Label box, darken color on hover, fitted */\n",
       "#sk-container-id-6 div.sk-label.fitted:hover label.sk-toggleable__label.fitted {\n",
       "  color: var(--sklearn-color-text);\n",
       "  background-color: var(--sklearn-color-fitted-level-2);\n",
       "}\n",
       "\n",
       "/* Estimator label */\n",
       "\n",
       "#sk-container-id-6 div.sk-label label {\n",
       "  font-family: monospace;\n",
       "  font-weight: bold;\n",
       "  display: inline-block;\n",
       "  line-height: 1.2em;\n",
       "}\n",
       "\n",
       "#sk-container-id-6 div.sk-label-container {\n",
       "  text-align: center;\n",
       "}\n",
       "\n",
       "/* Estimator-specific */\n",
       "#sk-container-id-6 div.sk-estimator {\n",
       "  font-family: monospace;\n",
       "  border: 1px dotted var(--sklearn-color-border-box);\n",
       "  border-radius: 0.25em;\n",
       "  box-sizing: border-box;\n",
       "  margin-bottom: 0.5em;\n",
       "  /* unfitted */\n",
       "  background-color: var(--sklearn-color-unfitted-level-0);\n",
       "}\n",
       "\n",
       "#sk-container-id-6 div.sk-estimator.fitted {\n",
       "  /* fitted */\n",
       "  background-color: var(--sklearn-color-fitted-level-0);\n",
       "}\n",
       "\n",
       "/* on hover */\n",
       "#sk-container-id-6 div.sk-estimator:hover {\n",
       "  /* unfitted */\n",
       "  background-color: var(--sklearn-color-unfitted-level-2);\n",
       "}\n",
       "\n",
       "#sk-container-id-6 div.sk-estimator.fitted:hover {\n",
       "  /* fitted */\n",
       "  background-color: var(--sklearn-color-fitted-level-2);\n",
       "}\n",
       "\n",
       "/* Specification for estimator info (e.g. \"i\" and \"?\") */\n",
       "\n",
       "/* Common style for \"i\" and \"?\" */\n",
       "\n",
       ".sk-estimator-doc-link,\n",
       "a:link.sk-estimator-doc-link,\n",
       "a:visited.sk-estimator-doc-link {\n",
       "  float: right;\n",
       "  font-size: smaller;\n",
       "  line-height: 1em;\n",
       "  font-family: monospace;\n",
       "  background-color: var(--sklearn-color-background);\n",
       "  border-radius: 1em;\n",
       "  height: 1em;\n",
       "  width: 1em;\n",
       "  text-decoration: none !important;\n",
       "  margin-left: 1ex;\n",
       "  /* unfitted */\n",
       "  border: var(--sklearn-color-unfitted-level-1) 1pt solid;\n",
       "  color: var(--sklearn-color-unfitted-level-1);\n",
       "}\n",
       "\n",
       ".sk-estimator-doc-link.fitted,\n",
       "a:link.sk-estimator-doc-link.fitted,\n",
       "a:visited.sk-estimator-doc-link.fitted {\n",
       "  /* fitted */\n",
       "  border: var(--sklearn-color-fitted-level-1) 1pt solid;\n",
       "  color: var(--sklearn-color-fitted-level-1);\n",
       "}\n",
       "\n",
       "/* On hover */\n",
       "div.sk-estimator:hover .sk-estimator-doc-link:hover,\n",
       ".sk-estimator-doc-link:hover,\n",
       "div.sk-label-container:hover .sk-estimator-doc-link:hover,\n",
       ".sk-estimator-doc-link:hover {\n",
       "  /* unfitted */\n",
       "  background-color: var(--sklearn-color-unfitted-level-3);\n",
       "  color: var(--sklearn-color-background);\n",
       "  text-decoration: none;\n",
       "}\n",
       "\n",
       "div.sk-estimator.fitted:hover .sk-estimator-doc-link.fitted:hover,\n",
       ".sk-estimator-doc-link.fitted:hover,\n",
       "div.sk-label-container:hover .sk-estimator-doc-link.fitted:hover,\n",
       ".sk-estimator-doc-link.fitted:hover {\n",
       "  /* fitted */\n",
       "  background-color: var(--sklearn-color-fitted-level-3);\n",
       "  color: var(--sklearn-color-background);\n",
       "  text-decoration: none;\n",
       "}\n",
       "\n",
       "/* Span, style for the box shown on hovering the info icon */\n",
       ".sk-estimator-doc-link span {\n",
       "  display: none;\n",
       "  z-index: 9999;\n",
       "  position: relative;\n",
       "  font-weight: normal;\n",
       "  right: .2ex;\n",
       "  padding: .5ex;\n",
       "  margin: .5ex;\n",
       "  width: min-content;\n",
       "  min-width: 20ex;\n",
       "  max-width: 50ex;\n",
       "  color: var(--sklearn-color-text);\n",
       "  box-shadow: 2pt 2pt 4pt #999;\n",
       "  /* unfitted */\n",
       "  background: var(--sklearn-color-unfitted-level-0);\n",
       "  border: .5pt solid var(--sklearn-color-unfitted-level-3);\n",
       "}\n",
       "\n",
       ".sk-estimator-doc-link.fitted span {\n",
       "  /* fitted */\n",
       "  background: var(--sklearn-color-fitted-level-0);\n",
       "  border: var(--sklearn-color-fitted-level-3);\n",
       "}\n",
       "\n",
       ".sk-estimator-doc-link:hover span {\n",
       "  display: block;\n",
       "}\n",
       "\n",
       "/* \"?\"-specific style due to the `<a>` HTML tag */\n",
       "\n",
       "#sk-container-id-6 a.estimator_doc_link {\n",
       "  float: right;\n",
       "  font-size: 1rem;\n",
       "  line-height: 1em;\n",
       "  font-family: monospace;\n",
       "  background-color: var(--sklearn-color-background);\n",
       "  border-radius: 1rem;\n",
       "  height: 1rem;\n",
       "  width: 1rem;\n",
       "  text-decoration: none;\n",
       "  /* unfitted */\n",
       "  color: var(--sklearn-color-unfitted-level-1);\n",
       "  border: var(--sklearn-color-unfitted-level-1) 1pt solid;\n",
       "}\n",
       "\n",
       "#sk-container-id-6 a.estimator_doc_link.fitted {\n",
       "  /* fitted */\n",
       "  border: var(--sklearn-color-fitted-level-1) 1pt solid;\n",
       "  color: var(--sklearn-color-fitted-level-1);\n",
       "}\n",
       "\n",
       "/* On hover */\n",
       "#sk-container-id-6 a.estimator_doc_link:hover {\n",
       "  /* unfitted */\n",
       "  background-color: var(--sklearn-color-unfitted-level-3);\n",
       "  color: var(--sklearn-color-background);\n",
       "  text-decoration: none;\n",
       "}\n",
       "\n",
       "#sk-container-id-6 a.estimator_doc_link.fitted:hover {\n",
       "  /* fitted */\n",
       "  background-color: var(--sklearn-color-fitted-level-3);\n",
       "}\n",
       "</style><div id=\"sk-container-id-6\" class=\"sk-top-container\"><div class=\"sk-text-repr-fallback\"><pre>GridSearchCV(cv=10,\n",
       "             estimator=XGBClassifier(base_score=None, booster=None,\n",
       "                                     callbacks=None, colsample_bylevel=None,\n",
       "                                     colsample_bynode=None,\n",
       "                                     colsample_bytree=None, device=None,\n",
       "                                     early_stopping_rounds=None,\n",
       "                                     enable_categorical=False, eval_metric=None,\n",
       "                                     feature_types=None, gamma=None,\n",
       "                                     grow_policy=None, importance_type=None,\n",
       "                                     interaction_constraints=None,\n",
       "                                     learning_rate=None...\n",
       "                                     max_cat_to_onehot=None,\n",
       "                                     max_delta_step=None, max_depth=None,\n",
       "                                     max_leaves=None, min_child_weight=None,\n",
       "                                     missing=nan, monotone_constraints=None,\n",
       "                                     multi_strategy=None, n_estimators=None,\n",
       "                                     n_jobs=None, num_parallel_tree=None,\n",
       "                                     random_state=None, ...),\n",
       "             param_grid={&#x27;learning_rate&#x27;: [0.01, 0.001, 0.005],\n",
       "                         &#x27;max_depth&#x27;: [5, 10, 20],\n",
       "                         &#x27;n_estimators&#x27;: [100, 200, 500, 1000]},\n",
       "             scoring=&#x27;f1_weighted&#x27;)</pre><b>In a Jupyter environment, please rerun this cell to show the HTML representation or trust the notebook. <br />On GitHub, the HTML representation is unable to render, please try loading this page with nbviewer.org.</b></div><div class=\"sk-container\" hidden><div class=\"sk-item sk-dashed-wrapped\"><div class=\"sk-label-container\"><div class=\"sk-label fitted sk-toggleable\"><input class=\"sk-toggleable__control sk-hidden--visually\" id=\"sk-estimator-id-10\" type=\"checkbox\" ><label for=\"sk-estimator-id-10\" class=\"sk-toggleable__label fitted sk-toggleable__label-arrow fitted\">&nbsp;&nbsp;GridSearchCV<a class=\"sk-estimator-doc-link fitted\" rel=\"noreferrer\" target=\"_blank\" href=\"https://scikit-learn.org/1.4/modules/generated/sklearn.model_selection.GridSearchCV.html\">?<span>Documentation for GridSearchCV</span></a><span class=\"sk-estimator-doc-link fitted\">i<span>Fitted</span></span></label><div class=\"sk-toggleable__content fitted\"><pre>GridSearchCV(cv=10,\n",
       "             estimator=XGBClassifier(base_score=None, booster=None,\n",
       "                                     callbacks=None, colsample_bylevel=None,\n",
       "                                     colsample_bynode=None,\n",
       "                                     colsample_bytree=None, device=None,\n",
       "                                     early_stopping_rounds=None,\n",
       "                                     enable_categorical=False, eval_metric=None,\n",
       "                                     feature_types=None, gamma=None,\n",
       "                                     grow_policy=None, importance_type=None,\n",
       "                                     interaction_constraints=None,\n",
       "                                     learning_rate=None...\n",
       "                                     max_cat_to_onehot=None,\n",
       "                                     max_delta_step=None, max_depth=None,\n",
       "                                     max_leaves=None, min_child_weight=None,\n",
       "                                     missing=nan, monotone_constraints=None,\n",
       "                                     multi_strategy=None, n_estimators=None,\n",
       "                                     n_jobs=None, num_parallel_tree=None,\n",
       "                                     random_state=None, ...),\n",
       "             param_grid={&#x27;learning_rate&#x27;: [0.01, 0.001, 0.005],\n",
       "                         &#x27;max_depth&#x27;: [5, 10, 20],\n",
       "                         &#x27;n_estimators&#x27;: [100, 200, 500, 1000]},\n",
       "             scoring=&#x27;f1_weighted&#x27;)</pre></div> </div></div><div class=\"sk-parallel\"><div class=\"sk-parallel-item\"><div class=\"sk-item\"><div class=\"sk-label-container\"><div class=\"sk-label fitted sk-toggleable\"><input class=\"sk-toggleable__control sk-hidden--visually\" id=\"sk-estimator-id-11\" type=\"checkbox\" ><label for=\"sk-estimator-id-11\" class=\"sk-toggleable__label fitted sk-toggleable__label-arrow fitted\">estimator: XGBClassifier</label><div class=\"sk-toggleable__content fitted\"><pre>XGBClassifier(base_score=None, booster=None, callbacks=None,\n",
       "              colsample_bylevel=None, colsample_bynode=None,\n",
       "              colsample_bytree=None, device=None, early_stopping_rounds=None,\n",
       "              enable_categorical=False, eval_metric=None, feature_types=None,\n",
       "              gamma=None, grow_policy=None, importance_type=None,\n",
       "              interaction_constraints=None, learning_rate=None, max_bin=None,\n",
       "              max_cat_threshold=None, max_cat_to_onehot=None,\n",
       "              max_delta_step=None, max_depth=None, max_leaves=None,\n",
       "              min_child_weight=None, missing=nan, monotone_constraints=None,\n",
       "              multi_strategy=None, n_estimators=None, n_jobs=None,\n",
       "              num_parallel_tree=None, random_state=None, ...)</pre></div> </div></div><div class=\"sk-serial\"><div class=\"sk-item\"><div class=\"sk-estimator fitted sk-toggleable\"><input class=\"sk-toggleable__control sk-hidden--visually\" id=\"sk-estimator-id-12\" type=\"checkbox\" ><label for=\"sk-estimator-id-12\" class=\"sk-toggleable__label fitted sk-toggleable__label-arrow fitted\">XGBClassifier</label><div class=\"sk-toggleable__content fitted\"><pre>XGBClassifier(base_score=None, booster=None, callbacks=None,\n",
       "              colsample_bylevel=None, colsample_bynode=None,\n",
       "              colsample_bytree=None, device=None, early_stopping_rounds=None,\n",
       "              enable_categorical=False, eval_metric=None, feature_types=None,\n",
       "              gamma=None, grow_policy=None, importance_type=None,\n",
       "              interaction_constraints=None, learning_rate=None, max_bin=None,\n",
       "              max_cat_threshold=None, max_cat_to_onehot=None,\n",
       "              max_delta_step=None, max_depth=None, max_leaves=None,\n",
       "              min_child_weight=None, missing=nan, monotone_constraints=None,\n",
       "              multi_strategy=None, n_estimators=None, n_jobs=None,\n",
       "              num_parallel_tree=None, random_state=None, ...)</pre></div> </div></div></div></div></div></div></div></div></div>"
      ],
      "text/plain": [
       "GridSearchCV(cv=10,\n",
       "             estimator=XGBClassifier(base_score=None, booster=None,\n",
       "                                     callbacks=None, colsample_bylevel=None,\n",
       "                                     colsample_bynode=None,\n",
       "                                     colsample_bytree=None, device=None,\n",
       "                                     early_stopping_rounds=None,\n",
       "                                     enable_categorical=False, eval_metric=None,\n",
       "                                     feature_types=None, gamma=None,\n",
       "                                     grow_policy=None, importance_type=None,\n",
       "                                     interaction_constraints=None,\n",
       "                                     learning_rate=None...\n",
       "                                     max_cat_to_onehot=None,\n",
       "                                     max_delta_step=None, max_depth=None,\n",
       "                                     max_leaves=None, min_child_weight=None,\n",
       "                                     missing=nan, monotone_constraints=None,\n",
       "                                     multi_strategy=None, n_estimators=None,\n",
       "                                     n_jobs=None, num_parallel_tree=None,\n",
       "                                     random_state=None, ...),\n",
       "             param_grid={'learning_rate': [0.01, 0.001, 0.005],\n",
       "                         'max_depth': [5, 10, 20],\n",
       "                         'n_estimators': [100, 200, 500, 1000]},\n",
       "             scoring='f1_weighted')"
      ]
     },
     "execution_count": 48,
     "metadata": {},
     "output_type": "execute_result"
    }
   ],
   "source": [
    "xgb_gridsearch.fit(X_train, y_train)"
   ]
  },
  {
   "cell_type": "code",
   "execution_count": 49,
   "metadata": {
    "colab": {
     "base_uri": "https://localhost:8080/"
    },
    "id": "hbtN5VzVMdQ0",
    "outputId": "25ecf4dc-15fc-49e3-96d9-30d1b98b9842"
   },
   "outputs": [
    {
     "name": "stdout",
     "output_type": "stream",
     "text": [
      "Best Params : {'learning_rate': 0.01, 'max_depth': 5, 'n_estimators': 1000}\n",
      "Best Score : 0.7612765246851484\n"
     ]
    }
   ],
   "source": [
    "print(f\"Best Params : {xgb_gridsearch.best_params_}\")\n",
    "print(f\"Best Score : {xgb_gridsearch.best_score_}\")"
   ]
  },
  {
   "cell_type": "code",
   "execution_count": 50,
   "metadata": {
    "colab": {
     "base_uri": "https://localhost:8080/",
     "height": 248
    },
    "id": "fx5HLyxJpThV",
    "outputId": "37434d84-1339-4c16-a2cb-3b8a53fec8e0"
   },
   "outputs": [
    {
     "data": {
      "text/html": [
       "<style>#sk-container-id-7 {\n",
       "  /* Definition of color scheme common for light and dark mode */\n",
       "  --sklearn-color-text: black;\n",
       "  --sklearn-color-line: gray;\n",
       "  /* Definition of color scheme for unfitted estimators */\n",
       "  --sklearn-color-unfitted-level-0: #fff5e6;\n",
       "  --sklearn-color-unfitted-level-1: #f6e4d2;\n",
       "  --sklearn-color-unfitted-level-2: #ffe0b3;\n",
       "  --sklearn-color-unfitted-level-3: chocolate;\n",
       "  /* Definition of color scheme for fitted estimators */\n",
       "  --sklearn-color-fitted-level-0: #f0f8ff;\n",
       "  --sklearn-color-fitted-level-1: #d4ebff;\n",
       "  --sklearn-color-fitted-level-2: #b3dbfd;\n",
       "  --sklearn-color-fitted-level-3: cornflowerblue;\n",
       "\n",
       "  /* Specific color for light theme */\n",
       "  --sklearn-color-text-on-default-background: var(--sg-text-color, var(--theme-code-foreground, var(--jp-content-font-color1, black)));\n",
       "  --sklearn-color-background: var(--sg-background-color, var(--theme-background, var(--jp-layout-color0, white)));\n",
       "  --sklearn-color-border-box: var(--sg-text-color, var(--theme-code-foreground, var(--jp-content-font-color1, black)));\n",
       "  --sklearn-color-icon: #696969;\n",
       "\n",
       "  @media (prefers-color-scheme: dark) {\n",
       "    /* Redefinition of color scheme for dark theme */\n",
       "    --sklearn-color-text-on-default-background: var(--sg-text-color, var(--theme-code-foreground, var(--jp-content-font-color1, white)));\n",
       "    --sklearn-color-background: var(--sg-background-color, var(--theme-background, var(--jp-layout-color0, #111)));\n",
       "    --sklearn-color-border-box: var(--sg-text-color, var(--theme-code-foreground, var(--jp-content-font-color1, white)));\n",
       "    --sklearn-color-icon: #878787;\n",
       "  }\n",
       "}\n",
       "\n",
       "#sk-container-id-7 {\n",
       "  color: var(--sklearn-color-text);\n",
       "}\n",
       "\n",
       "#sk-container-id-7 pre {\n",
       "  padding: 0;\n",
       "}\n",
       "\n",
       "#sk-container-id-7 input.sk-hidden--visually {\n",
       "  border: 0;\n",
       "  clip: rect(1px 1px 1px 1px);\n",
       "  clip: rect(1px, 1px, 1px, 1px);\n",
       "  height: 1px;\n",
       "  margin: -1px;\n",
       "  overflow: hidden;\n",
       "  padding: 0;\n",
       "  position: absolute;\n",
       "  width: 1px;\n",
       "}\n",
       "\n",
       "#sk-container-id-7 div.sk-dashed-wrapped {\n",
       "  border: 1px dashed var(--sklearn-color-line);\n",
       "  margin: 0 0.4em 0.5em 0.4em;\n",
       "  box-sizing: border-box;\n",
       "  padding-bottom: 0.4em;\n",
       "  background-color: var(--sklearn-color-background);\n",
       "}\n",
       "\n",
       "#sk-container-id-7 div.sk-container {\n",
       "  /* jupyter's `normalize.less` sets `[hidden] { display: none; }`\n",
       "     but bootstrap.min.css set `[hidden] { display: none !important; }`\n",
       "     so we also need the `!important` here to be able to override the\n",
       "     default hidden behavior on the sphinx rendered scikit-learn.org.\n",
       "     See: https://github.com/scikit-learn/scikit-learn/issues/21755 */\n",
       "  display: inline-block !important;\n",
       "  position: relative;\n",
       "}\n",
       "\n",
       "#sk-container-id-7 div.sk-text-repr-fallback {\n",
       "  display: none;\n",
       "}\n",
       "\n",
       "div.sk-parallel-item,\n",
       "div.sk-serial,\n",
       "div.sk-item {\n",
       "  /* draw centered vertical line to link estimators */\n",
       "  background-image: linear-gradient(var(--sklearn-color-text-on-default-background), var(--sklearn-color-text-on-default-background));\n",
       "  background-size: 2px 100%;\n",
       "  background-repeat: no-repeat;\n",
       "  background-position: center center;\n",
       "}\n",
       "\n",
       "/* Parallel-specific style estimator block */\n",
       "\n",
       "#sk-container-id-7 div.sk-parallel-item::after {\n",
       "  content: \"\";\n",
       "  width: 100%;\n",
       "  border-bottom: 2px solid var(--sklearn-color-text-on-default-background);\n",
       "  flex-grow: 1;\n",
       "}\n",
       "\n",
       "#sk-container-id-7 div.sk-parallel {\n",
       "  display: flex;\n",
       "  align-items: stretch;\n",
       "  justify-content: center;\n",
       "  background-color: var(--sklearn-color-background);\n",
       "  position: relative;\n",
       "}\n",
       "\n",
       "#sk-container-id-7 div.sk-parallel-item {\n",
       "  display: flex;\n",
       "  flex-direction: column;\n",
       "}\n",
       "\n",
       "#sk-container-id-7 div.sk-parallel-item:first-child::after {\n",
       "  align-self: flex-end;\n",
       "  width: 50%;\n",
       "}\n",
       "\n",
       "#sk-container-id-7 div.sk-parallel-item:last-child::after {\n",
       "  align-self: flex-start;\n",
       "  width: 50%;\n",
       "}\n",
       "\n",
       "#sk-container-id-7 div.sk-parallel-item:only-child::after {\n",
       "  width: 0;\n",
       "}\n",
       "\n",
       "/* Serial-specific style estimator block */\n",
       "\n",
       "#sk-container-id-7 div.sk-serial {\n",
       "  display: flex;\n",
       "  flex-direction: column;\n",
       "  align-items: center;\n",
       "  background-color: var(--sklearn-color-background);\n",
       "  padding-right: 1em;\n",
       "  padding-left: 1em;\n",
       "}\n",
       "\n",
       "\n",
       "/* Toggleable style: style used for estimator/Pipeline/ColumnTransformer box that is\n",
       "clickable and can be expanded/collapsed.\n",
       "- Pipeline and ColumnTransformer use this feature and define the default style\n",
       "- Estimators will overwrite some part of the style using the `sk-estimator` class\n",
       "*/\n",
       "\n",
       "/* Pipeline and ColumnTransformer style (default) */\n",
       "\n",
       "#sk-container-id-7 div.sk-toggleable {\n",
       "  /* Default theme specific background. It is overwritten whether we have a\n",
       "  specific estimator or a Pipeline/ColumnTransformer */\n",
       "  background-color: var(--sklearn-color-background);\n",
       "}\n",
       "\n",
       "/* Toggleable label */\n",
       "#sk-container-id-7 label.sk-toggleable__label {\n",
       "  cursor: pointer;\n",
       "  display: block;\n",
       "  width: 100%;\n",
       "  margin-bottom: 0;\n",
       "  padding: 0.5em;\n",
       "  box-sizing: border-box;\n",
       "  text-align: center;\n",
       "}\n",
       "\n",
       "#sk-container-id-7 label.sk-toggleable__label-arrow:before {\n",
       "  /* Arrow on the left of the label */\n",
       "  content: \"▸\";\n",
       "  float: left;\n",
       "  margin-right: 0.25em;\n",
       "  color: var(--sklearn-color-icon);\n",
       "}\n",
       "\n",
       "#sk-container-id-7 label.sk-toggleable__label-arrow:hover:before {\n",
       "  color: var(--sklearn-color-text);\n",
       "}\n",
       "\n",
       "/* Toggleable content - dropdown */\n",
       "\n",
       "#sk-container-id-7 div.sk-toggleable__content {\n",
       "  max-height: 0;\n",
       "  max-width: 0;\n",
       "  overflow: hidden;\n",
       "  text-align: left;\n",
       "  /* unfitted */\n",
       "  background-color: var(--sklearn-color-unfitted-level-0);\n",
       "}\n",
       "\n",
       "#sk-container-id-7 div.sk-toggleable__content.fitted {\n",
       "  /* fitted */\n",
       "  background-color: var(--sklearn-color-fitted-level-0);\n",
       "}\n",
       "\n",
       "#sk-container-id-7 div.sk-toggleable__content pre {\n",
       "  margin: 0.2em;\n",
       "  border-radius: 0.25em;\n",
       "  color: var(--sklearn-color-text);\n",
       "  /* unfitted */\n",
       "  background-color: var(--sklearn-color-unfitted-level-0);\n",
       "}\n",
       "\n",
       "#sk-container-id-7 div.sk-toggleable__content.fitted pre {\n",
       "  /* unfitted */\n",
       "  background-color: var(--sklearn-color-fitted-level-0);\n",
       "}\n",
       "\n",
       "#sk-container-id-7 input.sk-toggleable__control:checked~div.sk-toggleable__content {\n",
       "  /* Expand drop-down */\n",
       "  max-height: 200px;\n",
       "  max-width: 100%;\n",
       "  overflow: auto;\n",
       "}\n",
       "\n",
       "#sk-container-id-7 input.sk-toggleable__control:checked~label.sk-toggleable__label-arrow:before {\n",
       "  content: \"▾\";\n",
       "}\n",
       "\n",
       "/* Pipeline/ColumnTransformer-specific style */\n",
       "\n",
       "#sk-container-id-7 div.sk-label input.sk-toggleable__control:checked~label.sk-toggleable__label {\n",
       "  color: var(--sklearn-color-text);\n",
       "  background-color: var(--sklearn-color-unfitted-level-2);\n",
       "}\n",
       "\n",
       "#sk-container-id-7 div.sk-label.fitted input.sk-toggleable__control:checked~label.sk-toggleable__label {\n",
       "  background-color: var(--sklearn-color-fitted-level-2);\n",
       "}\n",
       "\n",
       "/* Estimator-specific style */\n",
       "\n",
       "/* Colorize estimator box */\n",
       "#sk-container-id-7 div.sk-estimator input.sk-toggleable__control:checked~label.sk-toggleable__label {\n",
       "  /* unfitted */\n",
       "  background-color: var(--sklearn-color-unfitted-level-2);\n",
       "}\n",
       "\n",
       "#sk-container-id-7 div.sk-estimator.fitted input.sk-toggleable__control:checked~label.sk-toggleable__label {\n",
       "  /* fitted */\n",
       "  background-color: var(--sklearn-color-fitted-level-2);\n",
       "}\n",
       "\n",
       "#sk-container-id-7 div.sk-label label.sk-toggleable__label,\n",
       "#sk-container-id-7 div.sk-label label {\n",
       "  /* The background is the default theme color */\n",
       "  color: var(--sklearn-color-text-on-default-background);\n",
       "}\n",
       "\n",
       "/* On hover, darken the color of the background */\n",
       "#sk-container-id-7 div.sk-label:hover label.sk-toggleable__label {\n",
       "  color: var(--sklearn-color-text);\n",
       "  background-color: var(--sklearn-color-unfitted-level-2);\n",
       "}\n",
       "\n",
       "/* Label box, darken color on hover, fitted */\n",
       "#sk-container-id-7 div.sk-label.fitted:hover label.sk-toggleable__label.fitted {\n",
       "  color: var(--sklearn-color-text);\n",
       "  background-color: var(--sklearn-color-fitted-level-2);\n",
       "}\n",
       "\n",
       "/* Estimator label */\n",
       "\n",
       "#sk-container-id-7 div.sk-label label {\n",
       "  font-family: monospace;\n",
       "  font-weight: bold;\n",
       "  display: inline-block;\n",
       "  line-height: 1.2em;\n",
       "}\n",
       "\n",
       "#sk-container-id-7 div.sk-label-container {\n",
       "  text-align: center;\n",
       "}\n",
       "\n",
       "/* Estimator-specific */\n",
       "#sk-container-id-7 div.sk-estimator {\n",
       "  font-family: monospace;\n",
       "  border: 1px dotted var(--sklearn-color-border-box);\n",
       "  border-radius: 0.25em;\n",
       "  box-sizing: border-box;\n",
       "  margin-bottom: 0.5em;\n",
       "  /* unfitted */\n",
       "  background-color: var(--sklearn-color-unfitted-level-0);\n",
       "}\n",
       "\n",
       "#sk-container-id-7 div.sk-estimator.fitted {\n",
       "  /* fitted */\n",
       "  background-color: var(--sklearn-color-fitted-level-0);\n",
       "}\n",
       "\n",
       "/* on hover */\n",
       "#sk-container-id-7 div.sk-estimator:hover {\n",
       "  /* unfitted */\n",
       "  background-color: var(--sklearn-color-unfitted-level-2);\n",
       "}\n",
       "\n",
       "#sk-container-id-7 div.sk-estimator.fitted:hover {\n",
       "  /* fitted */\n",
       "  background-color: var(--sklearn-color-fitted-level-2);\n",
       "}\n",
       "\n",
       "/* Specification for estimator info (e.g. \"i\" and \"?\") */\n",
       "\n",
       "/* Common style for \"i\" and \"?\" */\n",
       "\n",
       ".sk-estimator-doc-link,\n",
       "a:link.sk-estimator-doc-link,\n",
       "a:visited.sk-estimator-doc-link {\n",
       "  float: right;\n",
       "  font-size: smaller;\n",
       "  line-height: 1em;\n",
       "  font-family: monospace;\n",
       "  background-color: var(--sklearn-color-background);\n",
       "  border-radius: 1em;\n",
       "  height: 1em;\n",
       "  width: 1em;\n",
       "  text-decoration: none !important;\n",
       "  margin-left: 1ex;\n",
       "  /* unfitted */\n",
       "  border: var(--sklearn-color-unfitted-level-1) 1pt solid;\n",
       "  color: var(--sklearn-color-unfitted-level-1);\n",
       "}\n",
       "\n",
       ".sk-estimator-doc-link.fitted,\n",
       "a:link.sk-estimator-doc-link.fitted,\n",
       "a:visited.sk-estimator-doc-link.fitted {\n",
       "  /* fitted */\n",
       "  border: var(--sklearn-color-fitted-level-1) 1pt solid;\n",
       "  color: var(--sklearn-color-fitted-level-1);\n",
       "}\n",
       "\n",
       "/* On hover */\n",
       "div.sk-estimator:hover .sk-estimator-doc-link:hover,\n",
       ".sk-estimator-doc-link:hover,\n",
       "div.sk-label-container:hover .sk-estimator-doc-link:hover,\n",
       ".sk-estimator-doc-link:hover {\n",
       "  /* unfitted */\n",
       "  background-color: var(--sklearn-color-unfitted-level-3);\n",
       "  color: var(--sklearn-color-background);\n",
       "  text-decoration: none;\n",
       "}\n",
       "\n",
       "div.sk-estimator.fitted:hover .sk-estimator-doc-link.fitted:hover,\n",
       ".sk-estimator-doc-link.fitted:hover,\n",
       "div.sk-label-container:hover .sk-estimator-doc-link.fitted:hover,\n",
       ".sk-estimator-doc-link.fitted:hover {\n",
       "  /* fitted */\n",
       "  background-color: var(--sklearn-color-fitted-level-3);\n",
       "  color: var(--sklearn-color-background);\n",
       "  text-decoration: none;\n",
       "}\n",
       "\n",
       "/* Span, style for the box shown on hovering the info icon */\n",
       ".sk-estimator-doc-link span {\n",
       "  display: none;\n",
       "  z-index: 9999;\n",
       "  position: relative;\n",
       "  font-weight: normal;\n",
       "  right: .2ex;\n",
       "  padding: .5ex;\n",
       "  margin: .5ex;\n",
       "  width: min-content;\n",
       "  min-width: 20ex;\n",
       "  max-width: 50ex;\n",
       "  color: var(--sklearn-color-text);\n",
       "  box-shadow: 2pt 2pt 4pt #999;\n",
       "  /* unfitted */\n",
       "  background: var(--sklearn-color-unfitted-level-0);\n",
       "  border: .5pt solid var(--sklearn-color-unfitted-level-3);\n",
       "}\n",
       "\n",
       ".sk-estimator-doc-link.fitted span {\n",
       "  /* fitted */\n",
       "  background: var(--sklearn-color-fitted-level-0);\n",
       "  border: var(--sklearn-color-fitted-level-3);\n",
       "}\n",
       "\n",
       ".sk-estimator-doc-link:hover span {\n",
       "  display: block;\n",
       "}\n",
       "\n",
       "/* \"?\"-specific style due to the `<a>` HTML tag */\n",
       "\n",
       "#sk-container-id-7 a.estimator_doc_link {\n",
       "  float: right;\n",
       "  font-size: 1rem;\n",
       "  line-height: 1em;\n",
       "  font-family: monospace;\n",
       "  background-color: var(--sklearn-color-background);\n",
       "  border-radius: 1rem;\n",
       "  height: 1rem;\n",
       "  width: 1rem;\n",
       "  text-decoration: none;\n",
       "  /* unfitted */\n",
       "  color: var(--sklearn-color-unfitted-level-1);\n",
       "  border: var(--sklearn-color-unfitted-level-1) 1pt solid;\n",
       "}\n",
       "\n",
       "#sk-container-id-7 a.estimator_doc_link.fitted {\n",
       "  /* fitted */\n",
       "  border: var(--sklearn-color-fitted-level-1) 1pt solid;\n",
       "  color: var(--sklearn-color-fitted-level-1);\n",
       "}\n",
       "\n",
       "/* On hover */\n",
       "#sk-container-id-7 a.estimator_doc_link:hover {\n",
       "  /* unfitted */\n",
       "  background-color: var(--sklearn-color-unfitted-level-3);\n",
       "  color: var(--sklearn-color-background);\n",
       "  text-decoration: none;\n",
       "}\n",
       "\n",
       "#sk-container-id-7 a.estimator_doc_link.fitted:hover {\n",
       "  /* fitted */\n",
       "  background-color: var(--sklearn-color-fitted-level-3);\n",
       "}\n",
       "</style><div id=\"sk-container-id-7\" class=\"sk-top-container\"><div class=\"sk-text-repr-fallback\"><pre>XGBClassifier(base_score=None, booster=None, callbacks=None,\n",
       "              colsample_bylevel=None, colsample_bynode=None,\n",
       "              colsample_bytree=None, device=None, early_stopping_rounds=None,\n",
       "              enable_categorical=False, eval_metric=None, feature_types=None,\n",
       "              gamma=None, grow_policy=None, importance_type=None,\n",
       "              interaction_constraints=None, learning_rate=0.01, max_bin=None,\n",
       "              max_cat_threshold=None, max_cat_to_onehot=None,\n",
       "              max_delta_step=None, max_depth=5, max_leaves=None,\n",
       "              min_child_weight=None, missing=nan, monotone_constraints=None,\n",
       "              multi_strategy=None, n_estimators=1000, n_jobs=None,\n",
       "              num_parallel_tree=None, objective=&#x27;multi:softprob&#x27;, ...)</pre><b>In a Jupyter environment, please rerun this cell to show the HTML representation or trust the notebook. <br />On GitHub, the HTML representation is unable to render, please try loading this page with nbviewer.org.</b></div><div class=\"sk-container\" hidden><div class=\"sk-item\"><div class=\"sk-estimator fitted sk-toggleable\"><input class=\"sk-toggleable__control sk-hidden--visually\" id=\"sk-estimator-id-13\" type=\"checkbox\" checked><label for=\"sk-estimator-id-13\" class=\"sk-toggleable__label fitted sk-toggleable__label-arrow fitted\">&nbsp;XGBClassifier<span class=\"sk-estimator-doc-link fitted\">i<span>Fitted</span></span></label><div class=\"sk-toggleable__content fitted\"><pre>XGBClassifier(base_score=None, booster=None, callbacks=None,\n",
       "              colsample_bylevel=None, colsample_bynode=None,\n",
       "              colsample_bytree=None, device=None, early_stopping_rounds=None,\n",
       "              enable_categorical=False, eval_metric=None, feature_types=None,\n",
       "              gamma=None, grow_policy=None, importance_type=None,\n",
       "              interaction_constraints=None, learning_rate=0.01, max_bin=None,\n",
       "              max_cat_threshold=None, max_cat_to_onehot=None,\n",
       "              max_delta_step=None, max_depth=5, max_leaves=None,\n",
       "              min_child_weight=None, missing=nan, monotone_constraints=None,\n",
       "              multi_strategy=None, n_estimators=1000, n_jobs=None,\n",
       "              num_parallel_tree=None, objective=&#x27;multi:softprob&#x27;, ...)</pre></div> </div></div></div></div>"
      ],
      "text/plain": [
       "XGBClassifier(base_score=None, booster=None, callbacks=None,\n",
       "              colsample_bylevel=None, colsample_bynode=None,\n",
       "              colsample_bytree=None, device=None, early_stopping_rounds=None,\n",
       "              enable_categorical=False, eval_metric=None, feature_types=None,\n",
       "              gamma=None, grow_policy=None, importance_type=None,\n",
       "              interaction_constraints=None, learning_rate=0.01, max_bin=None,\n",
       "              max_cat_threshold=None, max_cat_to_onehot=None,\n",
       "              max_delta_step=None, max_depth=5, max_leaves=None,\n",
       "              min_child_weight=None, missing=nan, monotone_constraints=None,\n",
       "              multi_strategy=None, n_estimators=1000, n_jobs=None,\n",
       "              num_parallel_tree=None, objective='multi:softprob', ...)"
      ]
     },
     "execution_count": 50,
     "metadata": {},
     "output_type": "execute_result"
    }
   ],
   "source": [
    "xgb = xgb_gridsearch.best_estimator_\n",
    "xgb.fit(X_train, y_train)"
   ]
  },
  {
   "cell_type": "markdown",
   "metadata": {
    "id": "zy_0vvbk-kgk"
   },
   "source": [
    "#### **Penjelasan Terkait Model (Additional Rubric)**"
   ]
  },
  {
   "cell_type": "markdown",
   "metadata": {
    "id": "tTUWnJCf-lD9"
   },
   "source": [
    "Algoritma XGBoost bekerja dengan melatih sebuah weak model (biasanya decision tree), kemudian membuat weak model lainnya untuk memperbaiki hasil prediksi weak model sebelumnya. Hal ini dilakukan dengan iterasi tertentu, sehingga hasil prediksi dari weak model terakhir dipengaruhi oleh hasil prediksi weak model sebelumnya.\n",
    "\n",
    "Kelebihan dari algoritma XGBoost adalah performa yang tinggi dengan menerapkan algoritma boosting dan mengoptimalkan prediksi dengan gradien pada fungsi objektif. Selain itu, algoritma ini dapat diterapkan pada dataset berukuran besar.\n",
    "\n",
    "Kekurangan dari algoritma XGBoost adalah jumlah hyperparameter yang banyak dan perlu disesuaikan, sehingga memerlukan waktu dan keahlian untuk menemukan hyperparameter yang optimal. Selain itu, algoritma XGBoost memakan biaya komputasi yang mahal.\n",
    "\n",
    "Referensi :\n",
    "\n",
    "[DQLAB - Tools Data Science dengan Algoritma XGBoost](https://dqlab.id/tools-data-science-dengan-algoritma-xgboost)\n",
    "\n",
    "[GeeksforGeeks - XGBoost](https://www.geeksforgeeks.org/xgboost/#)"
   ]
  },
  {
   "cell_type": "markdown",
   "metadata": {
    "id": "zWlJi39LJ6Lm"
   },
   "source": [
    "### **Artificial Neural Network**"
   ]
  },
  {
   "cell_type": "markdown",
   "metadata": {
    "id": "9Puhc4lk25Kv"
   },
   "source": [
    "Model Neural Network yang akan dibuat memiliki 1 dan 2 Dense Layer. Dense Layer adalah Layer pada neural network yang semua neuronnya terhubung dengan neuron-neuron pada layer sebelumnya dan layer setelahnya. Kemudian, layer Dropout merupakan layer yang menonaktifkan sebagian neuron secara acak setiap pemrosesan batch. Penggunaan dropout dapat mencegah overfitting.\n",
    "Layer terakhir adalah output dari prediksi model, yaitu probabilitas untuk setiap kelas. Probabilitas tertinggi merupakan prediksi yang dihasilkan model.\n",
    "\n",
    "Model dilatih dengan optimizer Adam dengan learning rate 0.001, fungsi loss Sparse Categorical Crossentropy, dan metrik akurasi."
   ]
  },
  {
   "cell_type": "markdown",
   "metadata": {
    "id": "XMCRAu1_bSRI"
   },
   "source": [
    "#### **a Fully Connected Layer**"
   ]
  },
  {
   "cell_type": "code",
   "execution_count": 52,
   "metadata": {
    "id": "5NqVPvx4bSRq"
   },
   "outputs": [],
   "source": [
    "nn0 = tf.keras.models.Sequential([\n",
    "  tf.keras.Input(shape=(len(X_train.columns),)),\n",
    "  tf.keras.layers.Dense(128, activation='relu'),\n",
    "  tf.keras.layers.Dropout(0.2),\n",
    "  tf.keras.layers.Dense(5, activation='softmax')\n",
    "])"
   ]
  },
  {
   "cell_type": "code",
   "execution_count": 53,
   "metadata": {
    "colab": {
     "base_uri": "https://localhost:8080/",
     "height": 238
    },
    "id": "4gKUFF1zbSRr",
    "outputId": "52ec10bd-fcd4-444e-d6cf-91f672d9b9f1"
   },
   "outputs": [
    {
     "name": "stdout",
     "output_type": "stream",
     "text": [
      "Model: \"sequential\"\n",
      "_________________________________________________________________\n",
      " Layer (type)                Output Shape              Param #   \n",
      "=================================================================\n",
      " dense (Dense)               (None, 128)               1664      \n",
      "                                                                 \n",
      " dropout (Dropout)           (None, 128)               0         \n",
      "                                                                 \n",
      " dense_1 (Dense)             (None, 5)                 645       \n",
      "                                                                 \n",
      "=================================================================\n",
      "Total params: 2309 (9.02 KB)\n",
      "Trainable params: 2309 (9.02 KB)\n",
      "Non-trainable params: 0 (0.00 Byte)\n",
      "_________________________________________________________________\n"
     ]
    }
   ],
   "source": [
    "nn0.summary()"
   ]
  },
  {
   "cell_type": "code",
   "execution_count": 54,
   "metadata": {
    "id": "YrZTJcsebSRs"
   },
   "outputs": [],
   "source": [
    "nn0.compile(optimizer=tf.keras.optimizers.Adam(1e-3),\n",
    "             loss=tf.keras.losses.SparseCategoricalCrossentropy(),\n",
    "             metrics=['accuracy'])"
   ]
  },
  {
   "cell_type": "code",
   "execution_count": 55,
   "metadata": {
    "colab": {
     "base_uri": "https://localhost:8080/"
    },
    "id": "GaWMNLWHbSRt",
    "outputId": "735f78b1-5010-4b0d-ec70-4e4f0ed2c350"
   },
   "outputs": [
    {
     "name": "stdout",
     "output_type": "stream",
     "text": [
      "Epoch 1/100\n",
      "WARNING:tensorflow:From C:\\Users\\User\\anaconda3\\envs\\trileven\\Lib\\site-packages\\keras\\src\\utils\\tf_utils.py:492: The name tf.ragged.RaggedTensorValue is deprecated. Please use tf.compat.v1.ragged.RaggedTensorValue instead.\n",
      "\n",
      "WARNING:tensorflow:From C:\\Users\\User\\anaconda3\\envs\\trileven\\Lib\\site-packages\\keras\\src\\engine\\base_layer_utils.py:384: The name tf.executing_eagerly_outside_functions is deprecated. Please use tf.compat.v1.executing_eagerly_outside_functions instead.\n",
      "\n",
      "60/60 [==============================] - 7s 36ms/step - loss: 1.3239 - accuracy: 0.5159 - val_loss: 1.1969 - val_accuracy: 0.5324\n",
      "Epoch 2/100\n",
      "60/60 [==============================] - 1s 16ms/step - loss: 1.1420 - accuracy: 0.5332 - val_loss: 1.0621 - val_accuracy: 0.5324\n",
      "Epoch 3/100\n",
      "60/60 [==============================] - 1s 15ms/step - loss: 1.0035 - accuracy: 0.5525 - val_loss: 0.9436 - val_accuracy: 0.5344\n",
      "Epoch 4/100\n",
      "60/60 [==============================] - 1s 15ms/step - loss: 0.8910 - accuracy: 0.6095 - val_loss: 0.8429 - val_accuracy: 0.6180\n",
      "Epoch 5/100\n",
      "60/60 [==============================] - 1s 17ms/step - loss: 0.8068 - accuracy: 0.6534 - val_loss: 0.7792 - val_accuracy: 0.6889\n",
      "Epoch 6/100\n",
      "60/60 [==============================] - 1s 13ms/step - loss: 0.7429 - accuracy: 0.6827 - val_loss: 0.7300 - val_accuracy: 0.6848\n",
      "Epoch 7/100\n",
      "60/60 [==============================] - 1s 16ms/step - loss: 0.6995 - accuracy: 0.7120 - val_loss: 0.6959 - val_accuracy: 0.7203\n",
      "Epoch 8/100\n",
      "60/60 [==============================] - 1s 16ms/step - loss: 0.6597 - accuracy: 0.7376 - val_loss: 0.6626 - val_accuracy: 0.7244\n",
      "Epoch 9/100\n",
      "60/60 [==============================] - 1s 13ms/step - loss: 0.6348 - accuracy: 0.7459 - val_loss: 0.6358 - val_accuracy: 0.7411\n",
      "Epoch 10/100\n",
      "60/60 [==============================] - 1s 15ms/step - loss: 0.6058 - accuracy: 0.7632 - val_loss: 0.6135 - val_accuracy: 0.7495\n",
      "Epoch 11/100\n",
      "60/60 [==============================] - 1s 13ms/step - loss: 0.5878 - accuracy: 0.7684 - val_loss: 0.5935 - val_accuracy: 0.7516\n",
      "Epoch 12/100\n",
      "60/60 [==============================] - 1s 15ms/step - loss: 0.5630 - accuracy: 0.7773 - val_loss: 0.5760 - val_accuracy: 0.7578\n",
      "Epoch 13/100\n",
      "60/60 [==============================] - 1s 16ms/step - loss: 0.5498 - accuracy: 0.7846 - val_loss: 0.5591 - val_accuracy: 0.7704\n",
      "Epoch 14/100\n",
      "60/60 [==============================] - 1s 16ms/step - loss: 0.5353 - accuracy: 0.7862 - val_loss: 0.5497 - val_accuracy: 0.7620\n",
      "Epoch 15/100\n",
      "60/60 [==============================] - 1s 16ms/step - loss: 0.5220 - accuracy: 0.7987 - val_loss: 0.5387 - val_accuracy: 0.7808\n",
      "Epoch 16/100\n",
      "60/60 [==============================] - 1s 16ms/step - loss: 0.5117 - accuracy: 0.7956 - val_loss: 0.5258 - val_accuracy: 0.7683\n",
      "Epoch 17/100\n",
      "60/60 [==============================] - 1s 13ms/step - loss: 0.5037 - accuracy: 0.7967 - val_loss: 0.5182 - val_accuracy: 0.7599\n",
      "Epoch 18/100\n",
      "60/60 [==============================] - 1s 11ms/step - loss: 0.4865 - accuracy: 0.8092 - val_loss: 0.5065 - val_accuracy: 0.7954\n",
      "Epoch 19/100\n",
      "60/60 [==============================] - 1s 10ms/step - loss: 0.4830 - accuracy: 0.8019 - val_loss: 0.5026 - val_accuracy: 0.7871\n",
      "Epoch 20/100\n",
      "60/60 [==============================] - 1s 11ms/step - loss: 0.4737 - accuracy: 0.8123 - val_loss: 0.4926 - val_accuracy: 0.7704\n",
      "Epoch 21/100\n",
      "60/60 [==============================] - 1s 13ms/step - loss: 0.4736 - accuracy: 0.7987 - val_loss: 0.4840 - val_accuracy: 0.7975\n",
      "Epoch 22/100\n",
      "60/60 [==============================] - 1s 13ms/step - loss: 0.4587 - accuracy: 0.8139 - val_loss: 0.4833 - val_accuracy: 0.7996\n",
      "Epoch 23/100\n",
      "60/60 [==============================] - 1s 10ms/step - loss: 0.4583 - accuracy: 0.8134 - val_loss: 0.4721 - val_accuracy: 0.7954\n",
      "Epoch 24/100\n",
      "60/60 [==============================] - 1s 10ms/step - loss: 0.4512 - accuracy: 0.8165 - val_loss: 0.4695 - val_accuracy: 0.7912\n",
      "Epoch 25/100\n",
      "60/60 [==============================] - 1s 10ms/step - loss: 0.4451 - accuracy: 0.8165 - val_loss: 0.4634 - val_accuracy: 0.7996\n",
      "Epoch 26/100\n",
      "60/60 [==============================] - 1s 9ms/step - loss: 0.4443 - accuracy: 0.8202 - val_loss: 0.4627 - val_accuracy: 0.7996\n",
      "Epoch 27/100\n",
      "60/60 [==============================] - 1s 9ms/step - loss: 0.4382 - accuracy: 0.8155 - val_loss: 0.4553 - val_accuracy: 0.8058\n",
      "Epoch 28/100\n",
      "60/60 [==============================] - 1s 12ms/step - loss: 0.4334 - accuracy: 0.8223 - val_loss: 0.4533 - val_accuracy: 0.7996\n",
      "Epoch 29/100\n",
      "60/60 [==============================] - 1s 9ms/step - loss: 0.4317 - accuracy: 0.8285 - val_loss: 0.4505 - val_accuracy: 0.7933\n",
      "Epoch 30/100\n",
      "60/60 [==============================] - 1s 9ms/step - loss: 0.4360 - accuracy: 0.8134 - val_loss: 0.4461 - val_accuracy: 0.8058\n",
      "Epoch 31/100\n",
      "60/60 [==============================] - 1s 17ms/step - loss: 0.4204 - accuracy: 0.8312 - val_loss: 0.4428 - val_accuracy: 0.8017\n",
      "Epoch 32/100\n",
      "60/60 [==============================] - 1s 15ms/step - loss: 0.4191 - accuracy: 0.8265 - val_loss: 0.4406 - val_accuracy: 0.7954\n",
      "Epoch 33/100\n",
      "60/60 [==============================] - 1s 18ms/step - loss: 0.4233 - accuracy: 0.8254 - val_loss: 0.4399 - val_accuracy: 0.7996\n",
      "Epoch 34/100\n",
      "60/60 [==============================] - 1s 17ms/step - loss: 0.4170 - accuracy: 0.8280 - val_loss: 0.4361 - val_accuracy: 0.7996\n",
      "Epoch 35/100\n",
      "60/60 [==============================] - 1s 17ms/step - loss: 0.4118 - accuracy: 0.8291 - val_loss: 0.4368 - val_accuracy: 0.7912\n",
      "Epoch 36/100\n",
      "60/60 [==============================] - 1s 18ms/step - loss: 0.4102 - accuracy: 0.8327 - val_loss: 0.4306 - val_accuracy: 0.8038\n",
      "Epoch 37/100\n",
      "60/60 [==============================] - 1s 15ms/step - loss: 0.4028 - accuracy: 0.8332 - val_loss: 0.4350 - val_accuracy: 0.7871\n",
      "Epoch 38/100\n",
      "60/60 [==============================] - 1s 17ms/step - loss: 0.4079 - accuracy: 0.8327 - val_loss: 0.4296 - val_accuracy: 0.8058\n",
      "Epoch 39/100\n",
      "60/60 [==============================] - 1s 17ms/step - loss: 0.4053 - accuracy: 0.8296 - val_loss: 0.4323 - val_accuracy: 0.8058\n",
      "Epoch 40/100\n",
      "60/60 [==============================] - 1s 17ms/step - loss: 0.4052 - accuracy: 0.8306 - val_loss: 0.4295 - val_accuracy: 0.7996\n",
      "Epoch 41/100\n",
      "60/60 [==============================] - 1s 17ms/step - loss: 0.4071 - accuracy: 0.8312 - val_loss: 0.4325 - val_accuracy: 0.7933\n",
      "Epoch 42/100\n",
      "60/60 [==============================] - 1s 18ms/step - loss: 0.4000 - accuracy: 0.8322 - val_loss: 0.4219 - val_accuracy: 0.7996\n",
      "Epoch 43/100\n",
      "60/60 [==============================] - 1s 13ms/step - loss: 0.3975 - accuracy: 0.8369 - val_loss: 0.4211 - val_accuracy: 0.8038\n",
      "Epoch 44/100\n",
      "60/60 [==============================] - 1s 15ms/step - loss: 0.3986 - accuracy: 0.8338 - val_loss: 0.4213 - val_accuracy: 0.8017\n",
      "Epoch 45/100\n",
      "60/60 [==============================] - 1s 17ms/step - loss: 0.3890 - accuracy: 0.8348 - val_loss: 0.4212 - val_accuracy: 0.8017\n",
      "Epoch 46/100\n",
      "60/60 [==============================] - 1s 18ms/step - loss: 0.3945 - accuracy: 0.8380 - val_loss: 0.4277 - val_accuracy: 0.7996\n",
      "Epoch 47/100\n",
      "60/60 [==============================] - 1s 18ms/step - loss: 0.3914 - accuracy: 0.8380 - val_loss: 0.4218 - val_accuracy: 0.7954\n",
      "Epoch 48/100\n",
      "60/60 [==============================] - 1s 16ms/step - loss: 0.3879 - accuracy: 0.8359 - val_loss: 0.4169 - val_accuracy: 0.7975\n",
      "Epoch 49/100\n",
      "60/60 [==============================] - 1s 15ms/step - loss: 0.3916 - accuracy: 0.8322 - val_loss: 0.4188 - val_accuracy: 0.8100\n",
      "Epoch 50/100\n",
      "60/60 [==============================] - 1s 18ms/step - loss: 0.3822 - accuracy: 0.8432 - val_loss: 0.4175 - val_accuracy: 0.8038\n",
      "Epoch 51/100\n",
      "60/60 [==============================] - 1s 16ms/step - loss: 0.3828 - accuracy: 0.8432 - val_loss: 0.4186 - val_accuracy: 0.8079\n",
      "Epoch 52/100\n",
      "60/60 [==============================] - 1s 13ms/step - loss: 0.3800 - accuracy: 0.8453 - val_loss: 0.4195 - val_accuracy: 0.8038\n",
      "Epoch 53/100\n",
      "60/60 [==============================] - 1s 16ms/step - loss: 0.3753 - accuracy: 0.8421 - val_loss: 0.4223 - val_accuracy: 0.7954\n",
      "Epoch 54/100\n",
      "60/60 [==============================] - 1s 14ms/step - loss: 0.3770 - accuracy: 0.8374 - val_loss: 0.4149 - val_accuracy: 0.7996\n",
      "Epoch 55/100\n",
      "60/60 [==============================] - 1s 15ms/step - loss: 0.3779 - accuracy: 0.8364 - val_loss: 0.4138 - val_accuracy: 0.8079\n",
      "Epoch 56/100\n",
      "60/60 [==============================] - 1s 16ms/step - loss: 0.3884 - accuracy: 0.8390 - val_loss: 0.4147 - val_accuracy: 0.8017\n",
      "Epoch 57/100\n",
      "60/60 [==============================] - 1s 14ms/step - loss: 0.3740 - accuracy: 0.8495 - val_loss: 0.4187 - val_accuracy: 0.7996\n",
      "Epoch 58/100\n",
      "60/60 [==============================] - 1s 15ms/step - loss: 0.3784 - accuracy: 0.8474 - val_loss: 0.4182 - val_accuracy: 0.8079\n",
      "Epoch 59/100\n",
      "60/60 [==============================] - 1s 16ms/step - loss: 0.3711 - accuracy: 0.8474 - val_loss: 0.4134 - val_accuracy: 0.8121\n",
      "Epoch 60/100\n",
      "60/60 [==============================] - 1s 15ms/step - loss: 0.3751 - accuracy: 0.8390 - val_loss: 0.4157 - val_accuracy: 0.7954\n",
      "Epoch 61/100\n",
      "60/60 [==============================] - 1s 13ms/step - loss: 0.3737 - accuracy: 0.8427 - val_loss: 0.4135 - val_accuracy: 0.8121\n",
      "Epoch 62/100\n",
      "60/60 [==============================] - 1s 13ms/step - loss: 0.3773 - accuracy: 0.8484 - val_loss: 0.4114 - val_accuracy: 0.8017\n",
      "Epoch 63/100\n",
      "60/60 [==============================] - 1s 15ms/step - loss: 0.3762 - accuracy: 0.8416 - val_loss: 0.4119 - val_accuracy: 0.8058\n",
      "Epoch 64/100\n",
      "60/60 [==============================] - 1s 16ms/step - loss: 0.3813 - accuracy: 0.8406 - val_loss: 0.4130 - val_accuracy: 0.8017\n",
      "Epoch 65/100\n",
      "60/60 [==============================] - 1s 12ms/step - loss: 0.3699 - accuracy: 0.8374 - val_loss: 0.4098 - val_accuracy: 0.8142\n",
      "Epoch 66/100\n",
      "60/60 [==============================] - 1s 13ms/step - loss: 0.3618 - accuracy: 0.8500 - val_loss: 0.4089 - val_accuracy: 0.8142\n",
      "Epoch 67/100\n",
      "60/60 [==============================] - 1s 16ms/step - loss: 0.3701 - accuracy: 0.8395 - val_loss: 0.4128 - val_accuracy: 0.8142\n",
      "Epoch 68/100\n",
      "60/60 [==============================] - 1s 15ms/step - loss: 0.3659 - accuracy: 0.8484 - val_loss: 0.4138 - val_accuracy: 0.8100\n",
      "Epoch 69/100\n",
      "60/60 [==============================] - 1s 15ms/step - loss: 0.3668 - accuracy: 0.8437 - val_loss: 0.4094 - val_accuracy: 0.8163\n",
      "Epoch 70/100\n",
      "60/60 [==============================] - 1s 15ms/step - loss: 0.3644 - accuracy: 0.8505 - val_loss: 0.4109 - val_accuracy: 0.8017\n",
      "Epoch 71/100\n",
      "60/60 [==============================] - 1s 15ms/step - loss: 0.3606 - accuracy: 0.8468 - val_loss: 0.4130 - val_accuracy: 0.8038\n",
      "Epoch 72/100\n",
      "60/60 [==============================] - 1s 16ms/step - loss: 0.3684 - accuracy: 0.8484 - val_loss: 0.4130 - val_accuracy: 0.8121\n",
      "Epoch 73/100\n",
      "60/60 [==============================] - 1s 15ms/step - loss: 0.3584 - accuracy: 0.8542 - val_loss: 0.4172 - val_accuracy: 0.7996\n",
      "Epoch 74/100\n",
      "60/60 [==============================] - 1s 13ms/step - loss: 0.3647 - accuracy: 0.8463 - val_loss: 0.4130 - val_accuracy: 0.7933\n",
      "Epoch 75/100\n",
      "60/60 [==============================] - 1s 17ms/step - loss: 0.3625 - accuracy: 0.8463 - val_loss: 0.4154 - val_accuracy: 0.8121\n",
      "Epoch 76/100\n",
      "60/60 [==============================] - 1s 13ms/step - loss: 0.3551 - accuracy: 0.8604 - val_loss: 0.4174 - val_accuracy: 0.8017\n",
      "Epoch 77/100\n",
      "60/60 [==============================] - 1s 15ms/step - loss: 0.3583 - accuracy: 0.8468 - val_loss: 0.4112 - val_accuracy: 0.8079\n",
      "Epoch 78/100\n",
      "60/60 [==============================] - 1s 16ms/step - loss: 0.3504 - accuracy: 0.8536 - val_loss: 0.4109 - val_accuracy: 0.8038\n",
      "Epoch 79/100\n",
      "60/60 [==============================] - 1s 16ms/step - loss: 0.3481 - accuracy: 0.8693 - val_loss: 0.4164 - val_accuracy: 0.8038\n",
      "Epoch 80/100\n",
      "60/60 [==============================] - 1s 15ms/step - loss: 0.3583 - accuracy: 0.8463 - val_loss: 0.4162 - val_accuracy: 0.7975\n",
      "Epoch 81/100\n",
      "60/60 [==============================] - 1s 15ms/step - loss: 0.3516 - accuracy: 0.8458 - val_loss: 0.4120 - val_accuracy: 0.8017\n",
      "Epoch 82/100\n",
      "60/60 [==============================] - 1s 15ms/step - loss: 0.3546 - accuracy: 0.8447 - val_loss: 0.4127 - val_accuracy: 0.8079\n",
      "Epoch 83/100\n",
      "60/60 [==============================] - 1s 15ms/step - loss: 0.3544 - accuracy: 0.8510 - val_loss: 0.4139 - val_accuracy: 0.8058\n",
      "Epoch 84/100\n",
      "60/60 [==============================] - 1s 15ms/step - loss: 0.3488 - accuracy: 0.8594 - val_loss: 0.4123 - val_accuracy: 0.8079\n",
      "Epoch 85/100\n",
      "60/60 [==============================] - 1s 18ms/step - loss: 0.3532 - accuracy: 0.8542 - val_loss: 0.4145 - val_accuracy: 0.8058\n",
      "Epoch 86/100\n",
      "60/60 [==============================] - 1s 12ms/step - loss: 0.3480 - accuracy: 0.8542 - val_loss: 0.4101 - val_accuracy: 0.8079\n",
      "Epoch 87/100\n",
      "60/60 [==============================] - 1s 12ms/step - loss: 0.3494 - accuracy: 0.8578 - val_loss: 0.4157 - val_accuracy: 0.8058\n",
      "Epoch 88/100\n",
      "60/60 [==============================] - 1s 16ms/step - loss: 0.3405 - accuracy: 0.8552 - val_loss: 0.4140 - val_accuracy: 0.7996\n",
      "Epoch 89/100\n",
      "60/60 [==============================] - 1s 15ms/step - loss: 0.3511 - accuracy: 0.8505 - val_loss: 0.4162 - val_accuracy: 0.8038\n",
      "Epoch 90/100\n",
      "60/60 [==============================] - 1s 16ms/step - loss: 0.3503 - accuracy: 0.8495 - val_loss: 0.4163 - val_accuracy: 0.8058\n",
      "Epoch 91/100\n",
      "60/60 [==============================] - 1s 15ms/step - loss: 0.3521 - accuracy: 0.8578 - val_loss: 0.4142 - val_accuracy: 0.8038\n",
      "Epoch 92/100\n",
      "60/60 [==============================] - 1s 16ms/step - loss: 0.3532 - accuracy: 0.8536 - val_loss: 0.4148 - val_accuracy: 0.8163\n",
      "Epoch 93/100\n",
      "60/60 [==============================] - 1s 16ms/step - loss: 0.3373 - accuracy: 0.8599 - val_loss: 0.4132 - val_accuracy: 0.8017\n",
      "Epoch 94/100\n",
      "60/60 [==============================] - 1s 13ms/step - loss: 0.3473 - accuracy: 0.8505 - val_loss: 0.4123 - val_accuracy: 0.8058\n",
      "Epoch 95/100\n",
      "60/60 [==============================] - 1s 12ms/step - loss: 0.3500 - accuracy: 0.8531 - val_loss: 0.4173 - val_accuracy: 0.8017\n",
      "Epoch 96/100\n",
      "60/60 [==============================] - 1s 15ms/step - loss: 0.3417 - accuracy: 0.8578 - val_loss: 0.4145 - val_accuracy: 0.7996\n",
      "Epoch 97/100\n",
      "60/60 [==============================] - 1s 16ms/step - loss: 0.3427 - accuracy: 0.8489 - val_loss: 0.4130 - val_accuracy: 0.8038\n",
      "Epoch 98/100\n",
      "60/60 [==============================] - 1s 16ms/step - loss: 0.3360 - accuracy: 0.8625 - val_loss: 0.4182 - val_accuracy: 0.8017\n",
      "Epoch 99/100\n",
      "60/60 [==============================] - 1s 14ms/step - loss: 0.3420 - accuracy: 0.8515 - val_loss: 0.4174 - val_accuracy: 0.8038\n",
      "Epoch 100/100\n",
      "60/60 [==============================] - 1s 11ms/step - loss: 0.3369 - accuracy: 0.8557 - val_loss: 0.4146 - val_accuracy: 0.8079\n"
     ]
    },
    {
     "data": {
      "text/plain": [
       "<keras.src.callbacks.History at 0x23606f7f710>"
      ]
     },
     "execution_count": 55,
     "metadata": {},
     "output_type": "execute_result"
    }
   ],
   "source": [
    "nn0.fit(X_train, y_train, epochs=100,\n",
    "        validation_data=(X_test, y_test), batch_size=32)"
   ]
  },
  {
   "cell_type": "markdown",
   "metadata": {
    "id": "cHqeUu028ZCs"
   },
   "source": [
    "#### **2 Fully Connected Layers**"
   ]
  },
  {
   "cell_type": "code",
   "execution_count": 56,
   "metadata": {
    "id": "xjVa45D6KFvB"
   },
   "outputs": [],
   "source": [
    "nn = tf.keras.models.Sequential([\n",
    "  tf.keras.Input(shape=(len(X_train.columns),)),\n",
    "  tf.keras.layers.Dense(128, activation='relu'),\n",
    "  tf.keras.layers.Dropout(0.4),\n",
    "  tf.keras.layers.Dense(64, activation='relu'),\n",
    "  tf.keras.layers.Dropout(0.2),\n",
    "  tf.keras.layers.Dense(5, activation='softmax')\n",
    "])"
   ]
  },
  {
   "cell_type": "code",
   "execution_count": 57,
   "metadata": {
    "colab": {
     "base_uri": "https://localhost:8080/",
     "height": 306
    },
    "id": "IEFUEwghh1Tp",
    "outputId": "15a801ad-da0e-4aec-d46b-2f67e69217e1"
   },
   "outputs": [
    {
     "name": "stdout",
     "output_type": "stream",
     "text": [
      "Model: \"sequential_1\"\n",
      "_________________________________________________________________\n",
      " Layer (type)                Output Shape              Param #   \n",
      "=================================================================\n",
      " dense_2 (Dense)             (None, 128)               1664      \n",
      "                                                                 \n",
      " dropout_1 (Dropout)         (None, 128)               0         \n",
      "                                                                 \n",
      " dense_3 (Dense)             (None, 64)                8256      \n",
      "                                                                 \n",
      " dropout_2 (Dropout)         (None, 64)                0         \n",
      "                                                                 \n",
      " dense_4 (Dense)             (None, 5)                 325       \n",
      "                                                                 \n",
      "=================================================================\n",
      "Total params: 10245 (40.02 KB)\n",
      "Trainable params: 10245 (40.02 KB)\n",
      "Non-trainable params: 0 (0.00 Byte)\n",
      "_________________________________________________________________\n"
     ]
    }
   ],
   "source": [
    "nn.summary()"
   ]
  },
  {
   "cell_type": "code",
   "execution_count": 60,
   "metadata": {
    "id": "YnOidM58iDe6"
   },
   "outputs": [],
   "source": [
    "nn.compile(optimizer=tf.keras.optimizers.Adam(1e-3),\n",
    "             loss=tf.keras.losses.SparseCategoricalCrossentropy(),\n",
    "             metrics=['accuracy'])"
   ]
  },
  {
   "cell_type": "code",
   "execution_count": 61,
   "metadata": {
    "colab": {
     "base_uri": "https://localhost:8080/"
    },
    "id": "jZd41jJXiVjw",
    "outputId": "a2a46c43-d116-4420-b252-1e648e061701"
   },
   "outputs": [
    {
     "name": "stdout",
     "output_type": "stream",
     "text": [
      "Epoch 1/100\n",
      "60/60 [==============================] - 6s 35ms/step - loss: 1.3105 - accuracy: 0.5086 - val_loss: 1.1758 - val_accuracy: 0.5324\n",
      "Epoch 2/100\n",
      "60/60 [==============================] - 1s 18ms/step - loss: 1.1068 - accuracy: 0.5484 - val_loss: 0.9528 - val_accuracy: 0.5595\n",
      "Epoch 3/100\n",
      "60/60 [==============================] - 1s 18ms/step - loss: 0.8892 - accuracy: 0.6226 - val_loss: 0.7546 - val_accuracy: 0.6430\n",
      "Epoch 4/100\n",
      "60/60 [==============================] - 1s 15ms/step - loss: 0.7434 - accuracy: 0.6649 - val_loss: 0.6497 - val_accuracy: 0.7161\n",
      "Epoch 5/100\n",
      "60/60 [==============================] - 1s 19ms/step - loss: 0.6615 - accuracy: 0.7114 - val_loss: 0.5892 - val_accuracy: 0.7641\n",
      "Epoch 6/100\n",
      "60/60 [==============================] - 1s 16ms/step - loss: 0.6084 - accuracy: 0.7365 - val_loss: 0.5477 - val_accuracy: 0.7766\n",
      "Epoch 7/100\n",
      "60/60 [==============================] - 1s 13ms/step - loss: 0.5826 - accuracy: 0.7527 - val_loss: 0.5259 - val_accuracy: 0.7891\n",
      "Epoch 8/100\n",
      "60/60 [==============================] - 1s 13ms/step - loss: 0.5576 - accuracy: 0.7470 - val_loss: 0.4971 - val_accuracy: 0.7954\n",
      "Epoch 9/100\n",
      "60/60 [==============================] - 1s 14ms/step - loss: 0.5408 - accuracy: 0.7669 - val_loss: 0.4937 - val_accuracy: 0.7808\n",
      "Epoch 10/100\n",
      "60/60 [==============================] - 1s 18ms/step - loss: 0.5196 - accuracy: 0.7789 - val_loss: 0.4702 - val_accuracy: 0.7891\n",
      "Epoch 11/100\n",
      "60/60 [==============================] - 1s 18ms/step - loss: 0.5042 - accuracy: 0.7841 - val_loss: 0.4604 - val_accuracy: 0.7975\n",
      "Epoch 12/100\n",
      "60/60 [==============================] - 1s 15ms/step - loss: 0.5021 - accuracy: 0.7815 - val_loss: 0.4587 - val_accuracy: 0.7912\n",
      "Epoch 13/100\n",
      "60/60 [==============================] - 1s 18ms/step - loss: 0.4900 - accuracy: 0.7846 - val_loss: 0.4522 - val_accuracy: 0.8017\n",
      "Epoch 14/100\n",
      "60/60 [==============================] - 1s 18ms/step - loss: 0.4752 - accuracy: 0.7993 - val_loss: 0.4530 - val_accuracy: 0.7954\n",
      "Epoch 15/100\n",
      "60/60 [==============================] - 1s 18ms/step - loss: 0.4816 - accuracy: 0.7930 - val_loss: 0.4467 - val_accuracy: 0.7912\n",
      "Epoch 16/100\n",
      "60/60 [==============================] - 1s 19ms/step - loss: 0.4721 - accuracy: 0.8003 - val_loss: 0.4305 - val_accuracy: 0.8079\n",
      "Epoch 17/100\n",
      "60/60 [==============================] - 1s 19ms/step - loss: 0.4665 - accuracy: 0.7967 - val_loss: 0.4368 - val_accuracy: 0.7975\n",
      "Epoch 18/100\n",
      "60/60 [==============================] - 1s 16ms/step - loss: 0.4477 - accuracy: 0.8165 - val_loss: 0.4273 - val_accuracy: 0.8142\n",
      "Epoch 19/100\n",
      "60/60 [==============================] - 1s 19ms/step - loss: 0.4638 - accuracy: 0.7951 - val_loss: 0.4296 - val_accuracy: 0.8038\n",
      "Epoch 20/100\n",
      "60/60 [==============================] - 1s 19ms/step - loss: 0.4510 - accuracy: 0.8014 - val_loss: 0.4227 - val_accuracy: 0.8121\n",
      "Epoch 21/100\n",
      "60/60 [==============================] - 1s 20ms/step - loss: 0.4464 - accuracy: 0.7967 - val_loss: 0.4226 - val_accuracy: 0.8205\n",
      "Epoch 22/100\n",
      "60/60 [==============================] - 1s 15ms/step - loss: 0.4368 - accuracy: 0.8076 - val_loss: 0.4197 - val_accuracy: 0.8142\n",
      "Epoch 23/100\n",
      "60/60 [==============================] - 1s 17ms/step - loss: 0.4381 - accuracy: 0.8123 - val_loss: 0.4257 - val_accuracy: 0.7871\n",
      "Epoch 24/100\n",
      "60/60 [==============================] - 1s 19ms/step - loss: 0.4240 - accuracy: 0.8207 - val_loss: 0.4165 - val_accuracy: 0.8142\n",
      "Epoch 25/100\n",
      "60/60 [==============================] - 1s 19ms/step - loss: 0.4344 - accuracy: 0.8029 - val_loss: 0.4201 - val_accuracy: 0.8163\n",
      "Epoch 26/100\n",
      "60/60 [==============================] - 1s 17ms/step - loss: 0.4291 - accuracy: 0.8123 - val_loss: 0.4166 - val_accuracy: 0.8121\n",
      "Epoch 27/100\n",
      "60/60 [==============================] - 1s 20ms/step - loss: 0.4253 - accuracy: 0.8102 - val_loss: 0.4125 - val_accuracy: 0.8058\n",
      "Epoch 28/100\n",
      "60/60 [==============================] - 1s 18ms/step - loss: 0.4113 - accuracy: 0.8275 - val_loss: 0.4196 - val_accuracy: 0.7996\n",
      "Epoch 29/100\n",
      "60/60 [==============================] - 1s 15ms/step - loss: 0.4210 - accuracy: 0.8170 - val_loss: 0.4167 - val_accuracy: 0.8058\n",
      "Epoch 30/100\n",
      "60/60 [==============================] - 1s 16ms/step - loss: 0.4182 - accuracy: 0.8150 - val_loss: 0.4276 - val_accuracy: 0.7891\n",
      "Epoch 31/100\n",
      "60/60 [==============================] - 1s 18ms/step - loss: 0.4098 - accuracy: 0.8244 - val_loss: 0.4128 - val_accuracy: 0.8225\n",
      "Epoch 32/100\n",
      "60/60 [==============================] - 1s 17ms/step - loss: 0.4151 - accuracy: 0.8165 - val_loss: 0.4149 - val_accuracy: 0.8100\n",
      "Epoch 33/100\n",
      "60/60 [==============================] - 1s 19ms/step - loss: 0.4011 - accuracy: 0.8181 - val_loss: 0.4115 - val_accuracy: 0.8184\n",
      "Epoch 34/100\n",
      "60/60 [==============================] - 1s 19ms/step - loss: 0.4102 - accuracy: 0.8123 - val_loss: 0.4123 - val_accuracy: 0.8246\n",
      "Epoch 35/100\n",
      "60/60 [==============================] - 1s 19ms/step - loss: 0.4054 - accuracy: 0.8244 - val_loss: 0.4079 - val_accuracy: 0.8100\n",
      "Epoch 36/100\n",
      "60/60 [==============================] - 1s 14ms/step - loss: 0.3940 - accuracy: 0.8348 - val_loss: 0.4168 - val_accuracy: 0.8205\n",
      "Epoch 37/100\n",
      "60/60 [==============================] - 1s 17ms/step - loss: 0.4083 - accuracy: 0.8254 - val_loss: 0.4117 - val_accuracy: 0.8142\n",
      "Epoch 38/100\n",
      "60/60 [==============================] - 1s 15ms/step - loss: 0.4100 - accuracy: 0.8202 - val_loss: 0.4284 - val_accuracy: 0.7954\n",
      "Epoch 39/100\n",
      "60/60 [==============================] - 1s 15ms/step - loss: 0.4038 - accuracy: 0.8223 - val_loss: 0.4168 - val_accuracy: 0.8100\n",
      "Epoch 40/100\n",
      "60/60 [==============================] - 1s 11ms/step - loss: 0.4010 - accuracy: 0.8228 - val_loss: 0.4088 - val_accuracy: 0.8330\n",
      "Epoch 41/100\n",
      "60/60 [==============================] - 1s 12ms/step - loss: 0.3908 - accuracy: 0.8332 - val_loss: 0.4108 - val_accuracy: 0.8351\n",
      "Epoch 42/100\n",
      "60/60 [==============================] - 1s 12ms/step - loss: 0.3992 - accuracy: 0.8280 - val_loss: 0.4120 - val_accuracy: 0.8288\n",
      "Epoch 43/100\n",
      "60/60 [==============================] - 1s 12ms/step - loss: 0.3886 - accuracy: 0.8327 - val_loss: 0.4154 - val_accuracy: 0.8121\n",
      "Epoch 44/100\n",
      "60/60 [==============================] - 1s 12ms/step - loss: 0.3831 - accuracy: 0.8280 - val_loss: 0.4173 - val_accuracy: 0.8121\n",
      "Epoch 45/100\n",
      "60/60 [==============================] - 1s 12ms/step - loss: 0.3951 - accuracy: 0.8301 - val_loss: 0.4186 - val_accuracy: 0.8142\n",
      "Epoch 46/100\n",
      "60/60 [==============================] - 1s 11ms/step - loss: 0.3889 - accuracy: 0.8380 - val_loss: 0.4061 - val_accuracy: 0.8184\n",
      "Epoch 47/100\n",
      "60/60 [==============================] - 1s 11ms/step - loss: 0.3836 - accuracy: 0.8254 - val_loss: 0.4053 - val_accuracy: 0.8205\n",
      "Epoch 48/100\n",
      "60/60 [==============================] - 1s 10ms/step - loss: 0.3871 - accuracy: 0.8364 - val_loss: 0.4017 - val_accuracy: 0.8267\n",
      "Epoch 49/100\n",
      "60/60 [==============================] - 1s 11ms/step - loss: 0.3927 - accuracy: 0.8197 - val_loss: 0.4080 - val_accuracy: 0.8142\n",
      "Epoch 50/100\n",
      "60/60 [==============================] - 1s 13ms/step - loss: 0.3738 - accuracy: 0.8369 - val_loss: 0.4108 - val_accuracy: 0.8184\n",
      "Epoch 51/100\n",
      "60/60 [==============================] - 1s 11ms/step - loss: 0.3888 - accuracy: 0.8270 - val_loss: 0.4148 - val_accuracy: 0.8079\n",
      "Epoch 52/100\n",
      "60/60 [==============================] - 1s 10ms/step - loss: 0.3881 - accuracy: 0.8353 - val_loss: 0.4148 - val_accuracy: 0.8058\n",
      "Epoch 53/100\n",
      "60/60 [==============================] - 1s 19ms/step - loss: 0.3707 - accuracy: 0.8369 - val_loss: 0.4109 - val_accuracy: 0.8246\n",
      "Epoch 54/100\n",
      "60/60 [==============================] - 1s 19ms/step - loss: 0.3734 - accuracy: 0.8411 - val_loss: 0.4145 - val_accuracy: 0.8184\n",
      "Epoch 55/100\n",
      "60/60 [==============================] - 1s 15ms/step - loss: 0.3785 - accuracy: 0.8332 - val_loss: 0.4192 - val_accuracy: 0.8017\n",
      "Epoch 56/100\n",
      "60/60 [==============================] - 1s 18ms/step - loss: 0.3633 - accuracy: 0.8374 - val_loss: 0.4126 - val_accuracy: 0.8184\n",
      "Epoch 57/100\n",
      "60/60 [==============================] - 1s 18ms/step - loss: 0.3784 - accuracy: 0.8322 - val_loss: 0.4148 - val_accuracy: 0.8184\n",
      "Epoch 58/100\n",
      "60/60 [==============================] - 1s 19ms/step - loss: 0.3659 - accuracy: 0.8400 - val_loss: 0.4159 - val_accuracy: 0.8225\n",
      "Epoch 59/100\n",
      "60/60 [==============================] - 1s 19ms/step - loss: 0.3779 - accuracy: 0.8343 - val_loss: 0.4136 - val_accuracy: 0.8205\n",
      "Epoch 60/100\n",
      "60/60 [==============================] - 1s 15ms/step - loss: 0.3675 - accuracy: 0.8400 - val_loss: 0.4117 - val_accuracy: 0.8142\n",
      "Epoch 61/100\n",
      "60/60 [==============================] - 1s 17ms/step - loss: 0.3558 - accuracy: 0.8510 - val_loss: 0.4113 - val_accuracy: 0.8163\n",
      "Epoch 62/100\n",
      "60/60 [==============================] - 1s 13ms/step - loss: 0.3745 - accuracy: 0.8332 - val_loss: 0.4133 - val_accuracy: 0.8142\n",
      "Epoch 63/100\n",
      "60/60 [==============================] - 1s 15ms/step - loss: 0.3568 - accuracy: 0.8468 - val_loss: 0.4099 - val_accuracy: 0.8225\n",
      "Epoch 64/100\n",
      "60/60 [==============================] - 1s 19ms/step - loss: 0.3736 - accuracy: 0.8468 - val_loss: 0.4127 - val_accuracy: 0.8205\n",
      "Epoch 65/100\n",
      "60/60 [==============================] - 1s 19ms/step - loss: 0.3524 - accuracy: 0.8542 - val_loss: 0.4101 - val_accuracy: 0.8184\n",
      "Epoch 66/100\n",
      "60/60 [==============================] - 1s 15ms/step - loss: 0.3665 - accuracy: 0.8395 - val_loss: 0.4244 - val_accuracy: 0.8079\n",
      "Epoch 67/100\n",
      "60/60 [==============================] - 1s 17ms/step - loss: 0.3682 - accuracy: 0.8447 - val_loss: 0.4165 - val_accuracy: 0.8121\n",
      "Epoch 68/100\n",
      "60/60 [==============================] - 1s 18ms/step - loss: 0.3574 - accuracy: 0.8427 - val_loss: 0.4081 - val_accuracy: 0.8184\n",
      "Epoch 69/100\n",
      "60/60 [==============================] - 1s 17ms/step - loss: 0.3644 - accuracy: 0.8427 - val_loss: 0.4209 - val_accuracy: 0.8163\n",
      "Epoch 70/100\n",
      "60/60 [==============================] - 1s 19ms/step - loss: 0.3633 - accuracy: 0.8400 - val_loss: 0.4117 - val_accuracy: 0.8246\n",
      "Epoch 71/100\n",
      "60/60 [==============================] - 1s 15ms/step - loss: 0.3535 - accuracy: 0.8505 - val_loss: 0.4130 - val_accuracy: 0.8184\n",
      "Epoch 72/100\n",
      "60/60 [==============================] - 1s 18ms/step - loss: 0.3497 - accuracy: 0.8552 - val_loss: 0.4154 - val_accuracy: 0.8121\n",
      "Epoch 73/100\n",
      "60/60 [==============================] - 1s 18ms/step - loss: 0.3573 - accuracy: 0.8515 - val_loss: 0.4120 - val_accuracy: 0.8163\n",
      "Epoch 74/100\n",
      "60/60 [==============================] - 1s 18ms/step - loss: 0.3529 - accuracy: 0.8510 - val_loss: 0.4216 - val_accuracy: 0.8142\n",
      "Epoch 75/100\n",
      "60/60 [==============================] - 1s 18ms/step - loss: 0.3470 - accuracy: 0.8468 - val_loss: 0.4158 - val_accuracy: 0.8205\n",
      "Epoch 76/100\n",
      "60/60 [==============================] - 1s 18ms/step - loss: 0.3654 - accuracy: 0.8463 - val_loss: 0.4196 - val_accuracy: 0.8163\n",
      "Epoch 77/100\n",
      "60/60 [==============================] - 1s 13ms/step - loss: 0.3543 - accuracy: 0.8447 - val_loss: 0.4364 - val_accuracy: 0.8038\n",
      "Epoch 78/100\n",
      "60/60 [==============================] - 1s 18ms/step - loss: 0.3512 - accuracy: 0.8458 - val_loss: 0.4164 - val_accuracy: 0.8184\n",
      "Epoch 79/100\n",
      "60/60 [==============================] - 1s 18ms/step - loss: 0.3459 - accuracy: 0.8458 - val_loss: 0.4121 - val_accuracy: 0.8225\n",
      "Epoch 80/100\n",
      "60/60 [==============================] - 1s 16ms/step - loss: 0.3398 - accuracy: 0.8479 - val_loss: 0.4153 - val_accuracy: 0.8205\n",
      "Epoch 81/100\n",
      "60/60 [==============================] - 1s 18ms/step - loss: 0.3439 - accuracy: 0.8531 - val_loss: 0.4196 - val_accuracy: 0.8205\n",
      "Epoch 82/100\n",
      "60/60 [==============================] - 1s 18ms/step - loss: 0.3426 - accuracy: 0.8442 - val_loss: 0.4226 - val_accuracy: 0.8142\n",
      "Epoch 83/100\n",
      "60/60 [==============================] - 1s 18ms/step - loss: 0.3504 - accuracy: 0.8484 - val_loss: 0.4190 - val_accuracy: 0.8142\n",
      "Epoch 84/100\n",
      "60/60 [==============================] - 1s 16ms/step - loss: 0.3441 - accuracy: 0.8594 - val_loss: 0.4486 - val_accuracy: 0.7996\n",
      "Epoch 85/100\n",
      "60/60 [==============================] - 1s 18ms/step - loss: 0.3529 - accuracy: 0.8421 - val_loss: 0.4205 - val_accuracy: 0.8017\n",
      "Epoch 86/100\n",
      "60/60 [==============================] - 1s 18ms/step - loss: 0.3373 - accuracy: 0.8495 - val_loss: 0.4334 - val_accuracy: 0.8079\n",
      "Epoch 87/100\n",
      "60/60 [==============================] - 1s 20ms/step - loss: 0.3368 - accuracy: 0.8573 - val_loss: 0.4316 - val_accuracy: 0.8142\n",
      "Epoch 88/100\n",
      "60/60 [==============================] - 1s 13ms/step - loss: 0.3393 - accuracy: 0.8568 - val_loss: 0.4278 - val_accuracy: 0.8121\n",
      "Epoch 89/100\n",
      "60/60 [==============================] - 1s 11ms/step - loss: 0.3517 - accuracy: 0.8463 - val_loss: 0.4262 - val_accuracy: 0.8142\n",
      "Epoch 90/100\n",
      "60/60 [==============================] - 1s 17ms/step - loss: 0.3286 - accuracy: 0.8515 - val_loss: 0.4226 - val_accuracy: 0.8205\n",
      "Epoch 91/100\n",
      "60/60 [==============================] - 1s 18ms/step - loss: 0.3376 - accuracy: 0.8468 - val_loss: 0.4310 - val_accuracy: 0.8038\n",
      "Epoch 92/100\n",
      "60/60 [==============================] - 1s 18ms/step - loss: 0.3530 - accuracy: 0.8526 - val_loss: 0.4298 - val_accuracy: 0.8100\n",
      "Epoch 93/100\n",
      "60/60 [==============================] - 1s 16ms/step - loss: 0.3340 - accuracy: 0.8505 - val_loss: 0.4250 - val_accuracy: 0.8079\n",
      "Epoch 94/100\n",
      "60/60 [==============================] - 1s 12ms/step - loss: 0.3342 - accuracy: 0.8599 - val_loss: 0.4447 - val_accuracy: 0.8058\n",
      "Epoch 95/100\n",
      "60/60 [==============================] - 1s 19ms/step - loss: 0.3343 - accuracy: 0.8573 - val_loss: 0.4313 - val_accuracy: 0.7996\n",
      "Epoch 96/100\n",
      "60/60 [==============================] - 1s 14ms/step - loss: 0.3411 - accuracy: 0.8468 - val_loss: 0.4405 - val_accuracy: 0.8038\n",
      "Epoch 97/100\n",
      "60/60 [==============================] - 1s 12ms/step - loss: 0.3307 - accuracy: 0.8536 - val_loss: 0.4354 - val_accuracy: 0.8058\n",
      "Epoch 98/100\n",
      "60/60 [==============================] - 1s 16ms/step - loss: 0.3453 - accuracy: 0.8578 - val_loss: 0.4281 - val_accuracy: 0.8058\n",
      "Epoch 99/100\n",
      "60/60 [==============================] - 1s 14ms/step - loss: 0.3321 - accuracy: 0.8547 - val_loss: 0.4357 - val_accuracy: 0.8142\n",
      "Epoch 100/100\n",
      "60/60 [==============================] - 1s 17ms/step - loss: 0.3276 - accuracy: 0.8505 - val_loss: 0.4402 - val_accuracy: 0.8079\n"
     ]
    },
    {
     "data": {
      "text/plain": [
       "<keras.src.callbacks.History at 0x2360713f750>"
      ]
     },
     "execution_count": 61,
     "metadata": {},
     "output_type": "execute_result"
    }
   ],
   "source": [
    "nn.fit(X_train, y_train, epochs=100, validation_data=(X_test, y_test), batch_size=32)"
   ]
  },
  {
   "cell_type": "markdown",
   "metadata": {
    "id": "WkB7KGukD4TA"
   },
   "source": [
    "#### **Penjelasan Terkait Model (Additional Rubric)**"
   ]
  },
  {
   "cell_type": "markdown",
   "metadata": {
    "id": "7RJ-mPYlD5-m"
   },
   "source": [
    "Artificial Neural Network merupakan algoritma Deep Learning yang meniru cara kerja jaringan saraf manusia. Artificial Neural Network tersusun dari neuron-neuron yang memiliki bobot dan bias. Untuk menghasilkan prediksi, bobot dan bias ini akan disesuaikan dengan meminimumkan fungsi loss.\n",
    "\n",
    "Kelebihan dari Artificial Neural Network adalah kemampuannya untuk memprediksi berdasarkan data yang rumit, dan dapat memberikan prediksi yang akurat dalam berbagai pengaplikasian.\n",
    "\n",
    "Kekurangan dari Artificial Neural Network adalah sulit untuk menginterpretasikannya karena kompleksitas perhitungan dan memerlukan sumber daya komputasi yang tinggi untuk melatih model.\n",
    "\n",
    "Referensi :\n",
    "\n",
    "[AICI - Neural Network: Dasar-Dasar dan Aplikasinya](https://aici-umg.com/article/neural-network/)"
   ]
  },
  {
   "cell_type": "markdown",
   "metadata": {
    "id": "SGa5ZpZKIsPm"
   },
   "source": [
    "## **Evaluasi**"
   ]
  },
  {
   "cell_type": "markdown",
   "metadata": {
    "id": "OSQ4xqTE2Y_3"
   },
   "source": [
    "Metrik evaluasi yang digunakan adalah Precision, Recall, F1 Score, dan Accuracy.\n",
    "\n",
    "* Precision menggambarkan seberapa tepat model dalam memprediksi data positif (True Positive) dengan benar dari seluruh prediksi positif.\n",
    "* Recall menggambarkan seberapa banyak data positif (True Positive) yang berhasil diprediksi oleh model dengan benar dari seluruh data positif.\n",
    "* F1 Score merupakan rata-rata harmonic dari precision dan recall, memberikan gambaran seimbang dari kedua metrik tersebut.\n",
    "* Akurasi menggambarkan proporsi prediksi yang benar dari keseluruhan prediksi."
   ]
  },
  {
   "cell_type": "markdown",
   "metadata": {
    "id": "NX2mkTvZgu2Z"
   },
   "source": [
    "### **KNN**"
   ]
  },
  {
   "cell_type": "code",
   "execution_count": 62,
   "metadata": {
    "colab": {
     "base_uri": "https://localhost:8080/"
    },
    "id": "jGd3yBplwM8y",
    "outputId": "7c55349e-f1e9-4855-e6d4-ae11f88a5168"
   },
   "outputs": [
    {
     "name": "stdout",
     "output_type": "stream",
     "text": [
      "              precision    recall  f1-score   support\n",
      "\n",
      "           0       0.67      0.13      0.22        15\n",
      "           1       0.37      0.29      0.32        49\n",
      "           2       0.36      0.32      0.34        77\n",
      "           3       0.33      0.27      0.29        83\n",
      "           4       0.78      0.92      0.84       255\n",
      "\n",
      "    accuracy                           0.62       479\n",
      "   macro avg       0.50      0.39      0.40       479\n",
      "weighted avg       0.59      0.62      0.59       479\n",
      "\n"
     ]
    }
   ],
   "source": [
    "print(classification_report(y_test, knn.predict(X_test)))"
   ]
  },
  {
   "cell_type": "code",
   "execution_count": 63,
   "metadata": {
    "colab": {
     "base_uri": "https://localhost:8080/",
     "height": 739
    },
    "id": "OJKn0thQDjmb",
    "outputId": "5756e73d-2f3a-484b-aaa3-39018a1acc5d"
   },
   "outputs": [
    {
     "data": {
      "image/png": "[encoded data removed]",
      "text/plain": [
       "<Figure size 800x800 with 2 Axes>"
      ]
     },
     "metadata": {},
     "output_type": "display_data"
    }
   ],
   "source": [
    "cm_knn = confusion_matrix(y_test, knn.predict(X_test))\n",
    "plt.figure(figsize=(8,8))\n",
    "sns.heatmap(cm_knn, annot=True, cmap='Greens', fmt='.0f')\n",
    "plt.title(\"KNN\\nConfusion Matrix\")\n",
    "plt.xlabel(\"Predicted Label\")\n",
    "plt.ylabel(\"True Label\")\n",
    "plt.show()"
   ]
  },
  {
   "cell_type": "markdown",
   "metadata": {
    "id": "42eUcVJQgxlZ"
   },
   "source": [
    "### **Random Forest Classifier**"
   ]
  },
  {
   "cell_type": "code",
   "execution_count": 64,
   "metadata": {
    "colab": {
     "base_uri": "https://localhost:8080/"
    },
    "id": "l0Orix5zwql_",
    "outputId": "81332772-4c91-43be-a63b-8168ee9b8c23"
   },
   "outputs": [
    {
     "name": "stdout",
     "output_type": "stream",
     "text": [
      "              precision    recall  f1-score   support\n",
      "\n",
      "           0       1.00      0.13      0.24        15\n",
      "           1       0.65      0.61      0.63        49\n",
      "           2       0.61      0.71      0.66        77\n",
      "           3       0.60      0.48      0.53        83\n",
      "           4       0.89      0.96      0.93       255\n",
      "\n",
      "    accuracy                           0.78       479\n",
      "   macro avg       0.75      0.58      0.60       479\n",
      "weighted avg       0.78      0.78      0.76       479\n",
      "\n"
     ]
    }
   ],
   "source": [
    "print(classification_report(y_test, rfc.predict(X_test)))"
   ]
  },
  {
   "cell_type": "code",
   "execution_count": 65,
   "metadata": {
    "colab": {
     "base_uri": "https://localhost:8080/",
     "height": 739
    },
    "id": "QMEF6q-_EdaK",
    "outputId": "c20e6a86-c919-49cc-e430-30af0b9d7db5"
   },
   "outputs": [
    {
     "data": {
      "image/png": "[encoded data removed]",
      "text/plain": [
       "<Figure size 800x800 with 2 Axes>"
      ]
     },
     "metadata": {},
     "output_type": "display_data"
    }
   ],
   "source": [
    "cm_rfc = confusion_matrix(y_test, rfc.predict(X_test))\n",
    "plt.figure(figsize=(8,8))\n",
    "sns.heatmap(cm_rfc, annot=True, cmap='Greens', fmt='.0f')\n",
    "plt.title(\"Random Forest\\nConfusion Matrix\")\n",
    "plt.xlabel(\"Predicted Label\")\n",
    "plt.ylabel(\"True Label\")\n",
    "plt.show()"
   ]
  },
  {
   "cell_type": "markdown",
   "metadata": {
    "id": "9Y4MqTPR-pPY"
   },
   "source": [
    "### **XGBoost**"
   ]
  },
  {
   "cell_type": "code",
   "execution_count": 66,
   "metadata": {
    "colab": {
     "base_uri": "https://localhost:8080/"
    },
    "id": "9APcexXN-pP5",
    "outputId": "0850ad85-21d3-4ad1-fc56-a2f556e6386c"
   },
   "outputs": [
    {
     "name": "stdout",
     "output_type": "stream",
     "text": [
      "              precision    recall  f1-score   support\n",
      "\n",
      "           0       0.58      0.47      0.52        15\n",
      "           1       0.62      0.59      0.60        49\n",
      "           2       0.66      0.64      0.65        77\n",
      "           3       0.59      0.55      0.57        83\n",
      "           4       0.90      0.95      0.92       255\n",
      "\n",
      "    accuracy                           0.78       479\n",
      "   macro avg       0.67      0.64      0.65       479\n",
      "weighted avg       0.77      0.78      0.77       479\n",
      "\n"
     ]
    }
   ],
   "source": [
    "print(classification_report(y_test, xgb.predict(X_test)))"
   ]
  },
  {
   "cell_type": "code",
   "execution_count": 67,
   "metadata": {
    "colab": {
     "base_uri": "https://localhost:8080/",
     "height": 739
    },
    "id": "cqdqIV1c-pP7",
    "outputId": "374f9880-ac6b-4dcb-c2d9-ae1d0629c061"
   },
   "outputs": [
    {
     "data": {
      "image/png": "[encoded data removed]",
      "text/plain": [
       "<Figure size 800x800 with 2 Axes>"
      ]
     },
     "metadata": {},
     "output_type": "display_data"
    }
   ],
   "source": [
    "cm_xgb = confusion_matrix(y_test, xgb.predict(X_test))\n",
    "plt.figure(figsize=(8,8))\n",
    "sns.heatmap(cm_xgb, annot=True, cmap='Greens', fmt='.0f')\n",
    "plt.title(\"XGBoost\\nConfusion Matrix\")\n",
    "plt.xlabel(\"Predicted Label\")\n",
    "plt.ylabel(\"True Label\")\n",
    "plt.show()"
   ]
  },
  {
   "cell_type": "markdown",
   "metadata": {
    "id": "n1dkbtHeDIf0"
   },
   "source": [
    "### **Neural Network**"
   ]
  },
  {
   "cell_type": "markdown",
   "metadata": {
    "id": "s3VmBdudDoPW"
   },
   "source": [
    "#### **a Layer**"
   ]
  },
  {
   "cell_type": "code",
   "execution_count": 68,
   "metadata": {
    "colab": {
     "base_uri": "https://localhost:8080/"
    },
    "id": "a4TbRZF2DoP2",
    "outputId": "26d5b385-e2f7-412c-9347-36029c37ec8b"
   },
   "outputs": [
    {
     "name": "stdout",
     "output_type": "stream",
     "text": [
      "15/15 [==============================] - 1s 7ms/step\n",
      "              precision    recall  f1-score   support\n",
      "\n",
      "           0       0.62      0.53      0.57        15\n",
      "           1       0.72      0.69      0.71        49\n",
      "           2       0.71      0.75      0.73        77\n",
      "           3       0.61      0.61      0.61        83\n",
      "           4       0.93      0.93      0.93       255\n",
      "\n",
      "    accuracy                           0.81       479\n",
      "   macro avg       0.72      0.70      0.71       479\n",
      "weighted avg       0.81      0.81      0.81       479\n",
      "\n"
     ]
    }
   ],
   "source": [
    "print(classification_report(y_test, np.argmax(nn0.predict(X_test), axis=-1)))"
   ]
  },
  {
   "cell_type": "code",
   "execution_count": 69,
   "metadata": {
    "colab": {
     "base_uri": "https://localhost:8080/",
     "height": 756
    },
    "id": "eAY28g9PDoP4",
    "outputId": "18e799ba-bd12-448a-a45c-de34aa2c6ef7"
   },
   "outputs": [
    {
     "name": "stdout",
     "output_type": "stream",
     "text": [
      "15/15 [==============================] - 0s 9ms/step\n"
     ]
    },
    {
     "data": {
      "image/png": "[encoded data removed]",
      "text/plain": [
       "<Figure size 800x800 with 2 Axes>"
      ]
     },
     "metadata": {},
     "output_type": "display_data"
    }
   ],
   "source": [
    "cm_nn0 = confusion_matrix(y_test, np.argmax(nn0.predict(X_test), axis=-1))\n",
    "plt.figure(figsize=(8,8))\n",
    "sns.heatmap(cm_nn0, annot=True, cmap='Greens', fmt='.0f')\n",
    "plt.title(\"Neural Network with a Dense Layer\\nConfusion Matrix\")\n",
    "plt.xlabel(\"Predicted Label\")\n",
    "plt.ylabel(\"True Label\")\n",
    "plt.show()"
   ]
  },
  {
   "cell_type": "markdown",
   "metadata": {
    "id": "sF8O4OhFDob6"
   },
   "source": [
    "#### **Two Dense Layer**"
   ]
  },
  {
   "cell_type": "code",
   "execution_count": 70,
   "metadata": {
    "colab": {
     "base_uri": "https://localhost:8080/"
    },
    "id": "m1SofAo8Dob8",
    "outputId": "53272259-458c-42cf-93dc-8786760020e9"
   },
   "outputs": [
    {
     "name": "stdout",
     "output_type": "stream",
     "text": [
      "15/15 [==============================] - 1s 12ms/step\n",
      "              precision    recall  f1-score   support\n",
      "\n",
      "           0       0.69      0.73      0.71        15\n",
      "           1       0.76      0.63      0.69        49\n",
      "           2       0.67      0.73      0.70        77\n",
      "           3       0.62      0.58      0.60        83\n",
      "           4       0.92      0.95      0.93       255\n",
      "\n",
      "    accuracy                           0.81       479\n",
      "   macro avg       0.73      0.72      0.73       479\n",
      "weighted avg       0.81      0.81      0.81       479\n",
      "\n"
     ]
    }
   ],
   "source": [
    "print(classification_report(y_test, np.argmax(nn.predict(X_test), axis=-1)))"
   ]
  },
  {
   "cell_type": "code",
   "execution_count": 71,
   "metadata": {
    "colab": {
     "base_uri": "https://localhost:8080/",
     "height": 756
    },
    "id": "a6IfcyMmDob-",
    "outputId": "ef207ca5-3d2b-419e-c808-04da93ef91bc"
   },
   "outputs": [
    {
     "name": "stdout",
     "output_type": "stream",
     "text": [
      "15/15 [==============================] - 0s 10ms/step\n"
     ]
    },
    {
     "data": {
      "image/png": "[encoded data removed]",
      "text/plain": [
       "<Figure size 800x800 with 2 Axes>"
      ]
     },
     "metadata": {},
     "output_type": "display_data"
    }
   ],
   "source": [
    "cm_nn = confusion_matrix(y_test, np.argmax(nn.predict(X_test), axis=-1))\n",
    "plt.figure(figsize=(8,8))\n",
    "sns.heatmap(cm_nn, annot=True, cmap='Greens', fmt='.0f')\n",
    "plt.title(\"Neural Network with 2 Dense Layer\\nConfusion Matrix\")\n",
    "plt.xlabel(\"Predicted Label\")\n",
    "plt.ylabel(\"True Label\")\n",
    "plt.show()"
   ]
  },
  {
   "cell_type": "markdown",
   "metadata": {
    "id": "ypMfOv7pT4Al"
   },
   "source": [
    "## **Kesimpulan**"
   ]
  },
  {
   "cell_type": "markdown",
   "metadata": {
    "id": "lbOHvhoLT7We"
   },
   "source": [
    "1. Berdasarkan metrik evaluasi, dapat disimpulkan bahwa algoritma Artificial Neural Network dengan 2 Dense Layer mampu untuk memberikan hasil prediksi terbaik. Precision, Recall, dan F1 Score untuk setiap kelas menunjukkan performa yang cukup baik. Secara keseluruhan, model ANN dengan 2 Dense Layer memberikan akurasi yang terbaik, yaitu sebesar 81 %. Meskipun model ANN dengan 1 Dense Layer memiliki akurasi yang sama, namun F1 Score model dengan 2 Dense Layer untuk seluruh kelas lebih stabil dibandingkan model dengan 1 Dense Layer, sehingga dapat menggeneralisasi data dengan lebih baik.\n",
    "\n",
    "2. Faktor absensi dan dukungan orang tua menjadi faktor yang cukup berpengaruh terhadap prestasi siswa. Oleh karena itu, penting bagi orang tua untuk memberikan dukungan baik secara fisik ataupun mental kepada anak-anak mereka dalam kegiatan pembelajaran. Faktor absensi menjadi faktor terkuat dalam prestasi siswa. Peran sekolah dan guru diperlukan dalam hal pengawasan absensi siswa."
   ]
  },
  {
   "cell_type": "code",
   "execution_count": 73,
   "metadata": {},
   "outputs": [
    {
     "name": "stderr",
     "output_type": "stream",
     "text": [
      "C:\\Users\\User\\anaconda3\\envs\\trileven\\Lib\\site-packages\\keras\\src\\engine\\training.py:3103: UserWarning: You are saving your model as an HDF5 file via `model.save()`. This file format is considered legacy. We recommend using instead the native Keras format, e.g. `model.save('my_model.keras')`.\n",
      "  saving_api.save_model(\n"
     ]
    }
   ],
   "source": [
    "nn.save('student_prediction.h5')"
   ]
  },
  {
   "cell_type": "markdown",
   "metadata": {},
   "source": [
    "## **Daftar Pustaka**"
   ]
  },
  {
   "cell_type": "markdown",
   "metadata": {},
   "source": [
    "[1] Yandi, A., Putri, A.N.K. and Putri, Y.S.K., 2023. Faktor-Faktor Yang Mempengarui Hasil Belajar Peserta Didik (Literature Review). Jurnal Pendidikan Siber Nusantara, 1(1), pp.13-24.\n",
    "\n",
    "[2] Mawarsih, S.E. and Hamidi, N., 2013. Pengaruh perhatian orang tua dan motivasi belajar terhadap prestasi belajar siswa sma negeri jumapolo. Jupe-Jurnal Pendidikan Ekonomi, 1(3)."
   ]
  }
 ],
 "metadata": {
  "accelerator": "GPU",
  "colab": {
   "gpuType": "T4",
   "provenance": []
  },
  "kernelspec": {
   "display_name": "trileven",
   "language": "python",
   "name": "trileven"
  },
  "language_info": {
   "codemirror_mode": {
    "name": "ipython",
    "version": 3
   },
   "file_extension": ".py",
   "mimetype": "text/x-python",
   "name": "python",
   "nbconvert_exporter": "python",
   "pygments_lexer": "ipython3",
   "version": "3.11.0"
  }
 },
 "nbformat": 4,
 "nbformat_minor": 4
}
